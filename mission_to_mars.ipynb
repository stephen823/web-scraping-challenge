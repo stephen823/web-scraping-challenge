{
 "cells": [
  {
   "cell_type": "code",
   "execution_count": 13,
   "metadata": {},
   "outputs": [
    {
     "name": "stdout",
     "output_type": "stream",
     "text": [
      "/usr/local/bin/chromedriver\r\n"
     ]
    }
   ],
   "source": [
    "#Find location of chromedriver\n",
    "!which chromedriver"
   ]
  },
  {
   "cell_type": "code",
   "execution_count": 82,
   "metadata": {},
   "outputs": [],
   "source": [
    "from splinter import Browser\n",
    "from bs4 import BeautifulSoup\n",
    "from selenium.webdriver.chrome.options import Options\n",
    "import requests\n",
    "import warnings\n",
    "warnings.filterwarnings(\"ignore\")"
   ]
  },
  {
   "cell_type": "code",
   "execution_count": 83,
   "metadata": {},
   "outputs": [],
   "source": [
    "#Define path and browser\n",
    "#executable_path = {'executable_path': '/Users/apple/Downloads/chromedriver'}\n",
    "#browser = Browser('chrome', **executable_path, headless=True)\n",
    "executable_path = {\"executable_path\": \"/Users/apple/Downloads/chromedriver\"}\n",
    "browser=Browser(\"chrome\", **executable_path, headless=False)"
   ]
  },
  {
   "cell_type": "code",
   "execution_count": 84,
   "metadata": {},
   "outputs": [],
   "source": [
    "#Visit NASA webpage\n",
    "url = 'https://mars.nasa.gov/news/?page=0&per_page=40&order=publish_date+desc%2Ccreated_at+desc&search=&category=19%2C165%2C184%2C204&blank_scope=Latest'\n",
    "browser.visit(url)"
   ]
  },
  {
   "cell_type": "code",
   "execution_count": 85,
   "metadata": {},
   "outputs": [
    {
     "name": "stdout",
     "output_type": "stream",
     "text": [
      "The Launch Is Approaching for NASA's Next Mars Rover, Perseverance\n",
      "The Red Planet's surface has been visited by eight NASA spacecraft. The ninth will be the first that includes a roundtrip ticket in its flight plan. \n"
     ]
    }
   ],
   "source": [
    "#Scrape title and paragraph of lastest news\n",
    "html = browser.html\n",
    "soup = BeautifulSoup(html, 'html.parser')\n",
    "#Extract lastest news title\n",
    "divs_title = soup.find_all('div', class_='content_title')\n",
    "lastest_cont=divs_title[1].find('a', target='_self')\n",
    "lastest_news_title=lastest_cont.getText()\n",
    "print(lastest_news_title)\n",
    "\n",
    "#Extract Pragraph text\n",
    "divs_paragraph=soup.find_all('div', class_='article_teaser_body')\n",
    "lastest_news_paragraph=divs_paragraph[0].getText()\n",
    "print(lastest_news_paragraph)"
   ]
  },
  {
   "cell_type": "code",
   "execution_count": 86,
   "metadata": {},
   "outputs": [],
   "source": [
    "#Visit JPL Featured Space Image page\n",
    "url = 'https://www.jpl.nasa.gov/spaceimages/?search=&category=Mars'\n",
    "browser.visit(url)"
   ]
  },
  {
   "cell_type": "code",
   "execution_count": 87,
   "metadata": {},
   "outputs": [],
   "source": [
    "#Scrape JPL Featured Space Image\n",
    "html = browser.html\n",
    "soup = BeautifulSoup(html, 'html.parser')"
   ]
  },
  {
   "cell_type": "code",
   "execution_count": 88,
   "metadata": {},
   "outputs": [
    {
     "data": {
      "text/plain": [
       "'https://www.jpl.nasa.gov/spaceimages/images/mediumsize/PIA17652_ip.jpg'"
      ]
     },
     "execution_count": 88,
     "metadata": {},
     "output_type": "execute_result"
    }
   ],
   "source": [
    "#Extract feature image url\n",
    "art_image = soup.find_all('article', class_='carousel_item')\n",
    "article_img=art_image[0].find('a',class_=\"button fancybox\")\n",
    "featured_image_url=article_img['data-fancybox-href']\n",
    "featured_image_url='https://www.jpl.nasa.gov'+featured_image_url\n",
    "featured_image_url"
   ]
  },
  {
   "cell_type": "code",
   "execution_count": 107,
   "metadata": {},
   "outputs": [],
   "source": [
    "#Visit Mars Weather twitter account\n",
    "url = 'https://twitter.com/marswxreport?lang=en'\n",
    "browser.visit(url)\n",
    "#html=requests.get(url).text\n"
   ]
  },
  {
   "cell_type": "code",
   "execution_count": 110,
   "metadata": {},
   "outputs": [
    {
     "name": "stdout",
     "output_type": "stream",
     "text": [
      "InSight sol 557 (2020-06-21) low -84.1ºC (-119.5ºF) high -1.0ºC (30.3ºF)\n",
      "winds from the WNW at 3.8 m/s (8.5 mph) gusting to 13.6 m/s (30.3 mph)\n",
      "pressure at 7.50 hPa\n"
     ]
    }
   ],
   "source": [
    "#Scrape Mars Weather twitter account\n",
    "html = browser.html\n",
    "soup = BeautifulSoup(html, 'html.parser')\n",
    "print(pattern.search(str(soup)).group(0))"
   ]
  },
  {
   "cell_type": "code",
   "execution_count": 106,
   "metadata": {},
   "outputs": [
    {
     "name": "stdout",
     "output_type": "stream",
     "text": [
      "<_sre.SRE_Match object; span=(4377, 4541), match='InSight sol 557 (2020-06-21) low -84.1ºC (-119.5º>\n",
      "<_sre.SRE_Match object; span=(4377, 4541), match='InSight sol 557 (2020-06-21) low -84.1ºC (-119.5º>\n"
     ]
    },
    {
     "data": {
      "text/plain": [
       "'InSight sol 557 (2020-06-21) low -84.1ºC (-119.5ºF) high -1.0ºC (30.3ºF)winds from the WNW at 3.8 m/s (8.5 mph) gusting to 13.6 m/s (30.3 mph)pressure at 7.50 hPa'"
      ]
     },
     "execution_count": 106,
     "metadata": {},
     "output_type": "execute_result"
    }
   ],
   "source": [
    "#Scrape tweet\n",
    "try:\n",
    "    weather_tweet = soup.find_all(attrs={'data-testid': 'tweet'})\n",
    "    weather_tweet1=weather_tweet[0]\n",
    "except IndexError:\n",
    "    import re\n",
    "    #pattern=re.compile(r'sol')\n",
    "    pattern=re.compile(r\"InSight sol \\d*\\s\\(.*?\\)\\slow\\s.*?ºC\\s\\(.*?\\)\\shigh\\s.*?ºC\\s\\(.*?\\)\\nwinds\\s\\D*\\d*.\\d*\\s.{3}\\s\\(.*?mph\\)\\s.*\\(.*?mph\\)\\npressure.*hPa\")\n",
    "    matches=pattern.search(str(soup))\n",
    "import re\n",
    "try:\n",
    "    pattern=re.compile(r\"InSight sol \\d*\\s\\(.*?\\)\\slow\\s.*?ºC\\s\\(.*?\\)\\shigh\\s.*?ºC\\s\\(.*?\\)\\nwinds\\s\\D*\\d*.\\d*\\s.{3}\\s\\(.*?mph\\)\\s.*\\(.*?mph\\)\\npressure.*hPa\")\n",
    "    matches=pattern.search(str(weather_tweet1))\n",
    "except:\n",
    "    pass\n",
    "print(matches)\n",
    "weather=matches.group(0)\n",
    "#try:\n",
    "    #weather=matches.group(0)\n",
    "#except:\n",
    "    #import requests\n",
    "    #html=requests.get(url).text\n",
    "    #pattern=re.compile(r\"InSight sol \\d*\\s\\(.*?\\)\\slow\\s.*?ºC\\s\\(.*?\\)\\shigh\\s.*?ºC\\s\\(.*?\\)\\nwinds\\s\\D*\\d*.\\d*\\s.{3}\\s\\(.*?mph\\)\\s.*\\(.*?mph\\)\\npressure.*hPa\")\n",
    "    #matches=pattern.search(str(html))\n",
    "    #weather=matches.group(0)\n",
    "print(matches)        \n",
    "weather1=weather.split('\\n')\n",
    "#print(weather)\n",
    "#print(weather1)\n",
    "tweet=weather1[0]+weather1[1]+weather1[2]\n",
    "tweet"
   ]
  },
  {
   "cell_type": "code",
   "execution_count": 92,
   "metadata": {},
   "outputs": [
    {
     "data": {
      "text/plain": [
       "'InSight sol 557 (2020-06-21) low -84.1ºC (-119.5ºF) high -1.0ºC (30.3ºF)\\nwinds from the WNW at 3.8 m/s (8.5 mph) gusting to 13.6 m/s (30.3 mph)\\npressure at 7.50 hPa'"
      ]
     },
     "execution_count": 92,
     "metadata": {},
     "output_type": "execute_result"
    }
   ],
   "source": [
    "matches.group(0)"
   ]
  },
  {
   "cell_type": "code",
   "execution_count": 99,
   "metadata": {},
   "outputs": [
    {
     "name": "stdout",
     "output_type": "stream",
     "text": [
      "<!DOCTYPE html>\n",
      "<html dir=\"ltr\" lang=\"en\">\n",
      "<meta charset=\"utf-8\" />\n",
      "<meta name=\"viewport\" content=\"width=device-width,initial-scale=1,maximum-scale=1,user-scalable=0,viewport-fit=cover\" />\n",
      "<link rel=\"preconnect\" href=\"//abs.twimg.com\" />\n",
      "<link rel=\"preconnect\" href=\"//api.twitter.com\" />\n",
      "<link rel=\"preconnect\" href=\"//pbs.twimg.com\" />\n",
      "<link rel=\"preconnect\" href=\"//t.co\" />\n",
      "<link rel=\"preconnect\" href=\"//video.twimg.com\" />\n",
      "<link rel=\"dns-prefetch\" href=\"//abs.twimg.com\" />\n",
      "<link rel=\"dns-prefetch\" href=\"//api.twitter.com\" />\n",
      "<link rel=\"dns-prefetch\" href=\"//pbs.twimg.com\" />\n",
      "<link rel=\"dns-prefetch\" href=\"//t.co\" />\n",
      "<link rel=\"dns-prefetch\" href=\"//video.twimg.com\" />\n",
      "<link rel=\"preload\" as=\"script\" crossorigin=\"anonymous\" href=\"https://abs.twimg.com/responsive-web/web/polyfills.aa560c44.js\" nonce=\"MzI4OThiYjItYjUyMS00MTU4LWE2Y2UtYjk0ZTEyYzc1OWQx\" />\n",
      "<link rel=\"preload\" as=\"script\" crossorigin=\"anonymous\" href=\"https://abs.twimg.com/responsive-web/web/vendors~main.805584a4.js\" nonce=\"MzI4OThiYjItYjUyMS00MTU4LWE2Y2UtYjk0ZTEyYzc1OWQx\" />\n",
      "<link rel=\"preload\" as=\"script\" crossorigin=\"anonymous\" href=\"https://abs.twimg.com/responsive-web/web/i18n-rweb/en.3bf1e624.js\" nonce=\"MzI4OThiYjItYjUyMS00MTU4LWE2Y2UtYjk0ZTEyYzc1OWQx\" />\n",
      "<link rel=\"preload\" as=\"script\" crossorigin=\"anonymous\" href=\"https://abs.twimg.com/responsive-web/web/i18n-horizon/en.3a9553d4.js\" nonce=\"MzI4OThiYjItYjUyMS00MTU4LWE2Y2UtYjk0ZTEyYzc1OWQx\" />\n",
      "<link rel=\"preload\" as=\"script\" crossorigin=\"anonymous\" href=\"https://abs.twimg.com/responsive-web/web/main.92eeeb04.js\" nonce=\"MzI4OThiYjItYjUyMS00MTU4LWE2Y2UtYjk0ZTEyYzc1OWQx\" />\n",
      "<meta property=\"fb:app_id\" content=\"2231777543\" />\n",
      "<meta property=\"og:site_name\" content=\"Twitter\" />\n",
      "<meta name=\"google-site-verification\" content=\"V0yIS0Ec_o3Ii9KThrCoMCkwTYMMJ_JYx_RSaGhFYvw\" />\n",
      "<link rel=\"manifest\" href=\"/manifest.json\" crossOrigin=\"use-credentials\" />\n",
      "<link rel=\"alternate\" hreflang=\"x-default\" href=\"https://twitter.com/marswxreport?lang&#x3D;en\" />\n",
      "<link rel=\"alternate\" hreflang=\"ar\" href=\"https://twitter.com/marswxreport?lang&#x3D;ar\" />\n",
      "<link rel=\"alternate\" hreflang=\"bg\" href=\"https://twitter.com/marswxreport?lang&#x3D;bg\" />\n",
      "<link rel=\"alternate\" hreflang=\"bn\" href=\"https://twitter.com/marswxreport?lang&#x3D;bn\" />\n",
      "<link rel=\"alternate\" hreflang=\"ca\" href=\"https://twitter.com/marswxreport?lang&#x3D;ca\" />\n",
      "<link rel=\"alternate\" hreflang=\"cs\" href=\"https://twitter.com/marswxreport?lang&#x3D;cs\" />\n",
      "<link rel=\"alternate\" hreflang=\"da\" href=\"https://twitter.com/marswxreport?lang&#x3D;da\" />\n",
      "<link rel=\"alternate\" hreflang=\"de\" href=\"https://twitter.com/marswxreport?lang&#x3D;de\" />\n",
      "<link rel=\"alternate\" hreflang=\"el\" href=\"https://twitter.com/marswxreport?lang&#x3D;el\" />\n",
      "<link rel=\"alternate\" hreflang=\"en\" href=\"https://twitter.com/marswxreport?lang&#x3D;en\" />\n",
      "<link rel=\"alternate\" hreflang=\"en-GB\" href=\"https://twitter.com/marswxreport?lang&#x3D;en-GB\" />\n",
      "<link rel=\"alternate\" hreflang=\"es\" href=\"https://twitter.com/marswxreport?lang&#x3D;es\" />\n",
      "<link rel=\"alternate\" hreflang=\"eu\" href=\"https://twitter.com/marswxreport?lang&#x3D;eu\" />\n",
      "<link rel=\"alternate\" hreflang=\"fa\" href=\"https://twitter.com/marswxreport?lang&#x3D;fa\" />\n",
      "<link rel=\"alternate\" hreflang=\"fi\" href=\"https://twitter.com/marswxreport?lang&#x3D;fi\" />\n",
      "<link rel=\"alternate\" hreflang=\"tl\" href=\"https://twitter.com/marswxreport?lang&#x3D;tl\" />\n",
      "<link rel=\"alternate\" hreflang=\"fr\" href=\"https://twitter.com/marswxreport?lang&#x3D;fr\" />\n",
      "<link rel=\"alternate\" hreflang=\"ga\" href=\"https://twitter.com/marswxreport?lang&#x3D;ga\" />\n",
      "<link rel=\"alternate\" hreflang=\"gl\" href=\"https://twitter.com/marswxreport?lang&#x3D;gl\" />\n",
      "<link rel=\"alternate\" hreflang=\"gu\" href=\"https://twitter.com/marswxreport?lang&#x3D;gu\" />\n",
      "<link rel=\"alternate\" hreflang=\"he\" href=\"https://twitter.com/marswxreport?lang&#x3D;he\" />\n",
      "<link rel=\"alternate\" hreflang=\"hi\" href=\"https://twitter.com/marswxreport?lang&#x3D;hi\" />\n",
      "<link rel=\"alternate\" hreflang=\"hr\" href=\"https://twitter.com/marswxreport?lang&#x3D;hr\" />\n",
      "<link rel=\"alternate\" hreflang=\"hu\" href=\"https://twitter.com/marswxreport?lang&#x3D;hu\" />\n",
      "<link rel=\"alternate\" hreflang=\"id\" href=\"https://twitter.com/marswxreport?lang&#x3D;id\" />\n",
      "<link rel=\"alternate\" hreflang=\"it\" href=\"https://twitter.com/marswxreport?lang&#x3D;it\" />\n",
      "<link rel=\"alternate\" hreflang=\"ja\" href=\"https://twitter.com/marswxreport?lang&#x3D;ja\" />\n",
      "<link rel=\"alternate\" hreflang=\"kn\" href=\"https://twitter.com/marswxreport?lang&#x3D;kn\" />\n",
      "<link rel=\"alternate\" hreflang=\"ko\" href=\"https://twitter.com/marswxreport?lang&#x3D;ko\" />\n",
      "<link rel=\"alternate\" hreflang=\"mr\" href=\"https://twitter.com/marswxreport?lang&#x3D;mr\" />\n",
      "<link rel=\"alternate\" hreflang=\"ms\" href=\"https://twitter.com/marswxreport?lang&#x3D;ms\" />\n",
      "<link rel=\"alternate\" hreflang=\"nb\" href=\"https://twitter.com/marswxreport?lang&#x3D;nb\" />\n",
      "<link rel=\"alternate\" hreflang=\"nl\" href=\"https://twitter.com/marswxreport?lang&#x3D;nl\" />\n",
      "<link rel=\"alternate\" hreflang=\"pl\" href=\"https://twitter.com/marswxreport?lang&#x3D;pl\" />\n",
      "<link rel=\"alternate\" hreflang=\"pt\" href=\"https://twitter.com/marswxreport?lang&#x3D;pt\" />\n",
      "<link rel=\"alternate\" hreflang=\"ro\" href=\"https://twitter.com/marswxreport?lang&#x3D;ro\" />\n",
      "<link rel=\"alternate\" hreflang=\"ru\" href=\"https://twitter.com/marswxreport?lang&#x3D;ru\" />\n",
      "<link rel=\"alternate\" hreflang=\"sk\" href=\"https://twitter.com/marswxreport?lang&#x3D;sk\" />\n",
      "<link rel=\"alternate\" hreflang=\"sr\" href=\"https://twitter.com/marswxreport?lang&#x3D;sr\" />\n",
      "<link rel=\"alternate\" hreflang=\"sv\" href=\"https://twitter.com/marswxreport?lang&#x3D;sv\" />\n",
      "<link rel=\"alternate\" hreflang=\"ta\" href=\"https://twitter.com/marswxreport?lang&#x3D;ta\" />\n",
      "<link rel=\"alternate\" hreflang=\"th\" href=\"https://twitter.com/marswxreport?lang&#x3D;th\" />\n",
      "<link rel=\"alternate\" hreflang=\"tr\" href=\"https://twitter.com/marswxreport?lang&#x3D;tr\" />\n",
      "<link rel=\"alternate\" hreflang=\"uk\" href=\"https://twitter.com/marswxreport?lang&#x3D;uk\" />\n",
      "<link rel=\"alternate\" hreflang=\"ur\" href=\"https://twitter.com/marswxreport?lang&#x3D;ur\" />\n",
      "<link rel=\"alternate\" hreflang=\"vi\" href=\"https://twitter.com/marswxreport?lang&#x3D;vi\" />\n",
      "<link rel=\"alternate\" hreflang=\"zh\" href=\"https://twitter.com/marswxreport?lang&#x3D;zh\" />\n",
      "<link rel=\"alternate\" hreflang=\"zh-Hant\" href=\"https://twitter.com/marswxreport?lang&#x3D;zh-Hant\" />\n",
      "<link rel=\"canonical\" href=\"https://twitter.com/marswxreport\" data-rdm />\n",
      "<link rel=\"mask-icon\" sizes=\"any\" href=\"https://abs.twimg.com/responsive-web/web/icon-svg.9e211f64.svg\" color=\"#1da1f2\">\n",
      "<link rel=\"shortcut icon\" href=\"//abs.twimg.com/favicons/twitter.ico\" type=\"image/x-icon\">\n",
      "<link rel=\"apple-touch-icon\" sizes=\"192x192\" href=\"https://abs.twimg.com/responsive-web/web/icon-ios.8ea219d4.png\" />\n",
      "<meta name=\"mobile-web-app-capable\" content=\"yes\" />\n",
      "<meta name=\"apple-mobile-web-app-title\" content=\"Twitter\" />\n",
      "<meta name=\"apple-mobile-web-app-status-bar-style\" content=\"white\" />\n",
      "<meta name=\"theme-color\" content=\"#ffffff\" />\n",
      "<meta http-equiv=\"origin-trial\" content=\"Ap6SMBNB0lQoXpXl4I9vyTJqJ7Y0X9tPd6Q6rN697iHdubQQxBcWHy21N3N7uEz7Ba5UKMbN+eLvDczBSbi27AsAAABfeyJvcmlnaW4iOiJodHRwczovL3R3aXR0ZXIuY29tOjQ0MyIsImZlYXR1cmUiOiJCYWRnaW5nIiwiZXhwaXJ5IjoxNTY0NTgyNzY2LCJpc1N1YmRvbWFpbiI6dHJ1ZX0=\" />\n",
      "<meta http-equiv=\"origin-trial\" content=\"Apir4chqTX+4eFxKD+ErQlKRB/VtZ/dvnLfd9Y9Nenl5r1xJcf81alryTHYQiuUlz9Q49MqGXqyaiSmqWzHUqQwAAABneyJvcmlnaW4iOiJodHRwczovL3R3aXR0ZXIuY29tOjQ0MyIsImZlYXR1cmUiOiJDb250YWN0c01hbmFnZXIiLCJleHBpcnkiOjE1NzUwMzUyODMsImlzU3ViZG9tYWluIjp0cnVlfQ==\" />\n",
      "<meta http-equiv=\"origin-trial\" content=\"AleGS26SZL7UA8Fe1DbvXzoay74bPTvrfKKGimIu1RI8vA+RtXOSVlizUkz2zU/fQoFoOTgCiCciP6pM5teaeQgAAABjeyJvcmlnaW4iOiJodHRwczovL3R3aXR0ZXIuY29tOjQ0MyIsImZlYXR1cmUiOiJTbXNSZWNlaXZlciIsImV4cGlyeSI6MTU3OTAyMDkyMSwiaXNTdWJkb21haW4iOnRydWV9\" />\n",
      "\n",
      "<style>html,body{height: 100%;}body{-ms-overflow-style:scrollbar;overflow-y:scroll;overscroll-behavior-y:none;}</style>\n",
      "<style id=\"react-native-stylesheet\">[stylesheet-group=\"0\"]{}\n",
      "html{-ms-text-size-adjust:100%;-webkit-text-size-adjust:100%;-webkit-tap-highlight-color:rgba(0,0,0,0);}\n",
      "body{margin:0;}\n",
      "button::-moz-focus-inner,input::-moz-focus-inner{border:0;padding:0;}\n",
      "input::-webkit-inner-spin-button,input::-webkit-outer-spin-button,input::-webkit-search-cancel-button,input::-webkit-search-decoration,input::-webkit-search-results-button,input::-webkit-search-results-decoration{display:none;}\n",
      "[stylesheet-group=\"0.1\"]{}\n",
      ":focus:not([data-focusvisible-polyfill]){outline: none;}\n",
      "[stylesheet-group=\"1\"]{}\n",
      ".css-1dbjc4n{-ms-flex-align:stretch;-ms-flex-direction:column;-ms-flex-negative:0;-ms-flex-preferred-size:auto;-webkit-align-items:stretch;-webkit-box-align:stretch;-webkit-box-direction:normal;-webkit-box-orient:vertical;-webkit-flex-basis:auto;-webkit-flex-direction:column;-webkit-flex-shrink:0;align-items:stretch;border:0 solid black;box-sizing:border-box;display:-webkit-box;display:-moz-box;display:-ms-flexbox;display:-webkit-flex;display:flex;flex-basis:auto;flex-direction:column;flex-shrink:0;margin-bottom:0px;margin-left:0px;margin-right:0px;margin-top:0px;min-height:0px;min-width:0px;padding-bottom:0px;padding-left:0px;padding-right:0px;padding-top:0px;position:relative;z-index:0;}\n",
      ".css-901oao{border:0 solid black;box-sizing:border-box;color:rgba(0,0,0,1.00);display:inline;font:14px system-ui,-apple-system,BlinkMacSystemFont,\"Segoe UI\",Roboto,Ubuntu,\"Helvetica Neue\",sans-serif;margin-bottom:0px;margin-left:0px;margin-right:0px;margin-top:0px;padding-bottom:0px;padding-left:0px;padding-right:0px;padding-top:0px;white-space:pre-wrap;word-wrap:break-word;}\n",
      ".css-16my406{color:inherit;font:inherit;white-space:inherit;}\n",
      "[stylesheet-group=\"2\"]{}\n",
      ".r-13awgt0{-ms-flex-negative:1;-ms-flex-positive:1;-ms-flex-preferred-size:0%;-webkit-box-flex:1;-webkit-flex-basis:0%;-webkit-flex-grow:1;-webkit-flex-shrink:1;flex-basis:0%;flex-grow:1;flex-shrink:1;}\n",
      ".r-4qtqp9{display:inline-block;}\n",
      ".r-ywje51{margin-bottom:auto;margin-left:auto;margin-right:auto;margin-top:auto;}\n",
      ".r-hvic4v{display:none;}\n",
      ".r-1adg3ll{display:block;}\n",
      "[stylesheet-group=\"2.2\"]{}\n",
      ".r-12vffkv>*{pointer-events:auto;}\n",
      ".r-12vffkv{pointer-events:none!important;}\n",
      ".r-14lw9ot{background-color:rgba(255,255,255,1.00);}\n",
      ".r-1p0dtai{bottom:0px;}\n",
      ".r-1d2f490{left:0px;}\n",
      ".r-1xcajam{position:fixed;}\n",
      ".r-zchlnj{right:0px;}\n",
      ".r-ipm5af{top:0px;}\n",
      ".r-yyyyoo{fill:currentcolor;}\n",
      ".r-1xvli5t{height:1.25em;}\n",
      ".r-dnmrzs{max-width:100%;}\n",
      ".r-bnwqim{position:relative;}\n",
      ".r-1plcrui{vertical-align:text-bottom;}\n",
      ".r-lrvibr{-moz-user-select:none;-ms-user-select:none;-webkit-user-select:none;user-select:none;}\n",
      ".r-13gxpu9{color:rgba(29,161,242,1.00);}\n",
      ".r-wy61xf{height:72px;}\n",
      ".r-u8s1d{position:absolute;}\n",
      ".r-1blnp2b{width:72px;}\n",
      ".r-1ykxob0{top:60%;}\n",
      ".r-1b2b6em{line-height:2em;}\n",
      ".r-q4m81j{text-align:center;}</style>\n",
      "\n",
      "\n",
      "\n",
      "<body>\n",
      "  <noscript>\n",
      "    <form action=\"https://mobile.twitter.com/i/nojs_router?path=%2Fmarswxreport%3Flang%3Den\" method=\"POST\" style=\"background-color: #fff; position: fixed; top: 0; left: 0; right: 0; bottom: 0; z-index: 9999;\">\n",
      "      <div style=\"font-size: 18px; font-family: Helvetica,sans-serif; line-height: 24px; margin: 10%; width: 80%;\">\n",
      "        <p>We've detected that JavaScript is disabled in your browser. Would you like to proceed to legacy Twitter?</p>\n",
      "        <p style=\"margin: 20px 0;\">\n",
      "          <button type=\"submit\" style=\"background-color: #1da1f2; border-radius: 100px; border: none; box-shadow: none; color: #fff; cursor: pointer; font-size: 14px; font-weight: bold; line-height: 20px; padding: 6px 16px;\">Yes</button>\n",
      "        </p>\n",
      "      </div>\n",
      "    </form>\n",
      "  </noscript>\n",
      "  <div id=\"react-root\" style=\"height:100%;display:flex;\"><div class=\"css-1dbjc4n r-13awgt0 r-12vffkv\"><div class=\"css-1dbjc4n r-13awgt0 r-12vffkv\"><div aria-label=\"Loading…\" class=\"css-1dbjc4n r-14lw9ot r-1p0dtai r-1d2f490 r-1xcajam r-zchlnj r-ipm5af\"><svg viewBox=\"0 0 24 24\" class=\"r-1p0dtai r-13gxpu9 r-4qtqp9 r-yyyyoo r-wy61xf r-1d2f490 r-ywje51 r-dnmrzs r-u8s1d r-zchlnj r-1plcrui r-ipm5af r-lrvibr r-1blnp2b\"><g><path d=\"M23.643 4.937c-.835.37-1.732.62-2.675.733.962-.576 1.7-1.49 2.048-2.578-.9.534-1.897.922-2.958 1.13-.85-.904-2.06-1.47-3.4-1.47-2.572 0-4.658 2.086-4.658 4.66 0 .364.042.718.12 1.06-3.873-.195-7.304-2.05-9.602-4.868-.4.69-.63 1.49-.63 2.342 0 1.616.823 3.043 2.072 3.878-.764-.025-1.482-.234-2.11-.583v.06c0 2.257 1.605 4.14 3.737 4.568-.392.106-.803.162-1.227.162-.3 0-.593-.028-.877-.082.593 1.85 2.313 3.198 4.352 3.234-1.595 1.25-3.604 1.995-5.786 1.995-.376 0-.747-.022-1.112-.065 2.062 1.323 4.51 2.093 7.14 2.093 8.57 0 13.255-7.098 13.255-13.254 0-.2-.005-.402-.014-.602.91-.658 1.7-1.477 2.323-2.41z\"></path></g></svg></div><div class=\"css-1dbjc4n r-hvic4v r-1d2f490 r-1xcajam r-zchlnj r-1ykxob0\" id=\"ScriptLoadFailure\"><form action=\"\" method=\"GET\"><div dir=\"auto\" class=\"css-901oao r-1adg3ll r-1b2b6em r-q4m81j\"><span dir=\"auto\" class=\"css-901oao css-16my406\">Something went wrong, but don’t fret — let’s give it another shot.</span><br/><input type=\"submit\" value=\"Try again\"/></div></form></div></div></div></div>\n",
      "<script nonce=\"MzI4OThiYjItYjUyMS00MTU4LWE2Y2UtYjk0ZTEyYzc1OWQx\">\n",
      "window.__INITIAL_STATE__ = {\"optimist\":[],\"featureSwitch\":{\"config\":{\"account_country_setting_countries_whitelist\":{\"value\":[\"ad\",\"ae\",\"af\",\"ag\",\"ai\",\"al\",\"am\",\"ao\",\"ar\",\"as\",\"at\",\"au\",\"aw\",\"ax\",\"az\",\"ba\",\"bb\",\"bd\",\"be\",\"bf\",\"bg\",\"bh\",\"bi\",\"bj\",\"bl\",\"bm\",\"bn\",\"bo\",\"bq\",\"br\",\"bs\",\"bt\",\"bv\",\"bw\",\"by\",\"bz\",\"ca\",\"cc\",\"cd\",\"cf\",\"cg\",\"ch\",\"ci\",\"ck\",\"cl\",\"cm\",\"co\",\"cr\",\"cu\",\"cv\",\"cw\",\"cx\",\"cy\",\"cz\",\"de\",\"dj\",\"dk\",\"dm\",\"do\",\"dz\",\"ec\",\"ee\",\"eg\",\"er\",\"es\",\"et\",\"fi\",\"fj\",\"fk\",\"fm\",\"fo\",\"fr\",\"ga\",\"gb\",\"gd\",\"ge\",\"gf\",\"gg\",\"gh\",\"gi\",\"gl\",\"gm\",\"gn\",\"gp\",\"gq\",\"gr\",\"gs\",\"gt\",\"gu\",\"gw\",\"gy\",\"hk\",\"hn\",\"hr\",\"ht\",\"hu\",\"id\",\"ie\",\"il\",\"im\",\"in\",\"io\",\"iq\",\"ir\",\"is\",\"it\",\"je\",\"jm\",\"jo\",\"jp\",\"ke\",\"kg\",\"kh\",\"ki\",\"km\",\"kn\",\"kr\",\"kw\",\"ky\",\"kz\",\"la\",\"lb\",\"lc\",\"li\",\"lk\",\"lr\",\"ls\",\"lt\",\"lu\",\"lv\",\"ly\",\"ma\",\"mc\",\"md\",\"me\",\"mf\",\"mg\",\"mh\",\"mk\",\"ml\",\"mn\",\"mo\",\"mp\",\"mq\",\"mr\",\"ms\",\"mt\",\"mu\",\"mv\",\"mw\",\"mx\",\"my\",\"mz\",\"na\",\"nc\",\"ne\",\"nf\",\"ng\",\"ni\",\"nl\",\"no\",\"np\",\"nr\",\"nu\",\"nz\",\"om\",\"pa\",\"pe\",\"pf\",\"pg\",\"ph\",\"pk\",\"pl\",\"pm\",\"pn\",\"pr\",\"ps\",\"pt\",\"pw\",\"py\",\"qa\",\"re\",\"ro\",\"rs\",\"ru\",\"rw\",\"sa\",\"sb\",\"sc\",\"se\",\"sg\",\"sh\",\"si\",\"sk\",\"sl\",\"sm\",\"sn\",\"so\",\"sr\",\"st\",\"sv\",\"sx\",\"sz\",\"tc\",\"td\",\"tf\",\"tg\",\"th\",\"tj\",\"tk\",\"tl\",\"tm\",\"tn\",\"to\",\"tr\",\"tt\",\"tv\",\"tw\",\"tz\",\"ua\",\"ug\",\"us\",\"uy\",\"uz\",\"va\",\"vc\",\"ve\",\"vi\",\"vn\",\"vu\",\"wf\",\"ws\",\"xk\",\"ye\",\"yt\",\"za\",\"zm\",\"zw\"]},\"author_moderated_replies_urt_container_enabled\":{\"value\":false},\"content_language_setting_enabled\":{\"value\":true},\"conversation_controls_limited_replies_creation_enabled\":{\"value\":false},\"conversation_controls_limited_replies_consumption_configuration\":{\"value\":\"no_reply\"},\"dm_reactions_config_active_reactions\":{\"value\":[\"😂:funny\",\"😲:surprised\",\"😢:sad\",\"❤:like\",\"🔥:excited\",\"👍:agree\",\"👎:disagree\"]},\"dm_reactions_config_inactive_reactions\":{\"value\":[\"😠:angry\"]},\"guest_broadcasting_timeline_decorations_enabled\":{\"value\":true},\"home_timeline_latest_timeline_autoswitch_half_life_minutes\":{\"value\":43200},\"home_timeline_latest_timeline_autoswitch_threshold_multiplier\":{\"value\":2},\"home_timeline_latest_timeline_max_time_to_autoswitch_minutes\":{\"value\":5256000},\"home_timeline_latest_timeline_min_time_to_autoswitch_minutes\":{\"value\":5256000},\"home_timeline_latest_timeline_switch_enabled\":{\"value\":true},\"home_timeline_latest_timeline_threshold_to_increase_autoswitch_seconds\":{\"value\":60},\"home_timeline_spheres_copy_variant\":{\"value\":\"list_follow\"},\"home_timeline_spheres_custom_banner_image_reads_enabled\":{\"value\":true},\"home_timeline_spheres_detail_page_muting_enabled\":{\"value\":true},\"home_timeline_spheres_creation_and_edit_flows_enabled\":{\"value\":true},\"home_timeline_spheres_list_cell_thumbnail_enabled\":{\"value\":true},\"home_timeline_spheres_max_user_owned_or_subscribed_lists_count\":{\"value\":5},\"home_timeline_spheres_management_page_enabled\":{\"value\":true},\"home_timeline_spheres_ranking_mode_control_enabled\":{\"value\":true},\"identity_verification_intake_enabled\":{\"value\":false},\"live_event_multi_video_auto_advance_dock_enabled\":{\"value\":true},\"live_event_multi_video_auto_advance_enabled\":{\"value\":true},\"live_event_multi_video_auto_advance_fullscreen_enabled\":{\"value\":false},\"live_event_multi_video_auto_advance_transition_duration_seconds\":{\"value\":5},\"live_event_multi_video_enabled\":{\"value\":true},\"live_event_timeline_default_refresh_rate_interval_seconds\":{\"value\":30},\"live_event_timeline_minimum_refresh_rate_interval_seconds\":{\"value\":10},\"live_event_timeline_server_controlled_refresh_rate_enabled\":{\"value\":true},\"live_event_vod_promoted_content_enabled\":{\"value\":true},\"live_event_docking_enabled\":{\"value\":true},\"livepipeline_client_enabled\":{\"value\":true},\"livepipeline_dm_features_enabled\":{\"value\":true},\"livepipeline_tweetengagement_enabled\":{\"value\":true},\"moment_annotations_enabled\":{\"value\":true},\"navigation_stack_referrer_param_enabled\":{\"value\":false},\"network_layer_503_backoff_mode\":{\"value\":\"host\"},\"report_flow_id_enabled\":{\"value\":true},\"responsive_web_2fa_settings_change_copy_enabled\":{\"value\":true},\"responsive_web_alt_svc\":{\"value\":false},\"responsive_web_alt_text_badge_enabled\":{\"value\":false},\"responsive_web_api_transition_enabled\":{\"value\":false},\"responsive_web_use_app_prompt_copy_variant\":{\"value\":\"\"},\"responsive_web_use_app_prompt_enabled\":{\"value\":false},\"responsive_web_auto_logout_multiaccount_enabled\":{\"value\":true},\"responsive_web_auto_logout_restrictedauthtoken_enabled\":{\"value\":true},\"responsive_web_auto_logout_twid_enabled\":{\"value\":true},\"responsive_web_branch_sdk_enabled\":{\"value\":true},\"responsive_web_broadcast_page_card_enabled\":{\"value\":true},\"responsive_web_card_preload_mode\":{\"value\":\"off\"},\"responsive_web_check_browser_support_enabled\":{\"value\":true},\"responsive_web_cleanup_macaw_swift_indexed_db\":{\"value\":true},\"responsive_web_composer_card_previews_enabled\":{\"value\":false},\"responsive_web_continue_as_param_enabled\":{\"value\":true},\"responsive_web_continue_as_always_enabled\":{\"value\":false},\"responsive_web_conversation_tree_enabled\":{\"value\":false},\"responsive_web_conversation_tree_toggle\":{\"value\":false},\"responsive_web_csrf_clientside_enabled\":{\"value\":true},\"responsive_web_dark_mode_scrollbars_enabled\":{\"value\":false},\"responsive_web_dcm_2_enabled\":{\"value\":false},\"responsive_web_desktop_app_reload_hard_ttl\":{\"value\":86400000},\"responsive_web_desktop_app_reload_nightly_reset_enabled\":{\"value\":false},\"responsive_web_desktop_app_reload_soft_ttl\":{\"value\":86400000},\"responsive_web_dm_quick_access_enabled\":{\"value\":false},\"responsive_web_dm_quick_access_with_close_enabled\":{\"value\":false},\"responsive_web_dm_quick_access_no_empty_drawer_enabled\":{\"value\":false},\"responsive_web_elevated_qt_api_enabled\":{\"value\":true},\"responsive_web_elevated_qt_combine_retweet_and_quote_tweet_everywhere\":{\"value\":true},\"responsive_web_elevated_qt_combined_retweets_dynamic_label\":{\"value\":false},\"responsive_web_elevated_qt_ui_configuration\":{\"value\":\"combined\"},\"responsive_web_eu_countries\":{\"value\":[\"at\",\"be\",\"bg\",\"ch\",\"cy\",\"cz\",\"de\",\"dk\",\"ee\",\"es\",\"fi\",\"fr\",\"gb\",\"gr\",\"hr\",\"hu\",\"ie\",\"is\",\"it\",\"li\",\"lt\",\"lu\",\"lv\",\"mt\",\"nl\",\"no\",\"pl\",\"pt\",\"ro\",\"se\",\"si\",\"sk\"]},\"responsive_web_explore_as_lohp_enabled\":{\"value\":true},\"responsive_web_explore_tab_followup_enabled\":{\"value\":true},\"responsive_web_extension_compatibility_hide\":{\"value\":false},\"responsive_web_extension_compatibility_impression_guard\":{\"value\":true},\"responsive_web_extension_compatibility_override_param\":{\"value\":false},\"responsive_web_extension_compatibility_scribe\":{\"value\":true},\"responsive_web_extension_compatibility_size_threshold\":{\"value\":50},\"responsive_web_fake_root_twitter_domain_for_testing\":{\"value\":false},\"responsive_web_feature_switch_dash_enabled\":{\"value\":false},\"responsive_web_fetch_hashflags_on_boot\":{\"value\":true},\"responsive_web_framerate_tracking_home_enabled\":{\"value\":false},\"responsive_web_graphql_amr_timeline\":{\"value\":false},\"responsive_web_graphql_dark_reads_probability\":{\"value\":0},\"responsive_web_graphql_list_crud\":{\"value\":true},\"responsive_web_graphql_list_management_timelines_enabled\":{\"value\":false},\"responsive_web_graphql_list_members_subscribers_enabled\":{\"value\":false},\"responsive_web_graphql_list_operations\":{\"value\":false},\"responsive_web_graphql_tweet_results\":{\"value\":false},\"responsive_web_graphql_user_everywhere\":{\"value\":true},\"responsive_web_graphql_verify_credentials_enabled\":{\"value\":true},\"responsive_web_guest_token_reporting\":{\"value\":true},\"responsive_web_hide_media_previews_enabled\":{\"value\":false},\"responsive_web_history_tracker_enabled\":{\"value\":false},\"responsive_web_hoisting_anchor_invalidation_enabled\":{\"value\":false},\"responsive_web_home_wait_for_seenIds_enabled\":{\"value\":false},\"responsive_web_horizon_video_player_enabled\":{\"value\":true},\"responsive_web_hover_on_mousemove_enabled\":{\"value\":false},\"responsive_web_html_archive_renderer_enabled\":{\"value\":true},\"responsive_web_hw_cards_in_dms_enabled\":{\"value\":false},\"responsive_web_inline_login_field_prompts_enabled\":{\"value\":false},\"responsive_web_inline_reply_enabled\":{\"value\":false},\"responsive_web_inline_reply_with_fab_enabled\":{\"value\":false},\"responsive_web_instream_video_enabled\":{\"value\":true},\"responsive_web_live_video_parity_periscope_auth_enabled\":{\"value\":false},\"responsive_web_login_input_type_email_enabled\":{\"value\":false},\"responsive_web_login_signup_sheet_app_install_cta_enabled\":{\"value\":false},\"responsive_web_media_upload_limit_2g\":{\"value\":250},\"responsive_web_media_upload_limit_3g\":{\"value\":1500},\"responsive_web_media_upload_limit_slow_2g\":{\"value\":150},\"responsive_web_media_upload_md5_hashing_enabled\":{\"value\":false},\"responsive_web_media_upload_target_jpg_pixels_per_byte\":{\"value\":6},\"responsive_web_menu_section_divider_enabled\":{\"value\":false},\"responsive_web_moment_maker_enabled\":{\"value\":false},\"responsive_web_moment_maker_annotations_enabled\":{\"value\":false},\"responsive_web_multiple_account_limit\":{\"value\":5},\"responsive_web_ntab_verified_mentions_vit_internal_dogfood\":{\"value\":false},\"responsive_web_ocf_sms_autoverify_enabled\":{\"value\":false},\"responsive_web_report_page_not_found\":{\"value\":false},\"responsive_web_rich_tweet_landing_enabled\":{\"value\":true},\"responsive_web_second_degree_replies_nudge_get_enabled\":{\"value\":false},\"responsive_web_second_degree_replies_nudge_force_enabled\":{\"value\":false},\"responsive_web_second_degree_replies_nudge_show_enabled\":{\"value\":false},\"responsive_web_scheduling_edit_enabled\":{\"value\":false},\"responsive_web_scheduling_enabled\":{\"value\":false},\"responsive_web_scheduling_entry_point\":{\"value\":\"overflow\"},\"responsive_web_scroller_autopoll_enabled\":{\"value\":false},\"responsive_web_scroller_v3_enabled\":{\"value\":false},\"responsive_web_search_dms_enabled\":{\"value\":true},\"responsive_web_serviceworker_safari_enabled\":{\"value\":true},\"responsive_web_serviceworker_safari_old_enabled\":{\"value\":true},\"responsive_web_side_nav_enabled\":{\"value\":false},\"responsive_web_sports_carousel\":{\"value\":false},\"responsive_web_trends_setting_new_endpoints\":{\"value\":true},\"responsive_web_trigger_test_backoff_on_bookmark\":{\"value\":false},\"responsive_web_tweet_detail_to_tweet_enabled\":{\"value\":false},\"responsive_web_tweet_drafts_enabled\":{\"value\":false},\"responsive_web_tweets_pill_local_enabled\":{\"value\":true},\"responsive_web_unified_cards_live_event_enabled\":{\"value\":true},\"responsive_web_unified_cards_poll2choice_image_enabled\":{\"value\":true},\"responsive_web_unified_cards_poll2choice_video_enabled\":{\"value\":true},\"responsive_web_unified_cards_poll3choice_image_enabled\":{\"value\":true},\"responsive_web_unified_cards_poll3choice_video_enabled\":{\"value\":true},\"responsive_web_unified_cards_poll4choice_image_enabled\":{\"value\":true},\"responsive_web_unified_cards_poll4choice_video_enabled\":{\"value\":true},\"responsive_web_unsupported_entry_tombstone\":{\"value\":false},\"responsive_web_verification_v2_enabled\":{\"value\":true},\"responsive_web_video_native_fullscreen_enabled\":{\"value\":true},\"responsive_web_video_promoted_logging_enabled\":{\"value\":true},\"responsive_web_vod_muted_captions_enabled\":{\"value\":true},\"responsive_web_vs_config_desktop_assumed_item_height\":{\"value\":100},\"responsive_web_vs_config_resize_observer_enabled\":{\"value\":true},\"responsive_web_zipkin_api_requests_enabled\":{\"value\":false},\"search_channels_discovery_page_enabled\":{\"value\":false},\"search_channels_description_enabled\":{\"value\":false},\"scribe_api_error_sample_size\":{\"value\":0},\"scribe_api_sample_size\":{\"value\":100},\"scribe_cdn_host_list\":{\"value\":[\"si0.twimg.com\",\"si1.twimg.com\",\"si2.twimg.com\",\"si3.twimg.com\",\"a0.twimg.com\",\"a1.twimg.com\",\"a2.twimg.com\",\"a3.twimg.com\",\"abs.twimg.com\",\"amp.twimg.com\",\"o.twimg.com\",\"pbs.twimg.com\",\"pbs-eb.twimg.com\",\"pbs-ec.twimg.com\",\"pbs-v6.twimg.com\",\"pbs-h1.twimg.com\",\"pbs-h2.twimg.com\",\"video.twimg.com\",\"platform.twitter.com\",\"cdn.api.twitter.com\",\"ton.twimg.com\",\"v.cdn.vine.co\",\"mtc.cdn.vine.co\",\"edge.vncdn.co\",\"mid.vncdn.co\"]},\"scribe_cdn_sample_size\":{\"value\":50},\"soft_interventions_forward_pivot_enabled\":{\"value\":true},\"topic_landing_page_enabled\":{\"value\":false},\"topics_descriptions_enabled\":{\"value\":false},\"topics_dismiss_control_enabled\":{\"value\":false},\"topics_new_mgmt_enabled\":{\"value\":false},\"topics_new_social_context_enabled\":{\"value\":false},\"tweet_limited_actions_config_enabled\":{\"value\":true},\"tweet_limited_actions_config_non_compliant\":{\"value\":[\"reply\",\"retweet\",\"like\",\"send_via_dm\",\"add_to_bookmarks\",\"add_to_moment\",\"pin_to_profile\",\"view_tweet_activity\",\"share_tweet_via\"]},\"unified_cards_cta_color_blue_cta\":{\"value\":true},\"user_display_name_max_limit\":{\"value\":50},\"web_video_hls_mp4_threshold_sec\":{\"value\":0},\"web_video_hlsjs_max_buffer_length_pause\":{\"value\":3},\"web_video_hlsjs_max_buffer_length_play\":{\"value\":3},\"web_video_hlsjs_version\":{\"value\":\"\"}},\"debug\":{},\"impression_pointers\":{},\"impressions\":{},\"featureSetToken\":\"feb52e866dc8eeec18660e9177924558faaad028\",\"isLoaded\":true,\"isLoading\":false,\"keysRead\":{},\"settingsVersion\":\"e82b918d7fe30a2b00d4f1d2f617cc40\"},\"urt\":{},\"entities\":{\"users\":{\"entities\":{},\"errors\":{},\"fetchStatus\":{}},\"tweets\":{\"entities\":{},\"errors\":{},\"fetchStatus\":{}},\"cards\":{\"entities\":{},\"errors\":{},\"fetchStatus\":{}}},\"toasts\":[],\"devices\":{\"browserPush\":{\"fetchStatus\":\"none\",\"pushNotificationsPrompt\":{\"dismissed\":false,\"fetchStatus\":\"none\"},\"subscribed\":false,\"supported\":null},\"devices\":{\"data\":{\"emails\":[],\"phone_numbers\":[]},\"fetchStatus\":\"none\"},\"notificationSettings\":{\"push_settings\":{\"error\":null,\"fetchStatus\":\"none\"},\"push_settings_template\":{\"template\":{\"settings\":[]}},\"sms_settings\":{\"error\":null,\"fetchStatus\":\"none\"},\"sms_settings_template\":{\"template\":{\"settings\":[]}},\"checkin_time\":null}},\"typeaheadUsers\":{\"fetchStatus\":\"none\",\"users\":{},\"denylist\":{},\"lastUpdated\":0,\"index\":{}},\"session\":{\"country\":\"CA\",\"emailLiteLoginEligibility\":{\"fetchStatus\":\"none\"},\"guestId\":\"159284039651172231\",\"language\":\"en\",\"oneFactorLoginEligibility\":{\"fetchStatus\":\"none\"}},\"settings\":{\"local\":{\"nextPushCheckin\":0,\"shouldAutoPlayGif\":false,\"scale\":\"normal\",\"themeColor\":\"blue\",\"highContrastEnabled\":false,\"themeBackground\":\"light\",\"loginPromptLastShown\":0,\"mediaPreviewsEnabled\":true,\"reducedMotionEnabled\":false,\"conversationTreeEnabled\":false,\"showTweetMediaDetailDrawer\":true},\"remote\":{\"settings\":{\"display_sensitive_media\":false},\"fetchStatus\":\"none\"},\"dataSaver\":{\"dataSaverMode\":false},\"transient\":{\"dtabBarInfo\":{\"dtabAll\":null,\"dtabRweb\":null,\"hide\":false},\"loginPromptShown\":false,\"lastViewedDmInboxPath\":\"/messages\",\"themeFocus\":\"\"}},\"hashflags\":{\"fetchStatus\":\"none\",\"hashflags\":{}}};\n",
      "window.__META_DATA__ = {\"env\":\"prod\",\"isFromDynamicRenderer\":false,\"isLoggedIn\":false,\"isRTL\":false,\"hasMultiAccountCookie\":false,\"uaParserTags\":[\"m2\",\"rweb_unsupported\",\"msw\"],\"serverDate\":1592840396549,\"sha\":\"afee0e17add15b2640529a3c1dbc1dfd2daf4d2e\"};\n",
      "</script>\n",
      "<script nonce=\"MzI4OThiYjItYjUyMS00MTU4LWE2Y2UtYjk0ZTEyYzc1OWQx\">\n",
      "  document.cookie = decodeURIComponent(\"gt=1275091156951498754; Max-Age=10800; Domain=.twitter.com; Path=/; Secure\");\n",
      "</script>\n",
      "<script type=\"text/javascript\" charset=\"utf-8\" nonce=\"MzI4OThiYjItYjUyMS00MTU4LWE2Y2UtYjk0ZTEyYzc1OWQx\">\n",
      "  window.__SCRIPTS_LOADED__ = {};\n",
      "  !function(e){function n(n){for(var o,t,i=n[0],l=n[1],c=n[2],s=0,m=[];s<i.length;s++)t=i[s],Object.prototype.hasOwnProperty.call(a,t)&&a[t]&&m.push(a[t][0]),a[t]=0;for(o in l)Object.prototype.hasOwnProperty.call(l,o)&&(e[o]=l[o]);for(u&&u(n);m.length;)m.shift()();return r.push.apply(r,c||[]),d()}function d(){for(var e,n=0;n<r.length;n++){for(var d=r[n],o=!0,i=1;i<d.length;i++){var l=d[i];0!==a[l]&&(o=!1)}o&&(r.splice(n--,1),e=t(t.s=d[0]))}return e}var o={},a={0:0},r=[];function t(n){if(o[n])return o[n].exports;var d=o[n]={i:n,l:!1,exports:{}};return e[n].call(d.exports,d,d.exports,t),d.l=!0,d.exports}t.e=function(e){var n=[],d=a[e];if(0!==d)if(d)n.push(d[2]);else{var o=new Promise((function(n,o){d=a[e]=[n,o]}));n.push(d[2]=o);var r,i=document.createElement(\"script\");i.charset=\"utf-8\",i.timeout=120,t.nc&&i.setAttribute(\"nonce\",t.nc),i.src=function(e){return t.p+\"\"+({2:\"sharedCore\",3:\"shared~loader.DMDrawer~bundle.Compose~bundle.RichTextCompose~bundle.DirectMessages~bundle.DMRichTextCompose~b\",4:\"shared~bundle.Explore~bundle.GenericTimeline~bundle.LiveEvent~bundle.Place~bundle.Search~bundle.QuoteTweetAct\",5:\"shared~bundle.ComposeMedia~bundle.Display~bundle.Ocf~bundle.Settings~bundle.SettingsProfile~bundle.UserLists~\",6:\"shared~bundle.ComposeMedia~bundle.Ocf~bundle.SettingsProfile~bundle.UserLists\",7:\"shared~bundle.Compose~bundle.RichTextCompose~bundle.PlainTextCompose\",8:\"shared~bundle.RichTextCompose~bundle.DMRichTextCompose~ondemand.RichText\",9:\"shared~bundle.Settings~ondemand.SettingsInternals~bundle.SettingsTransparency\",10:\"shared~loader.DMDrawer~bundle.DirectMessages~bundle.DMRichTextCompose\",11:\"shared~bundle.Display~bundle.Settings\",12:\"shared~bundle.Explore~loader.ExploreSidebar\",13:\"shared~loader.DMDrawer~bundle.DirectMessages\",14:\"shared~loader.DashMenu~bundle.Account\",15:\"shared~ondemand.lex~loaders.video.PlayerBase\",16:\"bundle.AboutThisAd\",17:\"bundle.Account\",18:\"bundle.AdvancedSearch\",19:\"bundle.Bookmarks\",20:\"bundle.Collection\",21:\"bundle.Compose\",22:\"bundle.ComposeMedia\",23:\"bundle.ConnectTab\",24:\"bundle.Conversation\",25:\"bundle.ConversationParticipants\",26:\"bundle.DMRichTextCompose\",27:\"bundle.DirectMessages\",28:\"bundle.Display\",29:\"bundle.Download\",30:\"bundle.Explore\",31:\"bundle.ExploreTopics\",32:\"bundle.FollowerRequests\",33:\"bundle.GenericTimeline\",34:\"bundle.GifSearch\",35:\"bundle.HomeTimeline\",36:\"bundle.KeyboardShortcuts\",37:\"bundle.LiveEvent\",38:\"bundle.LoggedOutHome\",39:\"bundle.Login\",40:\"bundle.Logout\",41:\"bundle.Moment\",42:\"bundle.MomentMaker\",43:\"bundle.MultiAccount\",44:\"bundle.NetworkInstrument\",45:\"bundle.NotificationDetail\",46:\"bundle.Notifications\",47:\"bundle.Ocf\",48:\"bundle.Place\",49:\"bundle.PlainTextCompose\",50:\"bundle.ProfileRedirect\",51:\"bundle.QuoteTweetActivity\",52:\"bundle.Report\",53:\"bundle.RichTextCompose\",54:\"bundle.Search\",55:\"bundle.Settings\",56:\"bundle.SettingsInternals\",57:\"bundle.SettingsProfile\",58:\"bundle.SettingsTransparency\",59:\"bundle.SmsLogin\",60:\"bundle.Topics\",61:\"bundle.Trends\",62:\"bundle.TweetActivity\",63:\"bundle.TweetMediaDetail\",64:\"bundle.TweetMediaTags\",65:\"bundle.Twitterversary\",66:\"bundle.UserAvatar\",67:\"bundle.UserFollowLists\",68:\"bundle.UserHeader\",69:\"bundle.UserLists\",70:\"bundle.UserMoments\",71:\"bundle.UserProfile\",72:\"bundle.UserRedirect\",171:\"loader.AbsolutePower\",172:\"loader.AppModules\",173:\"loader.DMDrawer\",174:\"loader.DashMenu\",175:\"loader.ExploreSidebar\",176:\"loader.FeedbackSheet\",177:\"loader.FeedbackTombstone\",178:\"loader.HWCard\",179:\"loader.NewTweetsPill\",180:\"loader.PeriscopeOverlay\",181:\"loader.ProfileClusterFollow\",182:\"loader.PushNotificationsPrompt\",183:\"loader.SideNav\",184:\"loader.SignupModule\",185:\"loader.TimelineGap\",186:\"loader.TimelineRenderer\",187:\"loader.TweetCurationActionMenu\",188:\"loader.TweetPhotos\",189:\"loader.Typeahead\",190:\"loader.WideLayout\",191:\"loader.directMessagesData\",192:\"loader.graphQLDarkReads\",193:\"loader.personalizationData\",194:\"loaders.video.PlayerBase\",195:\"loaders.video.PlayerHls13\",196:\"loaders.video.PlayerUi\",197:\"loaders.video.VideoPlayerDefaultUI\",199:\"ondemand.Balloons\",200:\"ondemand.BranchSdk\",201:\"ondemand.CarouselScroller\",202:\"ondemand.ComposeScheduling\",203:\"ondemand.Dropdown\",204:\"ondemand.EditBirthdate\",205:\"ondemand.EditPinned\",206:\"ondemand.EmojiPicker\",207:\"ondemand.HoverCard\",208:\"ondemand.InlinePlayer\",209:\"ondemand.IntentPrompt\",210:\"ondemand.MicrosoftInterface\",211:\"ondemand.ProfileSidebar\",212:\"ondemand.RichText\",213:\"ondemand.SettingsInternals\",214:\"ondemand.countries-ar\",215:\"ondemand.countries-bg\",216:\"ondemand.countries-bn\",217:\"ondemand.countries-ca\",218:\"ondemand.countries-cs\",219:\"ondemand.countries-da\",220:\"ondemand.countries-de\",221:\"ondemand.countries-el\",222:\"ondemand.countries-en\",223:\"ondemand.countries-en-GB\",224:\"ondemand.countries-es\",225:\"ondemand.countries-eu\",226:\"ondemand.countries-fa\",227:\"ondemand.countries-fi\",228:\"ondemand.countries-fil\",229:\"ondemand.countries-fr\",230:\"ondemand.countries-ga\",231:\"ondemand.countries-gl\",232:\"ondemand.countries-gu\",233:\"ondemand.countries-he\",234:\"ondemand.countries-hi\",235:\"ondemand.countries-hr\",236:\"ondemand.countries-hu\",237:\"ondemand.countries-id\",238:\"ondemand.countries-it\",239:\"ondemand.countries-ja\",240:\"ondemand.countries-kn\",241:\"ondemand.countries-ko\",242:\"ondemand.countries-mr\",243:\"ondemand.countries-ms\",244:\"ondemand.countries-nb\",245:\"ondemand.countries-nl\",246:\"ondemand.countries-pl\",247:\"ondemand.countries-pt\",248:\"ondemand.countries-ro\",249:\"ondemand.countries-ru\",250:\"ondemand.countries-sk\",251:\"ondemand.countries-sr\",252:\"ondemand.countries-sv\",253:\"ondemand.countries-ta\",254:\"ondemand.countries-th\",255:\"ondemand.countries-tr\",256:\"ondemand.countries-uk\",257:\"ondemand.countries-ur\",258:\"ondemand.countries-zh\",259:\"ondemand.countries-zh-Hant\",260:\"ondemand.emoji.ar\",261:\"ondemand.emoji.bg\",262:\"ondemand.emoji.bn\",263:\"ondemand.emoji.ca\",264:\"ondemand.emoji.cs\",265:\"ondemand.emoji.da\",266:\"ondemand.emoji.de\",267:\"ondemand.emoji.el\",268:\"ondemand.emoji.en\",269:\"ondemand.emoji.en-GB\",270:\"ondemand.emoji.en-ss\",271:\"ondemand.emoji.en-xx\",272:\"ondemand.emoji.es\",273:\"ondemand.emoji.eu\",274:\"ondemand.emoji.fa\",275:\"ondemand.emoji.fi\",276:\"ondemand.emoji.fil\",277:\"ondemand.emoji.fr\",278:\"ondemand.emoji.ga\",279:\"ondemand.emoji.gl\",280:\"ondemand.emoji.gu\",281:\"ondemand.emoji.he\",282:\"ondemand.emoji.hi\",283:\"ondemand.emoji.hr\",284:\"ondemand.emoji.hu\",285:\"ondemand.emoji.id\",286:\"ondemand.emoji.it\",287:\"ondemand.emoji.ja\",288:\"ondemand.emoji.kn\",289:\"ondemand.emoji.ko\",290:\"ondemand.emoji.mr\",291:\"ondemand.emoji.ms\",292:\"ondemand.emoji.nb\",293:\"ondemand.emoji.nl\",294:\"ondemand.emoji.pl\",295:\"ondemand.emoji.pt\",296:\"ondemand.emoji.ro\",297:\"ondemand.emoji.ru\",298:\"ondemand.emoji.sk\",299:\"ondemand.emoji.sr\",300:\"ondemand.emoji.sv\",301:\"ondemand.emoji.ta\",302:\"ondemand.emoji.th\",303:\"ondemand.emoji.tr\",304:\"ondemand.emoji.uk\",305:\"ondemand.emoji.ur\",306:\"ondemand.emoji.vi\",307:\"ondemand.emoji.zh\",308:\"ondemand.emoji.zh-Hant\",309:\"ondemand.framerateTracking\",310:\"ondemand.lex\",311:\"ondemand.video.PlayerHls12\"}[e]||e)+\".\"+{2:\"fc0b7fd\",3:\"7f96f4e\",4:\"968a7ac\",5:\"ada01e0\",6:\"4c5edb8\",7:\"274a79a\",8:\"32f521d\",9:\"b5b1e5b\",10:\"1a8d286\",11:\"04202d5\",12:\"e63cd1d\",13:\"4972c3e\",14:\"518c67f\",15:\"6e477e8\",16:\"b5b3df7\",17:\"b63f9df\",18:\"38d5769\",19:\"f0710d3\",20:\"ef05e36\",21:\"79e2c93\",22:\"b3e3772\",23:\"5bc2590\",24:\"be5e234\",25:\"a15206b\",26:\"be1badf\",27:\"f24d0c5\",28:\"0da04f2\",29:\"83bed63\",30:\"432498a\",31:\"9181126\",32:\"b7a3702\",33:\"d98d3a8\",34:\"7f23d1e\",35:\"4f83e01\",36:\"cc65d17\",37:\"125d0a4\",38:\"8bbe087\",39:\"df34ba4\",40:\"837b090\",41:\"94ccf59\",42:\"6a370b5\",43:\"b5339af\",44:\"476bd33\",45:\"368ea10\",46:\"cfc69ea\",47:\"c49b533\",48:\"1b0865c\",49:\"493bc36\",50:\"2e81ccc\",51:\"9c04b7f\",52:\"8e09f1e\",53:\"992ae88\",54:\"e053abd\",55:\"55eeed8\",56:\"bcf1d2f\",57:\"e2c3031\",58:\"a6325a1\",59:\"b2aea31\",60:\"2972c59\",61:\"7d6e197\",62:\"f1daab8\",63:\"a4e6b24\",64:\"e3d601b\",65:\"9fd9477\",66:\"5c1e193\",67:\"40aa8db\",68:\"c822344\",69:\"f80cfd2\",70:\"e213068\",71:\"3a07dc8\",72:\"f0d6b46\",171:\"6247e6f\",172:\"fa5d30d\",173:\"2a84dc6\",174:\"b358ec4\",175:\"38306b7\",176:\"452e918\",177:\"682d9b8\",178:\"0badcfc\",179:\"b9e7394\",180:\"068ff50\",181:\"2517146\",182:\"5678ec2\",183:\"bbfbc55\",184:\"913f03c\",185:\"eea4623\",186:\"9548978\",187:\"023fa19\",188:\"7ab6030\",189:\"a65f37b\",190:\"81ff9a9\",191:\"9560a04\",192:\"e8830bb\",193:\"f0179e8\",194:\"21420f9\",195:\"4ee8b5a\",196:\"d3de4ff\",197:\"bd1770f\",199:\"0feaaed\",200:\"ad1320e\",201:\"667bc56\",202:\"ee88002\",203:\"990a882\",204:\"54c677c\",205:\"b4e3890\",206:\"1b2bf5a\",207:\"8664310\",208:\"3a8323d\",209:\"0d459a5\",210:\"421a958\",211:\"885c25b\",212:\"a975d44\",213:\"e148857\",214:\"31f9786\",215:\"ecc2070\",216:\"8cad08c\",217:\"f503f57\",218:\"88af025\",219:\"4f96908\",220:\"131c85e\",221:\"b8e4899\",222:\"163883c\",223:\"2911fa1\",224:\"c8993db\",225:\"e9ca373\",226:\"02c8878\",227:\"9c331a8\",228:\"ab7b24a\",229:\"4a1af35\",230:\"1d664be\",231:\"5ad9b0b\",232:\"c5a1540\",233:\"edf55ea\",234:\"dbb864b\",235:\"9fa3b95\",236:\"3a7f737\",237:\"19abeea\",238:\"d6c5db7\",239:\"2c1002a\",240:\"38f76e0\",241:\"94c62b1\",242:\"dc60427\",243:\"c82a045\",244:\"4799f07\",245:\"3da2881\",246:\"e689cf3\",247:\"a5a9845\",248:\"af06bd7\",249:\"5b28726\",250:\"b37e56c\",251:\"6d6b8e1\",252:\"caccdf4\",253:\"d160639\",254:\"6c43fee\",255:\"884b412\",256:\"b179e7b\",257:\"9256f4a\",258:\"6f5df44\",259:\"f059f19\",260:\"face470\",261:\"ba8301d\",262:\"8b32960\",263:\"1bc7ecd\",264:\"c0ed64f\",265:\"ebe8cf1\",266:\"5c19379\",267:\"8d09301\",268:\"07097c4\",269:\"912dbd4\",270:\"61c5da5\",271:\"8ffc455\",272:\"3a7849d\",273:\"94757e5\",274:\"eac1191\",275:\"ce0a110\",276:\"c7ea477\",277:\"3ef401b\",278:\"d9e60db\",279:\"712c0bf\",280:\"c09ff44\",281:\"d218645\",282:\"be82ea8\",283:\"23d24d1\",284:\"1754ad7\",285:\"d85e7e3\",286:\"0f76df3\",287:\"52d198a\",288:\"df463e5\",289:\"43877a6\",290:\"ba1dd03\",291:\"a923525\",292:\"c81fb85\",293:\"40024ef\",294:\"e5d32d6\",295:\"5e4c224\",296:\"41c9d0f\",297:\"3c962cc\",298:\"b951ec9\",299:\"658c1c7\",300:\"19057c5\",301:\"a435b05\",302:\"6164003\",303:\"7007e77\",304:\"606f4ef\",305:\"9a17f49\",306:\"cffdb2b\",307:\"668ffb4\",308:\"ab00410\",309:\"49c3096\",310:\"72f693a\",311:\"22008ef\"}[e]+\"4.js\"}(e);var l=new Error;r=function(n){i.onerror=i.onload=null,clearTimeout(c);var d=a[e];if(0!==d){if(d){var o=n&&(\"load\"===n.type?\"missing\":n.type),r=n&&n.target&&n.target.src;l.message=\"Loading chunk \"+e+\" failed.\\n(\"+o+\": \"+r+\")\",l.name=\"ChunkLoadError\",l.type=o,l.request=r,d[1](l)}a[e]=void 0}};var c=setTimeout((function(){r({type:\"timeout\",target:i})}),12e4);i.onerror=i.onload=r,document.head.appendChild(i)}return Promise.all(n)},t.m=e,t.c=o,t.d=function(e,n,d){t.o(e,n)||Object.defineProperty(e,n,{enumerable:!0,get:d})},t.r=function(e){\"undefined\"!=typeof Symbol&&Symbol.toStringTag&&Object.defineProperty(e,Symbol.toStringTag,{value:\"Module\"}),Object.defineProperty(e,\"__esModule\",{value:!0})},t.t=function(e,n){if(1&n&&(e=t(e)),8&n)return e;if(4&n&&\"object\"==typeof e&&e&&e.__esModule)return e;var d=Object.create(null);if(t.r(d),Object.defineProperty(d,\"default\",{enumerable:!0,value:e}),2&n&&\"string\"!=typeof e)for(var o in e)t.d(d,o,function(n){return e[n]}.bind(null,o));return d},t.n=function(e){var n=e&&e.__esModule?function(){return e.default}:function(){return e};return t.d(n,\"a\",n),n},t.o=function(e,n){return Object.prototype.hasOwnProperty.call(e,n)},t.p=\"https://abs.twimg.com/responsive-web/web/\",t.oe=function(e){throw e};var i=window.webpackJsonp=window.webpackJsonp||[],l=i.push.bind(i);i.push=n,i=i.slice();for(var c=0;c<i.length;c++)n(i[c]);var u=l;d()}([]),window.__SCRIPTS_LOADED__.runtime=!0;\n",
      "//# sourceMappingURL=runtime.61b86384.js.map\n",
      "</script>\n",
      "<script type=\"text/javascript\" charset=\"utf-8\" nonce=\"MzI4OThiYjItYjUyMS00MTU4LWE2Y2UtYjk0ZTEyYzc1OWQx\" crossorigin=\"anonymous\" src=\"https://abs.twimg.com/responsive-web/web/polyfills.aa560c44.js\"></script>\n",
      "<script type=\"text/javascript\" charset=\"utf-8\" nonce=\"MzI4OThiYjItYjUyMS00MTU4LWE2Y2UtYjk0ZTEyYzc1OWQx\" crossorigin=\"anonymous\" src=\"https://abs.twimg.com/responsive-web/web/vendors~main.805584a4.js\"></script>\n",
      "<script type=\"text/javascript\" charset=\"utf-8\" nonce=\"MzI4OThiYjItYjUyMS00MTU4LWE2Y2UtYjk0ZTEyYzc1OWQx\" crossorigin=\"anonymous\" src=\"https://abs.twimg.com/responsive-web/web/i18n-rweb/en.3bf1e624.js\"></script>\n",
      "<script type=\"text/javascript\" charset=\"utf-8\" nonce=\"MzI4OThiYjItYjUyMS00MTU4LWE2Y2UtYjk0ZTEyYzc1OWQx\" crossorigin=\"anonymous\" src=\"https://abs.twimg.com/responsive-web/web/i18n-horizon/en.3a9553d4.js\"></script>\n",
      "<script type=\"text/javascript\" charset=\"utf-8\" nonce=\"MzI4OThiYjItYjUyMS00MTU4LWE2Y2UtYjk0ZTEyYzc1OWQx\" crossorigin=\"anonymous\" src=\"https://abs.twimg.com/responsive-web/web/main.92eeeb04.js\"></script>\n",
      "<script nonce=\"MzI4OThiYjItYjUyMS00MTU4LWE2Y2UtYjk0ZTEyYzc1OWQx\">\n",
      "  if (!window.__SCRIPTS_LOADED__['main']) {\n",
      "    document.getElementById('ScriptLoadFailure').style.display = 'block';\n",
      "  }\n",
      "</script>\n",
      "\n"
     ]
    }
   ],
   "source": [
    "import requests\n",
    "html=requests.get(url).text\n",
    "pattern=re.compile(r\"InSight sol \\d*\\s\\(.*?\\)\\slow\\s.*?ºC\\s\\(.*?\\)\\shigh\\s.*?ºC\\s\\(.*?\\)\\nwinds\\s\\D*\\d*.\\d*\\s.{3}\\s\\(.*?mph\\)\\s.*\\(.*?mph\\)\\npressure.*hPa\")\n",
    "matches=pattern.search(str(html))\n",
    "print(html)\n",
    "#weather=matches.group(0)              "
   ]
  },
  {
   "cell_type": "code",
   "execution_count": 46,
   "metadata": {},
   "outputs": [
    {
     "name": "stdout",
     "output_type": "stream",
     "text": [
      "(2020-06-21)\n",
      "['InSight', 'sol', '557', '(2020-06-21)', 'low', '-84.1ºC', '(-119.5ºF)', 'high', '-1.0ºC', '(30.3ºF)winds', 'from', 'the', 'WNW', 'at', '3.8', 'm/s', '(8.5', 'mph)', 'gusting', 'to', '13.6', 'm/s', '(30.3', 'mph)pressure', 'at', '7.50', 'hPa']\n",
      "(2020-06-21)\n",
      "sol 557(Jun 21,2020)\n",
      "-119.5F\n",
      "-84.1C\n",
      "low -84.1C/-119.5F\n",
      "30.3F\n",
      "-1.0C\n",
      "high -1.0C/30.3F\n",
      "winds\n"
     ]
    },
    {
     "data": {
      "text/plain": [
       "'sol 557(Jun 21,2020),winds,high -1.0C/30.3F,low -84.1C/-119.5F,pressure at 7.50 hPa'"
      ]
     },
     "execution_count": 46,
     "metadata": {},
     "output_type": "execute_result"
    }
   ],
   "source": [
    "#Extract information within paratises and recompile phrases\n",
    "import re\n",
    "brakets=re.findall(r'\\(.*?\\)',tweet)\n",
    "print(brakets[0])\n",
    "tweet_list2=tweet.split(\" \")\n",
    "print(tweet_list2)\n",
    "\n",
    "#sol informaiton extraction\n",
    "#Transform date\n",
    "Date=brakets[0]\n",
    "print(Date)\n",
    "Date1=Date[Date.find('(')+1:Date.find(')')]\n",
    "import pandas as pd\n",
    "from datetime import datetime\n",
    "import calendar\n",
    "date=pd.to_datetime(Date1)\n",
    "date\n",
    "\n",
    "date_element=date.date\n",
    "month=date.month\n",
    "year=date.year\n",
    "month1=calendar.month_abbr[month]\n",
    "part_date=date.strftime('%d,%Y')\n",
    "full_date=\"(\"+month1+\" \"+part_date+\")\"\n",
    "sol_info=tweet_list2[1]+\" \"+tweet_list2[2]+full_date\n",
    "print(sol_info)\n",
    "\n",
    "#Transform temperature\n",
    "#lowest temperature\n",
    "L_temperature=brakets[1]\n",
    "L_temperature_f=L_temperature[L_temperature.find('(')+1:L_temperature.find('º')]\n",
    "L_Temperature=L_temperature_f+\"F\"\n",
    "print(L_Temperature)\n",
    "L_Temperature_C=tweet_list2[5][0:tweet_list2[5].find('º')]\n",
    "L_Temperature_C=L_Temperature_C+\"C\"\n",
    "print(L_Temperature_C)\n",
    "L_Temperature_phrase=\"low \"+L_Temperature_C+\"/\"+L_Temperature\n",
    "print(L_Temperature_phrase)\n",
    "\n",
    "#highest temperature\n",
    "H_temperature=brakets[2]\n",
    "H_temperature_f=H_temperature[H_temperature.find('(')+1:H_temperature.find('º')]\n",
    "H_temperature=H_temperature_f+\"F\"\n",
    "print(H_temperature)\n",
    "H_Temperature_C=tweet_list2[8][0:tweet_list2[8].find('º')]\n",
    "H_Temperature_C=H_Temperature_C+\"C\"\n",
    "print(H_Temperature_C)\n",
    "H_Temperature_phrase=\"high \"+H_Temperature_C+\"/\"+H_temperature\n",
    "print(H_Temperature_phrase)\n",
    "\n",
    "#Extract Pressure\n",
    "tweet_list=tweet.split(\")\")\n",
    "pressure=tweet_list[len(tweet_list)-1]\n",
    "pressure=pressure.replace('\\n','')\n",
    "pressure\n",
    "\n",
    "#Extract Weather\n",
    "weather=tweet_list[3]\n",
    "weather=weather.replace('\\n','')\n",
    "weather=weather[0:weather.find(' ')]\n",
    "print(weather)\n",
    "\n",
    "#Compile extracted information into sentence to be inserted in to the website\n",
    "Mars_weather=sol_info+\",\"+weather+\",\"+H_Temperature_phrase+\",\"+L_Temperature_phrase+\",\"+pressure\n",
    "Mars_weather"
   ]
  },
  {
   "cell_type": "code",
   "execution_count": 54,
   "metadata": {},
   "outputs": [
    {
     "name": "stdout",
     "output_type": "stream",
     "text": [
      "<!DOCTYPE html>\n",
      "<html dir=\"ltr\" lang=\"en\">\n",
      "<meta charset=\"utf-8\" />\n",
      "<meta name=\"viewport\" content=\"width=device-width,initial-scale=1,maximum-scale=1,user-scalable=0,viewport-fit=cover\" />\n",
      "<link rel=\"preconnect\" href=\"//abs.twimg.com\" />\n",
      "<link rel=\"preconnect\" href=\"//api.twitter.com\" />\n",
      "<link rel=\"preconnect\" href=\"//pbs.twimg.com\" />\n",
      "<link rel=\"preconnect\" href=\"//t.co\" />\n",
      "<link rel=\"preconnect\" href=\"//video.twimg.com\" />\n",
      "<link rel=\"dns-prefetch\" href=\"//abs.twimg.com\" />\n",
      "<link rel=\"dns-prefetch\" href=\"//api.twitter.com\" />\n",
      "<link rel=\"dns-prefetch\" href=\"//pbs.twimg.com\" />\n",
      "<link rel=\"dns-prefetch\" href=\"//t.co\" />\n",
      "<link rel=\"dns-prefetch\" href=\"//video.twimg.com\" />\n",
      "<link rel=\"preload\" as=\"script\" crossorigin=\"anonymous\" href=\"https://abs.twimg.com/responsive-web/web/polyfills.aa560c44.js\" nonce=\"MWUwNTYzNWMtZGM0OS00YTdhLWI2ZWEtOGMxM2MxODMxMjY0\" />\n",
      "<link rel=\"preload\" as=\"script\" crossorigin=\"anonymous\" href=\"https://abs.twimg.com/responsive-web/web/vendors~main.805584a4.js\" nonce=\"MWUwNTYzNWMtZGM0OS00YTdhLWI2ZWEtOGMxM2MxODMxMjY0\" />\n",
      "<link rel=\"preload\" as=\"script\" crossorigin=\"anonymous\" href=\"https://abs.twimg.com/responsive-web/web/i18n-rweb/en.3bf1e624.js\" nonce=\"MWUwNTYzNWMtZGM0OS00YTdhLWI2ZWEtOGMxM2MxODMxMjY0\" />\n",
      "<link rel=\"preload\" as=\"script\" crossorigin=\"anonymous\" href=\"https://abs.twimg.com/responsive-web/web/i18n-horizon/en.3a9553d4.js\" nonce=\"MWUwNTYzNWMtZGM0OS00YTdhLWI2ZWEtOGMxM2MxODMxMjY0\" />\n",
      "<link rel=\"preload\" as=\"script\" crossorigin=\"anonymous\" href=\"https://abs.twimg.com/responsive-web/web/main.92eeeb04.js\" nonce=\"MWUwNTYzNWMtZGM0OS00YTdhLWI2ZWEtOGMxM2MxODMxMjY0\" />\n",
      "<meta property=\"fb:app_id\" content=\"2231777543\" />\n",
      "<meta property=\"og:site_name\" content=\"Twitter\" />\n",
      "<meta name=\"google-site-verification\" content=\"V0yIS0Ec_o3Ii9KThrCoMCkwTYMMJ_JYx_RSaGhFYvw\" />\n",
      "<link rel=\"manifest\" href=\"/manifest.json\" crossOrigin=\"use-credentials\" />\n",
      "<link rel=\"alternate\" hreflang=\"x-default\" href=\"https://twitter.com/marswxreport?lang&#x3D;en\" />\n",
      "<link rel=\"alternate\" hreflang=\"ar\" href=\"https://twitter.com/marswxreport?lang&#x3D;ar\" />\n",
      "<link rel=\"alternate\" hreflang=\"bg\" href=\"https://twitter.com/marswxreport?lang&#x3D;bg\" />\n",
      "<link rel=\"alternate\" hreflang=\"bn\" href=\"https://twitter.com/marswxreport?lang&#x3D;bn\" />\n",
      "<link rel=\"alternate\" hreflang=\"ca\" href=\"https://twitter.com/marswxreport?lang&#x3D;ca\" />\n",
      "<link rel=\"alternate\" hreflang=\"cs\" href=\"https://twitter.com/marswxreport?lang&#x3D;cs\" />\n",
      "<link rel=\"alternate\" hreflang=\"da\" href=\"https://twitter.com/marswxreport?lang&#x3D;da\" />\n",
      "<link rel=\"alternate\" hreflang=\"de\" href=\"https://twitter.com/marswxreport?lang&#x3D;de\" />\n",
      "<link rel=\"alternate\" hreflang=\"el\" href=\"https://twitter.com/marswxreport?lang&#x3D;el\" />\n",
      "<link rel=\"alternate\" hreflang=\"en\" href=\"https://twitter.com/marswxreport?lang&#x3D;en\" />\n",
      "<link rel=\"alternate\" hreflang=\"en-GB\" href=\"https://twitter.com/marswxreport?lang&#x3D;en-GB\" />\n",
      "<link rel=\"alternate\" hreflang=\"es\" href=\"https://twitter.com/marswxreport?lang&#x3D;es\" />\n",
      "<link rel=\"alternate\" hreflang=\"eu\" href=\"https://twitter.com/marswxreport?lang&#x3D;eu\" />\n",
      "<link rel=\"alternate\" hreflang=\"fa\" href=\"https://twitter.com/marswxreport?lang&#x3D;fa\" />\n",
      "<link rel=\"alternate\" hreflang=\"fi\" href=\"https://twitter.com/marswxreport?lang&#x3D;fi\" />\n",
      "<link rel=\"alternate\" hreflang=\"tl\" href=\"https://twitter.com/marswxreport?lang&#x3D;tl\" />\n",
      "<link rel=\"alternate\" hreflang=\"fr\" href=\"https://twitter.com/marswxreport?lang&#x3D;fr\" />\n",
      "<link rel=\"alternate\" hreflang=\"ga\" href=\"https://twitter.com/marswxreport?lang&#x3D;ga\" />\n",
      "<link rel=\"alternate\" hreflang=\"gl\" href=\"https://twitter.com/marswxreport?lang&#x3D;gl\" />\n",
      "<link rel=\"alternate\" hreflang=\"gu\" href=\"https://twitter.com/marswxreport?lang&#x3D;gu\" />\n",
      "<link rel=\"alternate\" hreflang=\"he\" href=\"https://twitter.com/marswxreport?lang&#x3D;he\" />\n",
      "<link rel=\"alternate\" hreflang=\"hi\" href=\"https://twitter.com/marswxreport?lang&#x3D;hi\" />\n",
      "<link rel=\"alternate\" hreflang=\"hr\" href=\"https://twitter.com/marswxreport?lang&#x3D;hr\" />\n",
      "<link rel=\"alternate\" hreflang=\"hu\" href=\"https://twitter.com/marswxreport?lang&#x3D;hu\" />\n",
      "<link rel=\"alternate\" hreflang=\"id\" href=\"https://twitter.com/marswxreport?lang&#x3D;id\" />\n",
      "<link rel=\"alternate\" hreflang=\"it\" href=\"https://twitter.com/marswxreport?lang&#x3D;it\" />\n",
      "<link rel=\"alternate\" hreflang=\"ja\" href=\"https://twitter.com/marswxreport?lang&#x3D;ja\" />\n",
      "<link rel=\"alternate\" hreflang=\"kn\" href=\"https://twitter.com/marswxreport?lang&#x3D;kn\" />\n",
      "<link rel=\"alternate\" hreflang=\"ko\" href=\"https://twitter.com/marswxreport?lang&#x3D;ko\" />\n",
      "<link rel=\"alternate\" hreflang=\"mr\" href=\"https://twitter.com/marswxreport?lang&#x3D;mr\" />\n",
      "<link rel=\"alternate\" hreflang=\"ms\" href=\"https://twitter.com/marswxreport?lang&#x3D;ms\" />\n",
      "<link rel=\"alternate\" hreflang=\"nb\" href=\"https://twitter.com/marswxreport?lang&#x3D;nb\" />\n",
      "<link rel=\"alternate\" hreflang=\"nl\" href=\"https://twitter.com/marswxreport?lang&#x3D;nl\" />\n",
      "<link rel=\"alternate\" hreflang=\"pl\" href=\"https://twitter.com/marswxreport?lang&#x3D;pl\" />\n",
      "<link rel=\"alternate\" hreflang=\"pt\" href=\"https://twitter.com/marswxreport?lang&#x3D;pt\" />\n",
      "<link rel=\"alternate\" hreflang=\"ro\" href=\"https://twitter.com/marswxreport?lang&#x3D;ro\" />\n",
      "<link rel=\"alternate\" hreflang=\"ru\" href=\"https://twitter.com/marswxreport?lang&#x3D;ru\" />\n",
      "<link rel=\"alternate\" hreflang=\"sk\" href=\"https://twitter.com/marswxreport?lang&#x3D;sk\" />\n",
      "<link rel=\"alternate\" hreflang=\"sr\" href=\"https://twitter.com/marswxreport?lang&#x3D;sr\" />\n",
      "<link rel=\"alternate\" hreflang=\"sv\" href=\"https://twitter.com/marswxreport?lang&#x3D;sv\" />\n",
      "<link rel=\"alternate\" hreflang=\"ta\" href=\"https://twitter.com/marswxreport?lang&#x3D;ta\" />\n",
      "<link rel=\"alternate\" hreflang=\"th\" href=\"https://twitter.com/marswxreport?lang&#x3D;th\" />\n",
      "<link rel=\"alternate\" hreflang=\"tr\" href=\"https://twitter.com/marswxreport?lang&#x3D;tr\" />\n",
      "<link rel=\"alternate\" hreflang=\"uk\" href=\"https://twitter.com/marswxreport?lang&#x3D;uk\" />\n",
      "<link rel=\"alternate\" hreflang=\"ur\" href=\"https://twitter.com/marswxreport?lang&#x3D;ur\" />\n",
      "<link rel=\"alternate\" hreflang=\"vi\" href=\"https://twitter.com/marswxreport?lang&#x3D;vi\" />\n",
      "<link rel=\"alternate\" hreflang=\"zh\" href=\"https://twitter.com/marswxreport?lang&#x3D;zh\" />\n",
      "<link rel=\"alternate\" hreflang=\"zh-Hant\" href=\"https://twitter.com/marswxreport?lang&#x3D;zh-Hant\" />\n",
      "<link rel=\"canonical\" href=\"https://twitter.com/marswxreport\" data-rdm />\n",
      "<link rel=\"mask-icon\" sizes=\"any\" href=\"https://abs.twimg.com/responsive-web/web/icon-svg.9e211f64.svg\" color=\"#1da1f2\">\n",
      "<link rel=\"shortcut icon\" href=\"//abs.twimg.com/favicons/twitter.ico\" type=\"image/x-icon\">\n",
      "<link rel=\"apple-touch-icon\" sizes=\"192x192\" href=\"https://abs.twimg.com/responsive-web/web/icon-ios.8ea219d4.png\" />\n",
      "<meta name=\"mobile-web-app-capable\" content=\"yes\" />\n",
      "<meta name=\"apple-mobile-web-app-title\" content=\"Twitter\" />\n",
      "<meta name=\"apple-mobile-web-app-status-bar-style\" content=\"white\" />\n",
      "<meta name=\"theme-color\" content=\"#ffffff\" />\n",
      "<meta http-equiv=\"origin-trial\" content=\"Ap6SMBNB0lQoXpXl4I9vyTJqJ7Y0X9tPd6Q6rN697iHdubQQxBcWHy21N3N7uEz7Ba5UKMbN+eLvDczBSbi27AsAAABfeyJvcmlnaW4iOiJodHRwczovL3R3aXR0ZXIuY29tOjQ0MyIsImZlYXR1cmUiOiJCYWRnaW5nIiwiZXhwaXJ5IjoxNTY0NTgyNzY2LCJpc1N1YmRvbWFpbiI6dHJ1ZX0=\" />\n",
      "<meta http-equiv=\"origin-trial\" content=\"Apir4chqTX+4eFxKD+ErQlKRB/VtZ/dvnLfd9Y9Nenl5r1xJcf81alryTHYQiuUlz9Q49MqGXqyaiSmqWzHUqQwAAABneyJvcmlnaW4iOiJodHRwczovL3R3aXR0ZXIuY29tOjQ0MyIsImZlYXR1cmUiOiJDb250YWN0c01hbmFnZXIiLCJleHBpcnkiOjE1NzUwMzUyODMsImlzU3ViZG9tYWluIjp0cnVlfQ==\" />\n",
      "<meta http-equiv=\"origin-trial\" content=\"AleGS26SZL7UA8Fe1DbvXzoay74bPTvrfKKGimIu1RI8vA+RtXOSVlizUkz2zU/fQoFoOTgCiCciP6pM5teaeQgAAABjeyJvcmlnaW4iOiJodHRwczovL3R3aXR0ZXIuY29tOjQ0MyIsImZlYXR1cmUiOiJTbXNSZWNlaXZlciIsImV4cGlyeSI6MTU3OTAyMDkyMSwiaXNTdWJkb21haW4iOnRydWV9\" />\n",
      "\n",
      "<style>html,body{height: 100%;}body{-ms-overflow-style:scrollbar;overflow-y:scroll;overscroll-behavior-y:none;}</style>\n",
      "<style id=\"react-native-stylesheet\">[stylesheet-group=\"0\"]{}\n",
      "html{-ms-text-size-adjust:100%;-webkit-text-size-adjust:100%;-webkit-tap-highlight-color:rgba(0,0,0,0);}\n",
      "body{margin:0;}\n",
      "button::-moz-focus-inner,input::-moz-focus-inner{border:0;padding:0;}\n",
      "input::-webkit-inner-spin-button,input::-webkit-outer-spin-button,input::-webkit-search-cancel-button,input::-webkit-search-decoration,input::-webkit-search-results-button,input::-webkit-search-results-decoration{display:none;}\n",
      "[stylesheet-group=\"0.1\"]{}\n",
      ":focus:not([data-focusvisible-polyfill]){outline: none;}\n",
      "[stylesheet-group=\"1\"]{}\n",
      ".css-1dbjc4n{-ms-flex-align:stretch;-ms-flex-direction:column;-ms-flex-negative:0;-ms-flex-preferred-size:auto;-webkit-align-items:stretch;-webkit-box-align:stretch;-webkit-box-direction:normal;-webkit-box-orient:vertical;-webkit-flex-basis:auto;-webkit-flex-direction:column;-webkit-flex-shrink:0;align-items:stretch;border:0 solid black;box-sizing:border-box;display:-webkit-box;display:-moz-box;display:-ms-flexbox;display:-webkit-flex;display:flex;flex-basis:auto;flex-direction:column;flex-shrink:0;margin-bottom:0px;margin-left:0px;margin-right:0px;margin-top:0px;min-height:0px;min-width:0px;padding-bottom:0px;padding-left:0px;padding-right:0px;padding-top:0px;position:relative;z-index:0;}\n",
      ".css-901oao{border:0 solid black;box-sizing:border-box;color:rgba(0,0,0,1.00);display:inline;font:14px system-ui,-apple-system,BlinkMacSystemFont,\"Segoe UI\",Roboto,Ubuntu,\"Helvetica Neue\",sans-serif;margin-bottom:0px;margin-left:0px;margin-right:0px;margin-top:0px;padding-bottom:0px;padding-left:0px;padding-right:0px;padding-top:0px;white-space:pre-wrap;word-wrap:break-word;}\n",
      ".css-16my406{color:inherit;font:inherit;white-space:inherit;}\n",
      "[stylesheet-group=\"2\"]{}\n",
      ".r-13awgt0{-ms-flex-negative:1;-ms-flex-positive:1;-ms-flex-preferred-size:0%;-webkit-box-flex:1;-webkit-flex-basis:0%;-webkit-flex-grow:1;-webkit-flex-shrink:1;flex-basis:0%;flex-grow:1;flex-shrink:1;}\n",
      ".r-4qtqp9{display:inline-block;}\n",
      ".r-ywje51{margin-bottom:auto;margin-left:auto;margin-right:auto;margin-top:auto;}\n",
      ".r-hvic4v{display:none;}\n",
      ".r-1adg3ll{display:block;}\n",
      "[stylesheet-group=\"2.2\"]{}\n",
      ".r-12vffkv>*{pointer-events:auto;}\n",
      ".r-12vffkv{pointer-events:none!important;}\n",
      ".r-14lw9ot{background-color:rgba(255,255,255,1.00);}\n",
      ".r-1p0dtai{bottom:0px;}\n",
      ".r-1d2f490{left:0px;}\n",
      ".r-1xcajam{position:fixed;}\n",
      ".r-zchlnj{right:0px;}\n",
      ".r-ipm5af{top:0px;}\n",
      ".r-yyyyoo{fill:currentcolor;}\n",
      ".r-1xvli5t{height:1.25em;}\n",
      ".r-dnmrzs{max-width:100%;}\n",
      ".r-bnwqim{position:relative;}\n",
      ".r-1plcrui{vertical-align:text-bottom;}\n",
      ".r-lrvibr{-moz-user-select:none;-ms-user-select:none;-webkit-user-select:none;user-select:none;}\n",
      ".r-13gxpu9{color:rgba(29,161,242,1.00);}\n",
      ".r-wy61xf{height:72px;}\n",
      ".r-u8s1d{position:absolute;}\n",
      ".r-1blnp2b{width:72px;}\n",
      ".r-1ykxob0{top:60%;}\n",
      ".r-1b2b6em{line-height:2em;}\n",
      ".r-q4m81j{text-align:center;}</style>\n",
      "\n",
      "\n",
      "\n",
      "<body>\n",
      "  <noscript>\n",
      "    <form action=\"https://mobile.twitter.com/i/nojs_router?path=%2Fmarswxreport%3Flang%3Den\" method=\"POST\" style=\"background-color: #fff; position: fixed; top: 0; left: 0; right: 0; bottom: 0; z-index: 9999;\">\n",
      "      <div style=\"font-size: 18px; font-family: Helvetica,sans-serif; line-height: 24px; margin: 10%; width: 80%;\">\n",
      "        <p>We've detected that JavaScript is disabled in your browser. Would you like to proceed to legacy Twitter?</p>\n",
      "        <p style=\"margin: 20px 0;\">\n",
      "          <button type=\"submit\" style=\"background-color: #1da1f2; border-radius: 100px; border: none; box-shadow: none; color: #fff; cursor: pointer; font-size: 14px; font-weight: bold; line-height: 20px; padding: 6px 16px;\">Yes</button>\n",
      "        </p>\n",
      "      </div>\n",
      "    </form>\n",
      "  </noscript>\n",
      "  <div id=\"react-root\" style=\"height:100%;display:flex;\"><div class=\"css-1dbjc4n r-13awgt0 r-12vffkv\"><div class=\"css-1dbjc4n r-13awgt0 r-12vffkv\"><div aria-label=\"Loading…\" class=\"css-1dbjc4n r-14lw9ot r-1p0dtai r-1d2f490 r-1xcajam r-zchlnj r-ipm5af\"><svg viewBox=\"0 0 24 24\" class=\"r-1p0dtai r-13gxpu9 r-4qtqp9 r-yyyyoo r-wy61xf r-1d2f490 r-ywje51 r-dnmrzs r-u8s1d r-zchlnj r-1plcrui r-ipm5af r-lrvibr r-1blnp2b\"><g><path d=\"M23.643 4.937c-.835.37-1.732.62-2.675.733.962-.576 1.7-1.49 2.048-2.578-.9.534-1.897.922-2.958 1.13-.85-.904-2.06-1.47-3.4-1.47-2.572 0-4.658 2.086-4.658 4.66 0 .364.042.718.12 1.06-3.873-.195-7.304-2.05-9.602-4.868-.4.69-.63 1.49-.63 2.342 0 1.616.823 3.043 2.072 3.878-.764-.025-1.482-.234-2.11-.583v.06c0 2.257 1.605 4.14 3.737 4.568-.392.106-.803.162-1.227.162-.3 0-.593-.028-.877-.082.593 1.85 2.313 3.198 4.352 3.234-1.595 1.25-3.604 1.995-5.786 1.995-.376 0-.747-.022-1.112-.065 2.062 1.323 4.51 2.093 7.14 2.093 8.57 0 13.255-7.098 13.255-13.254 0-.2-.005-.402-.014-.602.91-.658 1.7-1.477 2.323-2.41z\"></path></g></svg></div><div class=\"css-1dbjc4n r-hvic4v r-1d2f490 r-1xcajam r-zchlnj r-1ykxob0\" id=\"ScriptLoadFailure\"><form action=\"\" method=\"GET\"><div dir=\"auto\" class=\"css-901oao r-1adg3ll r-1b2b6em r-q4m81j\"><span dir=\"auto\" class=\"css-901oao css-16my406\">Something went wrong, but don’t fret — let’s give it another shot.</span><br/><input type=\"submit\" value=\"Try again\"/></div></form></div></div></div></div>\n",
      "<script nonce=\"MWUwNTYzNWMtZGM0OS00YTdhLWI2ZWEtOGMxM2MxODMxMjY0\">\n",
      "window.__INITIAL_STATE__ = {\"optimist\":[],\"featureSwitch\":{\"config\":{\"account_country_setting_countries_whitelist\":{\"value\":[\"ad\",\"ae\",\"af\",\"ag\",\"ai\",\"al\",\"am\",\"ao\",\"ar\",\"as\",\"at\",\"au\",\"aw\",\"ax\",\"az\",\"ba\",\"bb\",\"bd\",\"be\",\"bf\",\"bg\",\"bh\",\"bi\",\"bj\",\"bl\",\"bm\",\"bn\",\"bo\",\"bq\",\"br\",\"bs\",\"bt\",\"bv\",\"bw\",\"by\",\"bz\",\"ca\",\"cc\",\"cd\",\"cf\",\"cg\",\"ch\",\"ci\",\"ck\",\"cl\",\"cm\",\"co\",\"cr\",\"cu\",\"cv\",\"cw\",\"cx\",\"cy\",\"cz\",\"de\",\"dj\",\"dk\",\"dm\",\"do\",\"dz\",\"ec\",\"ee\",\"eg\",\"er\",\"es\",\"et\",\"fi\",\"fj\",\"fk\",\"fm\",\"fo\",\"fr\",\"ga\",\"gb\",\"gd\",\"ge\",\"gf\",\"gg\",\"gh\",\"gi\",\"gl\",\"gm\",\"gn\",\"gp\",\"gq\",\"gr\",\"gs\",\"gt\",\"gu\",\"gw\",\"gy\",\"hk\",\"hn\",\"hr\",\"ht\",\"hu\",\"id\",\"ie\",\"il\",\"im\",\"in\",\"io\",\"iq\",\"ir\",\"is\",\"it\",\"je\",\"jm\",\"jo\",\"jp\",\"ke\",\"kg\",\"kh\",\"ki\",\"km\",\"kn\",\"kr\",\"kw\",\"ky\",\"kz\",\"la\",\"lb\",\"lc\",\"li\",\"lk\",\"lr\",\"ls\",\"lt\",\"lu\",\"lv\",\"ly\",\"ma\",\"mc\",\"md\",\"me\",\"mf\",\"mg\",\"mh\",\"mk\",\"ml\",\"mn\",\"mo\",\"mp\",\"mq\",\"mr\",\"ms\",\"mt\",\"mu\",\"mv\",\"mw\",\"mx\",\"my\",\"mz\",\"na\",\"nc\",\"ne\",\"nf\",\"ng\",\"ni\",\"nl\",\"no\",\"np\",\"nr\",\"nu\",\"nz\",\"om\",\"pa\",\"pe\",\"pf\",\"pg\",\"ph\",\"pk\",\"pl\",\"pm\",\"pn\",\"pr\",\"ps\",\"pt\",\"pw\",\"py\",\"qa\",\"re\",\"ro\",\"rs\",\"ru\",\"rw\",\"sa\",\"sb\",\"sc\",\"se\",\"sg\",\"sh\",\"si\",\"sk\",\"sl\",\"sm\",\"sn\",\"so\",\"sr\",\"st\",\"sv\",\"sx\",\"sz\",\"tc\",\"td\",\"tf\",\"tg\",\"th\",\"tj\",\"tk\",\"tl\",\"tm\",\"tn\",\"to\",\"tr\",\"tt\",\"tv\",\"tw\",\"tz\",\"ua\",\"ug\",\"us\",\"uy\",\"uz\",\"va\",\"vc\",\"ve\",\"vi\",\"vn\",\"vu\",\"wf\",\"ws\",\"xk\",\"ye\",\"yt\",\"za\",\"zm\",\"zw\"]},\"author_moderated_replies_urt_container_enabled\":{\"value\":false},\"content_language_setting_enabled\":{\"value\":true},\"conversation_controls_limited_replies_creation_enabled\":{\"value\":false},\"conversation_controls_limited_replies_consumption_configuration\":{\"value\":\"no_reply\"},\"dm_reactions_config_active_reactions\":{\"value\":[\"😂:funny\",\"😲:surprised\",\"😢:sad\",\"❤:like\",\"🔥:excited\",\"👍:agree\",\"👎:disagree\"]},\"dm_reactions_config_inactive_reactions\":{\"value\":[\"😠:angry\"]},\"guest_broadcasting_timeline_decorations_enabled\":{\"value\":true},\"home_timeline_latest_timeline_autoswitch_half_life_minutes\":{\"value\":43200},\"home_timeline_latest_timeline_autoswitch_threshold_multiplier\":{\"value\":2},\"home_timeline_latest_timeline_max_time_to_autoswitch_minutes\":{\"value\":5256000},\"home_timeline_latest_timeline_min_time_to_autoswitch_minutes\":{\"value\":5256000},\"home_timeline_latest_timeline_switch_enabled\":{\"value\":true},\"home_timeline_latest_timeline_threshold_to_increase_autoswitch_seconds\":{\"value\":60},\"home_timeline_spheres_copy_variant\":{\"value\":\"list_follow\"},\"home_timeline_spheres_custom_banner_image_reads_enabled\":{\"value\":true},\"home_timeline_spheres_detail_page_muting_enabled\":{\"value\":true},\"home_timeline_spheres_creation_and_edit_flows_enabled\":{\"value\":true},\"home_timeline_spheres_list_cell_thumbnail_enabled\":{\"value\":true},\"home_timeline_spheres_max_user_owned_or_subscribed_lists_count\":{\"value\":5},\"home_timeline_spheres_management_page_enabled\":{\"value\":true},\"home_timeline_spheres_ranking_mode_control_enabled\":{\"value\":true},\"identity_verification_intake_enabled\":{\"value\":false},\"live_event_multi_video_auto_advance_dock_enabled\":{\"value\":true},\"live_event_multi_video_auto_advance_enabled\":{\"value\":true},\"live_event_multi_video_auto_advance_fullscreen_enabled\":{\"value\":false},\"live_event_multi_video_auto_advance_transition_duration_seconds\":{\"value\":5},\"live_event_multi_video_enabled\":{\"value\":true},\"live_event_timeline_default_refresh_rate_interval_seconds\":{\"value\":30},\"live_event_timeline_minimum_refresh_rate_interval_seconds\":{\"value\":10},\"live_event_timeline_server_controlled_refresh_rate_enabled\":{\"value\":true},\"live_event_vod_promoted_content_enabled\":{\"value\":true},\"live_event_docking_enabled\":{\"value\":true},\"livepipeline_client_enabled\":{\"value\":true},\"livepipeline_dm_features_enabled\":{\"value\":true},\"livepipeline_tweetengagement_enabled\":{\"value\":true},\"moment_annotations_enabled\":{\"value\":true},\"navigation_stack_referrer_param_enabled\":{\"value\":false},\"network_layer_503_backoff_mode\":{\"value\":\"host\"},\"report_flow_id_enabled\":{\"value\":true},\"responsive_web_2fa_settings_change_copy_enabled\":{\"value\":true},\"responsive_web_alt_svc\":{\"value\":false},\"responsive_web_alt_text_badge_enabled\":{\"value\":false},\"responsive_web_api_transition_enabled\":{\"value\":false},\"responsive_web_use_app_prompt_copy_variant\":{\"value\":\"\"},\"responsive_web_use_app_prompt_enabled\":{\"value\":false},\"responsive_web_auto_logout_multiaccount_enabled\":{\"value\":true},\"responsive_web_auto_logout_restrictedauthtoken_enabled\":{\"value\":true},\"responsive_web_auto_logout_twid_enabled\":{\"value\":true},\"responsive_web_branch_sdk_enabled\":{\"value\":true},\"responsive_web_broadcast_page_card_enabled\":{\"value\":true},\"responsive_web_card_preload_mode\":{\"value\":\"off\"},\"responsive_web_check_browser_support_enabled\":{\"value\":true},\"responsive_web_cleanup_macaw_swift_indexed_db\":{\"value\":true},\"responsive_web_composer_card_previews_enabled\":{\"value\":false},\"responsive_web_continue_as_param_enabled\":{\"value\":true},\"responsive_web_continue_as_always_enabled\":{\"value\":false},\"responsive_web_conversation_tree_enabled\":{\"value\":false},\"responsive_web_conversation_tree_toggle\":{\"value\":false},\"responsive_web_csrf_clientside_enabled\":{\"value\":true},\"responsive_web_dark_mode_scrollbars_enabled\":{\"value\":false},\"responsive_web_dcm_2_enabled\":{\"value\":false},\"responsive_web_desktop_app_reload_hard_ttl\":{\"value\":86400000},\"responsive_web_desktop_app_reload_nightly_reset_enabled\":{\"value\":false},\"responsive_web_desktop_app_reload_soft_ttl\":{\"value\":86400000},\"responsive_web_dm_quick_access_enabled\":{\"value\":false},\"responsive_web_dm_quick_access_with_close_enabled\":{\"value\":false},\"responsive_web_dm_quick_access_no_empty_drawer_enabled\":{\"value\":false},\"responsive_web_elevated_qt_api_enabled\":{\"value\":true},\"responsive_web_elevated_qt_combine_retweet_and_quote_tweet_everywhere\":{\"value\":true},\"responsive_web_elevated_qt_combined_retweets_dynamic_label\":{\"value\":false},\"responsive_web_elevated_qt_ui_configuration\":{\"value\":\"combined\"},\"responsive_web_eu_countries\":{\"value\":[\"at\",\"be\",\"bg\",\"ch\",\"cy\",\"cz\",\"de\",\"dk\",\"ee\",\"es\",\"fi\",\"fr\",\"gb\",\"gr\",\"hr\",\"hu\",\"ie\",\"is\",\"it\",\"li\",\"lt\",\"lu\",\"lv\",\"mt\",\"nl\",\"no\",\"pl\",\"pt\",\"ro\",\"se\",\"si\",\"sk\"]},\"responsive_web_explore_as_lohp_enabled\":{\"value\":true},\"responsive_web_explore_tab_followup_enabled\":{\"value\":true},\"responsive_web_extension_compatibility_hide\":{\"value\":false},\"responsive_web_extension_compatibility_impression_guard\":{\"value\":true},\"responsive_web_extension_compatibility_override_param\":{\"value\":false},\"responsive_web_extension_compatibility_scribe\":{\"value\":true},\"responsive_web_extension_compatibility_size_threshold\":{\"value\":50},\"responsive_web_fake_root_twitter_domain_for_testing\":{\"value\":false},\"responsive_web_feature_switch_dash_enabled\":{\"value\":false},\"responsive_web_fetch_hashflags_on_boot\":{\"value\":true},\"responsive_web_framerate_tracking_home_enabled\":{\"value\":false},\"responsive_web_graphql_amr_timeline\":{\"value\":false},\"responsive_web_graphql_dark_reads_probability\":{\"value\":0},\"responsive_web_graphql_list_crud\":{\"value\":true},\"responsive_web_graphql_list_management_timelines_enabled\":{\"value\":false},\"responsive_web_graphql_list_members_subscribers_enabled\":{\"value\":false},\"responsive_web_graphql_list_operations\":{\"value\":false},\"responsive_web_graphql_tweet_results\":{\"value\":false},\"responsive_web_graphql_user_everywhere\":{\"value\":true},\"responsive_web_graphql_verify_credentials_enabled\":{\"value\":true},\"responsive_web_guest_token_reporting\":{\"value\":true},\"responsive_web_hide_media_previews_enabled\":{\"value\":false},\"responsive_web_history_tracker_enabled\":{\"value\":false},\"responsive_web_hoisting_anchor_invalidation_enabled\":{\"value\":false},\"responsive_web_home_wait_for_seenIds_enabled\":{\"value\":false},\"responsive_web_horizon_video_player_enabled\":{\"value\":true},\"responsive_web_hover_on_mousemove_enabled\":{\"value\":false},\"responsive_web_html_archive_renderer_enabled\":{\"value\":true},\"responsive_web_hw_cards_in_dms_enabled\":{\"value\":false},\"responsive_web_inline_login_field_prompts_enabled\":{\"value\":false},\"responsive_web_inline_reply_enabled\":{\"value\":false},\"responsive_web_inline_reply_with_fab_enabled\":{\"value\":false},\"responsive_web_instream_video_enabled\":{\"value\":true},\"responsive_web_live_video_parity_periscope_auth_enabled\":{\"value\":false},\"responsive_web_login_input_type_email_enabled\":{\"value\":false},\"responsive_web_login_signup_sheet_app_install_cta_enabled\":{\"value\":false},\"responsive_web_media_upload_limit_2g\":{\"value\":250},\"responsive_web_media_upload_limit_3g\":{\"value\":1500},\"responsive_web_media_upload_limit_slow_2g\":{\"value\":150},\"responsive_web_media_upload_md5_hashing_enabled\":{\"value\":false},\"responsive_web_media_upload_target_jpg_pixels_per_byte\":{\"value\":6},\"responsive_web_menu_section_divider_enabled\":{\"value\":false},\"responsive_web_moment_maker_enabled\":{\"value\":false},\"responsive_web_moment_maker_annotations_enabled\":{\"value\":false},\"responsive_web_multiple_account_limit\":{\"value\":5},\"responsive_web_ntab_verified_mentions_vit_internal_dogfood\":{\"value\":false},\"responsive_web_ocf_sms_autoverify_enabled\":{\"value\":false},\"responsive_web_report_page_not_found\":{\"value\":false},\"responsive_web_rich_tweet_landing_enabled\":{\"value\":true},\"responsive_web_second_degree_replies_nudge_get_enabled\":{\"value\":false},\"responsive_web_second_degree_replies_nudge_force_enabled\":{\"value\":false},\"responsive_web_second_degree_replies_nudge_show_enabled\":{\"value\":false},\"responsive_web_scheduling_edit_enabled\":{\"value\":false},\"responsive_web_scheduling_enabled\":{\"value\":false},\"responsive_web_scheduling_entry_point\":{\"value\":\"overflow\"},\"responsive_web_scroller_autopoll_enabled\":{\"value\":false},\"responsive_web_scroller_v3_enabled\":{\"value\":false},\"responsive_web_search_dms_enabled\":{\"value\":true},\"responsive_web_serviceworker_safari_enabled\":{\"value\":true},\"responsive_web_serviceworker_safari_old_enabled\":{\"value\":true},\"responsive_web_side_nav_enabled\":{\"value\":false},\"responsive_web_sports_carousel\":{\"value\":false},\"responsive_web_trends_setting_new_endpoints\":{\"value\":true},\"responsive_web_trigger_test_backoff_on_bookmark\":{\"value\":false},\"responsive_web_tweet_detail_to_tweet_enabled\":{\"value\":false},\"responsive_web_tweet_drafts_enabled\":{\"value\":false},\"responsive_web_tweets_pill_local_enabled\":{\"value\":true},\"responsive_web_unified_cards_live_event_enabled\":{\"value\":true},\"responsive_web_unified_cards_poll2choice_image_enabled\":{\"value\":true},\"responsive_web_unified_cards_poll2choice_video_enabled\":{\"value\":true},\"responsive_web_unified_cards_poll3choice_image_enabled\":{\"value\":true},\"responsive_web_unified_cards_poll3choice_video_enabled\":{\"value\":true},\"responsive_web_unified_cards_poll4choice_image_enabled\":{\"value\":true},\"responsive_web_unified_cards_poll4choice_video_enabled\":{\"value\":true},\"responsive_web_unsupported_entry_tombstone\":{\"value\":false},\"responsive_web_verification_v2_enabled\":{\"value\":true},\"responsive_web_video_native_fullscreen_enabled\":{\"value\":true},\"responsive_web_video_promoted_logging_enabled\":{\"value\":true},\"responsive_web_vod_muted_captions_enabled\":{\"value\":true},\"responsive_web_vs_config_desktop_assumed_item_height\":{\"value\":100},\"responsive_web_vs_config_resize_observer_enabled\":{\"value\":true},\"responsive_web_zipkin_api_requests_enabled\":{\"value\":false},\"search_channels_discovery_page_enabled\":{\"value\":false},\"search_channels_description_enabled\":{\"value\":false},\"scribe_api_error_sample_size\":{\"value\":0},\"scribe_api_sample_size\":{\"value\":100},\"scribe_cdn_host_list\":{\"value\":[\"si0.twimg.com\",\"si1.twimg.com\",\"si2.twimg.com\",\"si3.twimg.com\",\"a0.twimg.com\",\"a1.twimg.com\",\"a2.twimg.com\",\"a3.twimg.com\",\"abs.twimg.com\",\"amp.twimg.com\",\"o.twimg.com\",\"pbs.twimg.com\",\"pbs-eb.twimg.com\",\"pbs-ec.twimg.com\",\"pbs-v6.twimg.com\",\"pbs-h1.twimg.com\",\"pbs-h2.twimg.com\",\"video.twimg.com\",\"platform.twitter.com\",\"cdn.api.twitter.com\",\"ton.twimg.com\",\"v.cdn.vine.co\",\"mtc.cdn.vine.co\",\"edge.vncdn.co\",\"mid.vncdn.co\"]},\"scribe_cdn_sample_size\":{\"value\":50},\"soft_interventions_forward_pivot_enabled\":{\"value\":true},\"topic_landing_page_enabled\":{\"value\":false},\"topics_descriptions_enabled\":{\"value\":false},\"topics_dismiss_control_enabled\":{\"value\":false},\"topics_new_mgmt_enabled\":{\"value\":false},\"topics_new_social_context_enabled\":{\"value\":false},\"tweet_limited_actions_config_enabled\":{\"value\":true},\"tweet_limited_actions_config_non_compliant\":{\"value\":[\"reply\",\"retweet\",\"like\",\"send_via_dm\",\"add_to_bookmarks\",\"add_to_moment\",\"pin_to_profile\",\"view_tweet_activity\",\"share_tweet_via\"]},\"unified_cards_cta_color_blue_cta\":{\"value\":true},\"user_display_name_max_limit\":{\"value\":50},\"web_video_hls_mp4_threshold_sec\":{\"value\":0},\"web_video_hlsjs_max_buffer_length_pause\":{\"value\":3},\"web_video_hlsjs_max_buffer_length_play\":{\"value\":3},\"web_video_hlsjs_version\":{\"value\":\"\"}},\"debug\":{},\"impression_pointers\":{},\"impressions\":{},\"featureSetToken\":\"feb52e866dc8eeec18660e9177924558faaad028\",\"isLoaded\":true,\"isLoading\":false,\"keysRead\":{},\"settingsVersion\":\"e82b918d7fe30a2b00d4f1d2f617cc40\"},\"urt\":{},\"entities\":{\"users\":{\"entities\":{},\"errors\":{},\"fetchStatus\":{}},\"tweets\":{\"entities\":{},\"errors\":{},\"fetchStatus\":{}},\"cards\":{\"entities\":{},\"errors\":{},\"fetchStatus\":{}}},\"toasts\":[],\"devices\":{\"browserPush\":{\"fetchStatus\":\"none\",\"pushNotificationsPrompt\":{\"dismissed\":false,\"fetchStatus\":\"none\"},\"subscribed\":false,\"supported\":null},\"devices\":{\"data\":{\"emails\":[],\"phone_numbers\":[]},\"fetchStatus\":\"none\"},\"notificationSettings\":{\"push_settings\":{\"error\":null,\"fetchStatus\":\"none\"},\"push_settings_template\":{\"template\":{\"settings\":[]}},\"sms_settings\":{\"error\":null,\"fetchStatus\":\"none\"},\"sms_settings_template\":{\"template\":{\"settings\":[]}},\"checkin_time\":null}},\"typeaheadUsers\":{\"fetchStatus\":\"none\",\"users\":{},\"denylist\":{},\"lastUpdated\":0,\"index\":{}},\"session\":{\"country\":\"CA\",\"emailLiteLoginEligibility\":{\"fetchStatus\":\"none\"},\"guestId\":\"159280615664078817\",\"language\":\"en\",\"oneFactorLoginEligibility\":{\"fetchStatus\":\"none\"}},\"settings\":{\"local\":{\"nextPushCheckin\":0,\"shouldAutoPlayGif\":false,\"scale\":\"normal\",\"themeColor\":\"blue\",\"highContrastEnabled\":false,\"themeBackground\":\"light\",\"loginPromptLastShown\":0,\"mediaPreviewsEnabled\":true,\"reducedMotionEnabled\":false,\"conversationTreeEnabled\":false,\"showTweetMediaDetailDrawer\":true},\"remote\":{\"settings\":{\"display_sensitive_media\":false},\"fetchStatus\":\"none\"},\"dataSaver\":{\"dataSaverMode\":false},\"transient\":{\"dtabBarInfo\":{\"dtabAll\":null,\"dtabRweb\":null,\"hide\":false},\"loginPromptShown\":false,\"lastViewedDmInboxPath\":\"/messages\",\"themeFocus\":\"\"}},\"hashflags\":{\"fetchStatus\":\"none\",\"hashflags\":{}}};\n",
      "window.__META_DATA__ = {\"env\":\"prod\",\"isFromDynamicRenderer\":false,\"isLoggedIn\":false,\"isRTL\":false,\"hasMultiAccountCookie\":false,\"uaParserTags\":[\"m2\",\"rweb_unsupported\",\"msw\"],\"serverDate\":1592806156697,\"sha\":\"afee0e17add15b2640529a3c1dbc1dfd2daf4d2e\"};\n",
      "</script>\n",
      "<script nonce=\"MWUwNTYzNWMtZGM0OS00YTdhLWI2ZWEtOGMxM2MxODMxMjY0\">\n",
      "  document.cookie = decodeURIComponent(\"gt=1274947544607600641; Max-Age=10800; Domain=.twitter.com; Path=/; Secure\");\n",
      "</script>\n",
      "<script type=\"text/javascript\" charset=\"utf-8\" nonce=\"MWUwNTYzNWMtZGM0OS00YTdhLWI2ZWEtOGMxM2MxODMxMjY0\">\n",
      "  window.__SCRIPTS_LOADED__ = {};\n",
      "  !function(e){function n(n){for(var o,t,i=n[0],l=n[1],c=n[2],s=0,m=[];s<i.length;s++)t=i[s],Object.prototype.hasOwnProperty.call(a,t)&&a[t]&&m.push(a[t][0]),a[t]=0;for(o in l)Object.prototype.hasOwnProperty.call(l,o)&&(e[o]=l[o]);for(u&&u(n);m.length;)m.shift()();return r.push.apply(r,c||[]),d()}function d(){for(var e,n=0;n<r.length;n++){for(var d=r[n],o=!0,i=1;i<d.length;i++){var l=d[i];0!==a[l]&&(o=!1)}o&&(r.splice(n--,1),e=t(t.s=d[0]))}return e}var o={},a={0:0},r=[];function t(n){if(o[n])return o[n].exports;var d=o[n]={i:n,l:!1,exports:{}};return e[n].call(d.exports,d,d.exports,t),d.l=!0,d.exports}t.e=function(e){var n=[],d=a[e];if(0!==d)if(d)n.push(d[2]);else{var o=new Promise((function(n,o){d=a[e]=[n,o]}));n.push(d[2]=o);var r,i=document.createElement(\"script\");i.charset=\"utf-8\",i.timeout=120,t.nc&&i.setAttribute(\"nonce\",t.nc),i.src=function(e){return t.p+\"\"+({2:\"sharedCore\",3:\"shared~loader.DMDrawer~bundle.Compose~bundle.RichTextCompose~bundle.DirectMessages~bundle.DMRichTextCompose~b\",4:\"shared~bundle.Explore~bundle.GenericTimeline~bundle.LiveEvent~bundle.Place~bundle.Search~bundle.QuoteTweetAct\",5:\"shared~bundle.ComposeMedia~bundle.Display~bundle.Ocf~bundle.Settings~bundle.SettingsProfile~bundle.UserLists~\",6:\"shared~bundle.ComposeMedia~bundle.Ocf~bundle.SettingsProfile~bundle.UserLists\",7:\"shared~bundle.Compose~bundle.RichTextCompose~bundle.PlainTextCompose\",8:\"shared~bundle.RichTextCompose~bundle.DMRichTextCompose~ondemand.RichText\",9:\"shared~bundle.Settings~ondemand.SettingsInternals~bundle.SettingsTransparency\",10:\"shared~loader.DMDrawer~bundle.DirectMessages~bundle.DMRichTextCompose\",11:\"shared~bundle.Display~bundle.Settings\",12:\"shared~bundle.Explore~loader.ExploreSidebar\",13:\"shared~loader.DMDrawer~bundle.DirectMessages\",14:\"shared~loader.DashMenu~bundle.Account\",15:\"shared~ondemand.lex~loaders.video.PlayerBase\",16:\"bundle.AboutThisAd\",17:\"bundle.Account\",18:\"bundle.AdvancedSearch\",19:\"bundle.Bookmarks\",20:\"bundle.Collection\",21:\"bundle.Compose\",22:\"bundle.ComposeMedia\",23:\"bundle.ConnectTab\",24:\"bundle.Conversation\",25:\"bundle.ConversationParticipants\",26:\"bundle.DMRichTextCompose\",27:\"bundle.DirectMessages\",28:\"bundle.Display\",29:\"bundle.Download\",30:\"bundle.Explore\",31:\"bundle.ExploreTopics\",32:\"bundle.FollowerRequests\",33:\"bundle.GenericTimeline\",34:\"bundle.GifSearch\",35:\"bundle.HomeTimeline\",36:\"bundle.KeyboardShortcuts\",37:\"bundle.LiveEvent\",38:\"bundle.LoggedOutHome\",39:\"bundle.Login\",40:\"bundle.Logout\",41:\"bundle.Moment\",42:\"bundle.MomentMaker\",43:\"bundle.MultiAccount\",44:\"bundle.NetworkInstrument\",45:\"bundle.NotificationDetail\",46:\"bundle.Notifications\",47:\"bundle.Ocf\",48:\"bundle.Place\",49:\"bundle.PlainTextCompose\",50:\"bundle.ProfileRedirect\",51:\"bundle.QuoteTweetActivity\",52:\"bundle.Report\",53:\"bundle.RichTextCompose\",54:\"bundle.Search\",55:\"bundle.Settings\",56:\"bundle.SettingsInternals\",57:\"bundle.SettingsProfile\",58:\"bundle.SettingsTransparency\",59:\"bundle.SmsLogin\",60:\"bundle.Topics\",61:\"bundle.Trends\",62:\"bundle.TweetActivity\",63:\"bundle.TweetMediaDetail\",64:\"bundle.TweetMediaTags\",65:\"bundle.Twitterversary\",66:\"bundle.UserAvatar\",67:\"bundle.UserFollowLists\",68:\"bundle.UserHeader\",69:\"bundle.UserLists\",70:\"bundle.UserMoments\",71:\"bundle.UserProfile\",72:\"bundle.UserRedirect\",171:\"loader.AbsolutePower\",172:\"loader.AppModules\",173:\"loader.DMDrawer\",174:\"loader.DashMenu\",175:\"loader.ExploreSidebar\",176:\"loader.FeedbackSheet\",177:\"loader.FeedbackTombstone\",178:\"loader.HWCard\",179:\"loader.NewTweetsPill\",180:\"loader.PeriscopeOverlay\",181:\"loader.ProfileClusterFollow\",182:\"loader.PushNotificationsPrompt\",183:\"loader.SideNav\",184:\"loader.SignupModule\",185:\"loader.TimelineGap\",186:\"loader.TimelineRenderer\",187:\"loader.TweetCurationActionMenu\",188:\"loader.TweetPhotos\",189:\"loader.Typeahead\",190:\"loader.WideLayout\",191:\"loader.directMessagesData\",192:\"loader.graphQLDarkReads\",193:\"loader.personalizationData\",194:\"loaders.video.PlayerBase\",195:\"loaders.video.PlayerHls13\",196:\"loaders.video.PlayerUi\",197:\"loaders.video.VideoPlayerDefaultUI\",199:\"ondemand.Balloons\",200:\"ondemand.BranchSdk\",201:\"ondemand.CarouselScroller\",202:\"ondemand.ComposeScheduling\",203:\"ondemand.Dropdown\",204:\"ondemand.EditBirthdate\",205:\"ondemand.EditPinned\",206:\"ondemand.EmojiPicker\",207:\"ondemand.HoverCard\",208:\"ondemand.InlinePlayer\",209:\"ondemand.IntentPrompt\",210:\"ondemand.MicrosoftInterface\",211:\"ondemand.ProfileSidebar\",212:\"ondemand.RichText\",213:\"ondemand.SettingsInternals\",214:\"ondemand.countries-ar\",215:\"ondemand.countries-bg\",216:\"ondemand.countries-bn\",217:\"ondemand.countries-ca\",218:\"ondemand.countries-cs\",219:\"ondemand.countries-da\",220:\"ondemand.countries-de\",221:\"ondemand.countries-el\",222:\"ondemand.countries-en\",223:\"ondemand.countries-en-GB\",224:\"ondemand.countries-es\",225:\"ondemand.countries-eu\",226:\"ondemand.countries-fa\",227:\"ondemand.countries-fi\",228:\"ondemand.countries-fil\",229:\"ondemand.countries-fr\",230:\"ondemand.countries-ga\",231:\"ondemand.countries-gl\",232:\"ondemand.countries-gu\",233:\"ondemand.countries-he\",234:\"ondemand.countries-hi\",235:\"ondemand.countries-hr\",236:\"ondemand.countries-hu\",237:\"ondemand.countries-id\",238:\"ondemand.countries-it\",239:\"ondemand.countries-ja\",240:\"ondemand.countries-kn\",241:\"ondemand.countries-ko\",242:\"ondemand.countries-mr\",243:\"ondemand.countries-ms\",244:\"ondemand.countries-nb\",245:\"ondemand.countries-nl\",246:\"ondemand.countries-pl\",247:\"ondemand.countries-pt\",248:\"ondemand.countries-ro\",249:\"ondemand.countries-ru\",250:\"ondemand.countries-sk\",251:\"ondemand.countries-sr\",252:\"ondemand.countries-sv\",253:\"ondemand.countries-ta\",254:\"ondemand.countries-th\",255:\"ondemand.countries-tr\",256:\"ondemand.countries-uk\",257:\"ondemand.countries-ur\",258:\"ondemand.countries-zh\",259:\"ondemand.countries-zh-Hant\",260:\"ondemand.emoji.ar\",261:\"ondemand.emoji.bg\",262:\"ondemand.emoji.bn\",263:\"ondemand.emoji.ca\",264:\"ondemand.emoji.cs\",265:\"ondemand.emoji.da\",266:\"ondemand.emoji.de\",267:\"ondemand.emoji.el\",268:\"ondemand.emoji.en\",269:\"ondemand.emoji.en-GB\",270:\"ondemand.emoji.en-ss\",271:\"ondemand.emoji.en-xx\",272:\"ondemand.emoji.es\",273:\"ondemand.emoji.eu\",274:\"ondemand.emoji.fa\",275:\"ondemand.emoji.fi\",276:\"ondemand.emoji.fil\",277:\"ondemand.emoji.fr\",278:\"ondemand.emoji.ga\",279:\"ondemand.emoji.gl\",280:\"ondemand.emoji.gu\",281:\"ondemand.emoji.he\",282:\"ondemand.emoji.hi\",283:\"ondemand.emoji.hr\",284:\"ondemand.emoji.hu\",285:\"ondemand.emoji.id\",286:\"ondemand.emoji.it\",287:\"ondemand.emoji.ja\",288:\"ondemand.emoji.kn\",289:\"ondemand.emoji.ko\",290:\"ondemand.emoji.mr\",291:\"ondemand.emoji.ms\",292:\"ondemand.emoji.nb\",293:\"ondemand.emoji.nl\",294:\"ondemand.emoji.pl\",295:\"ondemand.emoji.pt\",296:\"ondemand.emoji.ro\",297:\"ondemand.emoji.ru\",298:\"ondemand.emoji.sk\",299:\"ondemand.emoji.sr\",300:\"ondemand.emoji.sv\",301:\"ondemand.emoji.ta\",302:\"ondemand.emoji.th\",303:\"ondemand.emoji.tr\",304:\"ondemand.emoji.uk\",305:\"ondemand.emoji.ur\",306:\"ondemand.emoji.vi\",307:\"ondemand.emoji.zh\",308:\"ondemand.emoji.zh-Hant\",309:\"ondemand.framerateTracking\",310:\"ondemand.lex\",311:\"ondemand.video.PlayerHls12\"}[e]||e)+\".\"+{2:\"fc0b7fd\",3:\"7f96f4e\",4:\"968a7ac\",5:\"ada01e0\",6:\"4c5edb8\",7:\"274a79a\",8:\"32f521d\",9:\"b5b1e5b\",10:\"1a8d286\",11:\"04202d5\",12:\"e63cd1d\",13:\"4972c3e\",14:\"518c67f\",15:\"6e477e8\",16:\"b5b3df7\",17:\"b63f9df\",18:\"38d5769\",19:\"f0710d3\",20:\"ef05e36\",21:\"79e2c93\",22:\"b3e3772\",23:\"5bc2590\",24:\"be5e234\",25:\"a15206b\",26:\"be1badf\",27:\"f24d0c5\",28:\"0da04f2\",29:\"83bed63\",30:\"432498a\",31:\"9181126\",32:\"b7a3702\",33:\"d98d3a8\",34:\"7f23d1e\",35:\"4f83e01\",36:\"cc65d17\",37:\"125d0a4\",38:\"8bbe087\",39:\"df34ba4\",40:\"837b090\",41:\"94ccf59\",42:\"6a370b5\",43:\"b5339af\",44:\"476bd33\",45:\"368ea10\",46:\"cfc69ea\",47:\"c49b533\",48:\"1b0865c\",49:\"493bc36\",50:\"2e81ccc\",51:\"9c04b7f\",52:\"8e09f1e\",53:\"992ae88\",54:\"e053abd\",55:\"55eeed8\",56:\"bcf1d2f\",57:\"e2c3031\",58:\"a6325a1\",59:\"b2aea31\",60:\"2972c59\",61:\"7d6e197\",62:\"f1daab8\",63:\"a4e6b24\",64:\"e3d601b\",65:\"9fd9477\",66:\"5c1e193\",67:\"40aa8db\",68:\"c822344\",69:\"f80cfd2\",70:\"e213068\",71:\"3a07dc8\",72:\"f0d6b46\",171:\"6247e6f\",172:\"fa5d30d\",173:\"2a84dc6\",174:\"b358ec4\",175:\"38306b7\",176:\"452e918\",177:\"682d9b8\",178:\"0badcfc\",179:\"b9e7394\",180:\"068ff50\",181:\"2517146\",182:\"5678ec2\",183:\"bbfbc55\",184:\"913f03c\",185:\"eea4623\",186:\"9548978\",187:\"023fa19\",188:\"7ab6030\",189:\"a65f37b\",190:\"81ff9a9\",191:\"9560a04\",192:\"e8830bb\",193:\"f0179e8\",194:\"21420f9\",195:\"4ee8b5a\",196:\"d3de4ff\",197:\"bd1770f\",199:\"0feaaed\",200:\"ad1320e\",201:\"667bc56\",202:\"ee88002\",203:\"990a882\",204:\"54c677c\",205:\"b4e3890\",206:\"1b2bf5a\",207:\"8664310\",208:\"3a8323d\",209:\"0d459a5\",210:\"421a958\",211:\"885c25b\",212:\"a975d44\",213:\"e148857\",214:\"31f9786\",215:\"ecc2070\",216:\"8cad08c\",217:\"f503f57\",218:\"88af025\",219:\"4f96908\",220:\"131c85e\",221:\"b8e4899\",222:\"163883c\",223:\"2911fa1\",224:\"c8993db\",225:\"e9ca373\",226:\"02c8878\",227:\"9c331a8\",228:\"ab7b24a\",229:\"4a1af35\",230:\"1d664be\",231:\"5ad9b0b\",232:\"c5a1540\",233:\"edf55ea\",234:\"dbb864b\",235:\"9fa3b95\",236:\"3a7f737\",237:\"19abeea\",238:\"d6c5db7\",239:\"2c1002a\",240:\"38f76e0\",241:\"94c62b1\",242:\"dc60427\",243:\"c82a045\",244:\"4799f07\",245:\"3da2881\",246:\"e689cf3\",247:\"a5a9845\",248:\"af06bd7\",249:\"5b28726\",250:\"b37e56c\",251:\"6d6b8e1\",252:\"caccdf4\",253:\"d160639\",254:\"6c43fee\",255:\"884b412\",256:\"b179e7b\",257:\"9256f4a\",258:\"6f5df44\",259:\"f059f19\",260:\"face470\",261:\"ba8301d\",262:\"8b32960\",263:\"1bc7ecd\",264:\"c0ed64f\",265:\"ebe8cf1\",266:\"5c19379\",267:\"8d09301\",268:\"07097c4\",269:\"912dbd4\",270:\"61c5da5\",271:\"8ffc455\",272:\"3a7849d\",273:\"94757e5\",274:\"eac1191\",275:\"ce0a110\",276:\"c7ea477\",277:\"3ef401b\",278:\"d9e60db\",279:\"712c0bf\",280:\"c09ff44\",281:\"d218645\",282:\"be82ea8\",283:\"23d24d1\",284:\"1754ad7\",285:\"d85e7e3\",286:\"0f76df3\",287:\"52d198a\",288:\"df463e5\",289:\"43877a6\",290:\"ba1dd03\",291:\"a923525\",292:\"c81fb85\",293:\"40024ef\",294:\"e5d32d6\",295:\"5e4c224\",296:\"41c9d0f\",297:\"3c962cc\",298:\"b951ec9\",299:\"658c1c7\",300:\"19057c5\",301:\"a435b05\",302:\"6164003\",303:\"7007e77\",304:\"606f4ef\",305:\"9a17f49\",306:\"cffdb2b\",307:\"668ffb4\",308:\"ab00410\",309:\"49c3096\",310:\"72f693a\",311:\"22008ef\"}[e]+\"4.js\"}(e);var l=new Error;r=function(n){i.onerror=i.onload=null,clearTimeout(c);var d=a[e];if(0!==d){if(d){var o=n&&(\"load\"===n.type?\"missing\":n.type),r=n&&n.target&&n.target.src;l.message=\"Loading chunk \"+e+\" failed.\\n(\"+o+\": \"+r+\")\",l.name=\"ChunkLoadError\",l.type=o,l.request=r,d[1](l)}a[e]=void 0}};var c=setTimeout((function(){r({type:\"timeout\",target:i})}),12e4);i.onerror=i.onload=r,document.head.appendChild(i)}return Promise.all(n)},t.m=e,t.c=o,t.d=function(e,n,d){t.o(e,n)||Object.defineProperty(e,n,{enumerable:!0,get:d})},t.r=function(e){\"undefined\"!=typeof Symbol&&Symbol.toStringTag&&Object.defineProperty(e,Symbol.toStringTag,{value:\"Module\"}),Object.defineProperty(e,\"__esModule\",{value:!0})},t.t=function(e,n){if(1&n&&(e=t(e)),8&n)return e;if(4&n&&\"object\"==typeof e&&e&&e.__esModule)return e;var d=Object.create(null);if(t.r(d),Object.defineProperty(d,\"default\",{enumerable:!0,value:e}),2&n&&\"string\"!=typeof e)for(var o in e)t.d(d,o,function(n){return e[n]}.bind(null,o));return d},t.n=function(e){var n=e&&e.__esModule?function(){return e.default}:function(){return e};return t.d(n,\"a\",n),n},t.o=function(e,n){return Object.prototype.hasOwnProperty.call(e,n)},t.p=\"https://abs.twimg.com/responsive-web/web/\",t.oe=function(e){throw e};var i=window.webpackJsonp=window.webpackJsonp||[],l=i.push.bind(i);i.push=n,i=i.slice();for(var c=0;c<i.length;c++)n(i[c]);var u=l;d()}([]),window.__SCRIPTS_LOADED__.runtime=!0;\n",
      "//# sourceMappingURL=runtime.61b86384.js.map\n",
      "</script>\n",
      "<script type=\"text/javascript\" charset=\"utf-8\" nonce=\"MWUwNTYzNWMtZGM0OS00YTdhLWI2ZWEtOGMxM2MxODMxMjY0\" crossorigin=\"anonymous\" src=\"https://abs.twimg.com/responsive-web/web/polyfills.aa560c44.js\"></script>\n",
      "<script type=\"text/javascript\" charset=\"utf-8\" nonce=\"MWUwNTYzNWMtZGM0OS00YTdhLWI2ZWEtOGMxM2MxODMxMjY0\" crossorigin=\"anonymous\" src=\"https://abs.twimg.com/responsive-web/web/vendors~main.805584a4.js\"></script>\n",
      "<script type=\"text/javascript\" charset=\"utf-8\" nonce=\"MWUwNTYzNWMtZGM0OS00YTdhLWI2ZWEtOGMxM2MxODMxMjY0\" crossorigin=\"anonymous\" src=\"https://abs.twimg.com/responsive-web/web/i18n-rweb/en.3bf1e624.js\"></script>\n",
      "<script type=\"text/javascript\" charset=\"utf-8\" nonce=\"MWUwNTYzNWMtZGM0OS00YTdhLWI2ZWEtOGMxM2MxODMxMjY0\" crossorigin=\"anonymous\" src=\"https://abs.twimg.com/responsive-web/web/i18n-horizon/en.3a9553d4.js\"></script>\n",
      "<script type=\"text/javascript\" charset=\"utf-8\" nonce=\"MWUwNTYzNWMtZGM0OS00YTdhLWI2ZWEtOGMxM2MxODMxMjY0\" crossorigin=\"anonymous\" src=\"https://abs.twimg.com/responsive-web/web/main.92eeeb04.js\"></script>\n",
      "<script nonce=\"MWUwNTYzNWMtZGM0OS00YTdhLWI2ZWEtOGMxM2MxODMxMjY0\">\n",
      "  if (!window.__SCRIPTS_LOADED__['main']) {\n",
      "    document.getElementById('ScriptLoadFailure').style.display = 'block';\n",
      "  }\n",
      "</script>\n",
      "\n"
     ]
    },
    {
     "ename": "TypeError",
     "evalue": "expected string or bytes-like object",
     "output_type": "error",
     "traceback": [
      "\u001b[0;31m---------------------------------------------------------------------------\u001b[0m",
      "\u001b[0;31mTypeError\u001b[0m                                 Traceback (most recent call last)",
      "\u001b[0;32m<ipython-input-54-e7d5a7c9115a>\u001b[0m in \u001b[0;36m<module>\u001b[0;34m\u001b[0m\n\u001b[1;32m      7\u001b[0m \u001b[0;31m#print(soup)\u001b[0m\u001b[0;34m\u001b[0m\u001b[0;34m\u001b[0m\u001b[0;34m\u001b[0m\u001b[0m\n\u001b[1;32m      8\u001b[0m \u001b[0mpattern\u001b[0m\u001b[0;34m=\u001b[0m\u001b[0mre\u001b[0m\u001b[0;34m.\u001b[0m\u001b[0mcompile\u001b[0m\u001b[0;34m(\u001b[0m\u001b[0;34mr\"InSight sol \\d*\\s\\(.*?\\)\\slow\\s.*?ºC\\s\\(.*?\\)\\shigh\\s.*?ºC\\s\\(.*?\\)\\nwinds\\s\\D*\\d*.\\d*\\s.{3}\\s\\(.*?mph\\)\\s.*\\(.*?mph\\)\\npressure.*hPa\"\u001b[0m\u001b[0;34m)\u001b[0m\u001b[0;34m\u001b[0m\u001b[0;34m\u001b[0m\u001b[0m\n\u001b[0;32m----> 9\u001b[0;31m \u001b[0mmatches\u001b[0m\u001b[0;34m=\u001b[0m\u001b[0mpattern\u001b[0m\u001b[0;34m.\u001b[0m\u001b[0msearch\u001b[0m\u001b[0;34m(\u001b[0m\u001b[0msoup\u001b[0m\u001b[0;34m)\u001b[0m\u001b[0;34m\u001b[0m\u001b[0;34m\u001b[0m\u001b[0m\n\u001b[0m\u001b[1;32m     10\u001b[0m \u001b[0;31m#print(matches)\u001b[0m\u001b[0;34m\u001b[0m\u001b[0;34m\u001b[0m\u001b[0;34m\u001b[0m\u001b[0m\n\u001b[1;32m     11\u001b[0m \u001b[0mprint\u001b[0m\u001b[0;34m(\u001b[0m\u001b[0mpattern\u001b[0m\u001b[0;34m.\u001b[0m\u001b[0msearch\u001b[0m\u001b[0;34m(\u001b[0m\u001b[0msoup\u001b[0m\u001b[0;34m)\u001b[0m\u001b[0;34m)\u001b[0m\u001b[0;34m\u001b[0m\u001b[0;34m\u001b[0m\u001b[0m\n",
      "\u001b[0;31mTypeError\u001b[0m: expected string or bytes-like object"
     ]
    }
   ],
   "source": [
    "import requests\n",
    "html=requests.get(url)\n",
    "print(html.text)\n",
    "soup = BeautifulSoup(html.text, 'html.parser')\n",
    "#print(soup)\n",
    "#print(soup.prettify())\n",
    "#print(soup)\n",
    "pattern=re.compile(r\"InSight sol \\d*\\s\\(.*?\\)\\slow\\s.*?ºC\\s\\(.*?\\)\\shigh\\s.*?ºC\\s\\(.*?\\)\\nwinds\\s\\D*\\d*.\\d*\\s.{3}\\s\\(.*?mph\\)\\s.*\\(.*?mph\\)\\npressure.*hPa\")\n",
    "matches=pattern.search(soup)\n",
    "#print(matches)\n",
    "print(pattern.search(soup))\n",
    "#print(weather_tweet)"
   ]
  },
  {
   "cell_type": "code",
   "execution_count": 16,
   "metadata": {},
   "outputs": [
    {
     "name": "stdout",
     "output_type": "stream",
     "text": [
      "InSight sol 556 (2020-06-19) low -90.8ºC (-131.4ºF) high -6.5ºC (20.4ºF)\n",
      "winds from the W at 7.3 m/s (16.3 mph) gusting to 21.3 m/s (47.6 mph)\n",
      "pressure at 7.50 hPa\n"
     ]
    }
   ],
   "source": [
    "html = browser.html\n",
    "soup = html = browser.html\n",
    "soup = BeautifulSoup(html, \"html.parser\")\n",
    "\n",
    "mars_tweet = soup.find('div', attrs={\"class\": \"tweet\", \"data-name\": \"Mars Weather\"})\n",
    "import re\n",
    "try:\n",
    "    matches = mars_tweet.find(\"p\", \"tweet-text\").get_text()\n",
    "    matches\n",
    "except AttributeError:\n",
    "    pattern = re.compile(r'sol')\n",
    "    matches = soup.find('span', text=pattern).text\n",
    "    matches\n",
    "    print(matches)\n"
   ]
  },
  {
   "cell_type": "code",
   "execution_count": null,
   "metadata": {},
   "outputs": [],
   "source": [
    "weather=matches.group(0)\n",
    "weather1=weather.split('\\n')\n",
    "tweet=weather1[0]+weather1[1]+weather1[2]\n",
    "tweet"
   ]
  },
  {
   "cell_type": "code",
   "execution_count": 52,
   "metadata": {},
   "outputs": [
    {
     "data": {
      "text/plain": [
       "[<div class=\"css-1dbjc4n r-18u37iz\" data-testid=\"tweet\"><div class=\"css-1dbjc4n r-1awozwy r-18kxxzh r-zso239\" style=\"flex-basis: 49px;\"><div class=\"css-1dbjc4n r-18kxxzh r-1wbh5a2 r-13qz1uu\"><div class=\"css-1dbjc4n r-1wbh5a2 r-dnmrzs\"><a class=\"css-4rbku5 css-18t94o4 css-1dbjc4n r-sdzlij r-1loqt21 r-1adg3ll r-ahm1il r-1ny4l3l r-1udh08x r-o7ynqc r-6416eg r-13qz1uu\" data-focusable=\"true\" href=\"/MarsWxReport\" role=\"link\"><div class=\"css-1dbjc4n r-1adg3ll r-1udh08x\" style=\"\"><div class=\"r-1adg3ll r-13qz1uu\" style=\"padding-bottom: 100%;\"></div><div class=\"r-1p0dtai r-1pi2tsx r-1d2f490 r-u8s1d r-ipm5af r-13qz1uu\"><div aria-label=\"\" class=\"css-1dbjc4n r-sdzlij r-1p0dtai r-1mlwlqe r-1d2f490 r-1udh08x r-u8s1d r-zchlnj r-ipm5af r-417010\"><div class=\"css-1dbjc4n r-1niwhzg r-vvn4in r-u6sd8q r-4gszlv r-1p0dtai r-1pi2tsx r-1d2f490 r-u8s1d r-zchlnj r-ipm5af r-13qz1uu r-1wyyakw\" style='background-image: url(\"https://pbs.twimg.com/profile_images/2552209293/220px-Mars_atmosphere_reasonably_small.jpg\");'></div><img alt=\"\" class=\"css-9pa8cd\" draggable=\"true\" src=\"https://pbs.twimg.com/profile_images/2552209293/220px-Mars_atmosphere_reasonably_small.jpg\"/></div></div></div><div class=\"css-1dbjc4n r-1twgtwe r-sdzlij r-rs99b7 r-1p0dtai r-1mi75qu r-1d2f490 r-1ny4l3l r-u8s1d r-zchlnj r-ipm5af r-o7ynqc r-6416eg\"></div></a></div></div></div><div class=\"css-1dbjc4n r-1iusvr4 r-16y2uox r-1777fci r-1mi0q7o\"><div class=\"css-1dbjc4n\"><div class=\"css-1dbjc4n r-zl2h9q\"><div class=\"css-1dbjc4n r-1awozwy r-18u37iz r-1wtj0ep\"><div class=\"css-1dbjc4n r-1d09ksm r-18u37iz r-1wbh5a2\"><div class=\"css-1dbjc4n r-1wbh5a2 r-dnmrzs\"><a class=\"css-4rbku5 css-18t94o4 css-1dbjc4n r-1loqt21 r-1wbh5a2 r-dnmrzs r-1ny4l3l\" data-focusable=\"true\" href=\"/MarsWxReport\" role=\"link\"><div class=\"css-1dbjc4n r-1awozwy r-18u37iz r-1wbh5a2 r-dnmrzs r-1ny4l3l\"><div class=\"css-1dbjc4n r-1awozwy r-18u37iz r-dnmrzs\"><div class=\"css-901oao css-bfa6kz r-hkyrab r-1qd0xha r-a023e6 r-vw2c0b r-ad9z0x r-bcqeeo r-3s2u2q r-qvutc0\" dir=\"auto\"><span class=\"css-901oao css-16my406 r-1qd0xha r-ad9z0x r-bcqeeo r-qvutc0\"><span class=\"css-901oao css-16my406 r-1qd0xha r-ad9z0x r-bcqeeo r-qvutc0\">Mars Weather</span></span></div><div class=\"css-901oao r-hkyrab r-18u37iz r-1q142lx r-1qd0xha r-a023e6 r-16dba41 r-ad9z0x r-bcqeeo r-qvutc0\" dir=\"auto\"></div></div><div class=\"css-1dbjc4n r-18u37iz r-1wbh5a2 r-1f6r7vd\"><div class=\"css-901oao css-bfa6kz r-1re7ezh r-18u37iz r-1qd0xha r-a023e6 r-16dba41 r-ad9z0x r-bcqeeo r-qvutc0\" dir=\"ltr\"><span class=\"css-901oao css-16my406 r-1qd0xha r-ad9z0x r-bcqeeo r-qvutc0\">@MarsWxReport</span></div></div></div></a></div><div aria-hidden=\"true\" class=\"css-901oao r-1re7ezh r-1q142lx r-1qd0xha r-a023e6 r-16dba41 r-ad9z0x r-bcqeeo r-ou255f r-qvutc0\" dir=\"auto\"><span class=\"css-901oao css-16my406 r-1qd0xha r-ad9z0x r-bcqeeo r-qvutc0\">·</span></div><a aria-label=\"13 hours ago\" class=\"r-1re7ezh r-1loqt21 r-1q142lx r-1qd0xha r-a023e6 r-16dba41 r-ad9z0x r-bcqeeo r-3s2u2q r-qvutc0 css-4rbku5 css-18t94o4 css-901oao\" data-focusable=\"true\" dir=\"auto\" href=\"/MarsWxReport/status/1273538752032526337\" role=\"link\" title=\"4:51 AM · Jun 18, 2020\"><time datetime=\"2020-06-18T08:51:14.000Z\">13h</time></a></div><div class=\"css-1dbjc4n r-18u37iz r-1h0z5md r-1joea0r\"><div aria-haspopup=\"true\" aria-label=\"More\" class=\"css-18t94o4 css-1dbjc4n r-1777fci r-11cpok1 r-1ny4l3l r-bztko3 r-lrvibr\" data-focusable=\"true\" data-testid=\"caret\" role=\"button\" tabindex=\"0\"><div class=\"css-901oao r-1awozwy r-1re7ezh r-6koalj r-1qd0xha r-a023e6 r-16dba41 r-1h0z5md r-ad9z0x r-bcqeeo r-o7ynqc r-clp7b1 r-3s2u2q r-qvutc0\" dir=\"ltr\"><div class=\"css-1dbjc4n r-xoduu5\"><div class=\"css-1dbjc4n r-1niwhzg r-sdzlij r-1p0dtai r-xoduu5 r-1d2f490 r-podbf7 r-u8s1d r-zchlnj r-ipm5af r-o7ynqc r-6416eg\"></div><svg class=\"r-4qtqp9 r-yyyyoo r-ip8ujx r-dnmrzs r-bnwqim r-1plcrui r-lrvibr r-27tl0q\" viewbox=\"0 0 24 24\"><g><path d=\"M20.207 8.147c-.39-.39-1.023-.39-1.414 0L12 14.94 5.207 8.147c-.39-.39-1.023-.39-1.414 0-.39.39-.39 1.023 0 1.414l7.5 7.5c.195.196.45.294.707.294s.512-.098.707-.293l7.5-7.5c.39-.39.39-1.022 0-1.413z\"></path></g></svg></div></div></div></div></div></div></div><div class=\"css-1dbjc4n\"><div class=\"css-1dbjc4n\"><div class=\"css-901oao r-hkyrab r-1qd0xha r-a023e6 r-16dba41 r-ad9z0x r-bcqeeo r-bnwqim r-qvutc0\" dir=\"auto\" lang=\"en\"><span class=\"css-901oao css-16my406 r-1qd0xha r-ad9z0x r-bcqeeo r-qvutc0\">InSight sol 554 (2020-06-17) low -92.4ºC (-134.3ºF) high -4.0ºC (24.9ºF)\n",
       " winds from the SW at 5.9 m/s (13.2 mph) gusting to 17.1 m/s (38.2 mph)\n",
       " pressure at 7.50 hPa</span></div></div><div class=\"css-1dbjc4n\"><div class=\"css-1dbjc4n\"><div class=\"css-1dbjc4n r-1udh08x\"><div class=\"css-1dbjc4n r-9x6qib r-t23y2h r-1phboty r-rs99b7 r-156q2ks r-1udh08x\"><div class=\"css-1dbjc4n\"><a class=\"css-4rbku5 css-18t94o4 css-1dbjc4n r-1loqt21 r-1ny4l3l\" data-focusable=\"true\" href=\"/MarsWxReport/status/1273538752032526337/photo/1\" role=\"link\"><div class=\"css-1dbjc4n r-1adg3ll r-1udh08x\" style=\"\"><div class=\"r-1adg3ll r-13qz1uu\" style=\"padding-bottom: 56.25%;\"></div><div class=\"r-1p0dtai r-1pi2tsx r-1d2f490 r-u8s1d r-ipm5af r-13qz1uu\"><div aria-label=\"Image\" class=\"css-1dbjc4n r-1p0dtai r-1mlwlqe r-1d2f490 r-11wrixw r-1udh08x r-u8s1d r-zchlnj r-ipm5af r-417010\" style=\"margin-bottom: 0px; margin-right: 0px; margin-top: 0px;\"><div class=\"css-1dbjc4n r-1niwhzg r-vvn4in r-u6sd8q r-4gszlv r-1p0dtai r-1pi2tsx r-1d2f490 r-u8s1d r-zchlnj r-ipm5af r-13qz1uu r-1wyyakw\" style='background-image: url(\"https://pbs.twimg.com/media/EayEvnHXkAEu3pn?format=jpg&amp;name=medium\");'></div><img alt=\"Image\" class=\"css-9pa8cd\" draggable=\"true\" src=\"https://pbs.twimg.com/media/EayEvnHXkAEu3pn?format=jpg&amp;name=medium\"/></div></div></div></a></div></div></div></div></div><div aria-label=\"5 Retweets, 25 likes\" class=\"css-1dbjc4n r-18u37iz r-1wtj0ep r-156q2ks r-1mdbhws\" role=\"group\"><div class=\"css-1dbjc4n r-1iusvr4 r-18u37iz r-16y2uox r-1h0z5md\"><div aria-label=\"Reply\" class=\"css-18t94o4 css-1dbjc4n r-1777fci r-11cpok1 r-1ny4l3l r-bztko3 r-lrvibr\" data-focusable=\"true\" data-testid=\"reply\" role=\"button\" tabindex=\"0\"><div class=\"css-901oao r-1awozwy r-1re7ezh r-6koalj r-1qd0xha r-a023e6 r-16dba41 r-1h0z5md r-ad9z0x r-bcqeeo r-o7ynqc r-clp7b1 r-3s2u2q r-qvutc0\" dir=\"ltr\"><div class=\"css-1dbjc4n r-xoduu5\"><div class=\"css-1dbjc4n r-1niwhzg r-sdzlij r-1p0dtai r-xoduu5 r-1d2f490 r-xf4iuw r-u8s1d r-zchlnj r-ipm5af r-o7ynqc r-6416eg\"></div><svg class=\"r-4qtqp9 r-yyyyoo r-1xvli5t r-dnmrzs r-bnwqim r-1plcrui r-lrvibr r-1hdv0qi\" viewbox=\"0 0 24 24\"><g><path d=\"M14.046 2.242l-4.148-.01h-.002c-4.374 0-7.8 3.427-7.8 7.802 0 4.098 3.186 7.206 7.465 7.37v3.828c0 .108.044.286.12.403.142.225.384.347.632.347.138 0 .277-.038.402-.118.264-.168 6.473-4.14 8.088-5.506 1.902-1.61 3.04-3.97 3.043-6.312v-.017c-.006-4.367-3.43-7.787-7.8-7.788zm3.787 12.972c-1.134.96-4.862 3.405-6.772 4.643V16.67c0-.414-.335-.75-.75-.75h-.396c-3.66 0-6.318-2.476-6.318-5.886 0-3.534 2.768-6.302 6.3-6.302l4.147.01h.002c3.532 0 6.3 2.766 6.302 6.296-.003 1.91-.942 3.844-2.514 5.176z\"></path></g></svg></div></div></div></div><div class=\"css-1dbjc4n r-1iusvr4 r-18u37iz r-16y2uox r-1h0z5md\"><div aria-haspopup=\"true\" aria-label=\"5 Retweets. Retweet\" class=\"css-18t94o4 css-1dbjc4n r-1777fci r-11cpok1 r-1ny4l3l r-bztko3 r-lrvibr\" data-focusable=\"true\" data-testid=\"retweet\" role=\"button\" tabindex=\"0\"><div class=\"css-901oao r-1awozwy r-1re7ezh r-6koalj r-1qd0xha r-a023e6 r-16dba41 r-1h0z5md r-ad9z0x r-bcqeeo r-o7ynqc r-clp7b1 r-3s2u2q r-qvutc0\" dir=\"ltr\"><div class=\"css-1dbjc4n r-xoduu5\"><div class=\"css-1dbjc4n r-1niwhzg r-sdzlij r-1p0dtai r-xoduu5 r-1d2f490 r-xf4iuw r-u8s1d r-zchlnj r-ipm5af r-o7ynqc r-6416eg\"></div><svg class=\"r-4qtqp9 r-yyyyoo r-1xvli5t r-dnmrzs r-bnwqim r-1plcrui r-lrvibr r-1hdv0qi\" viewbox=\"0 0 24 24\"><g><path d=\"M23.77 15.67c-.292-.293-.767-.293-1.06 0l-2.22 2.22V7.65c0-2.068-1.683-3.75-3.75-3.75h-5.85c-.414 0-.75.336-.75.75s.336.75.75.75h5.85c1.24 0 2.25 1.01 2.25 2.25v10.24l-2.22-2.22c-.293-.293-.768-.293-1.06 0s-.294.768 0 1.06l3.5 3.5c.145.147.337.22.53.22s.383-.072.53-.22l3.5-3.5c.294-.292.294-.767 0-1.06zm-10.66 3.28H7.26c-1.24 0-2.25-1.01-2.25-2.25V6.46l2.22 2.22c.148.147.34.22.532.22s.384-.073.53-.22c.293-.293.293-.768 0-1.06l-3.5-3.5c-.293-.294-.768-.294-1.06 0l-3.5 3.5c-.294.292-.294.767 0 1.06s.767.293 1.06 0l2.22-2.22V16.7c0 2.068 1.683 3.75 3.75 3.75h5.85c.414 0 .75-.336.75-.75s-.337-.75-.75-.75z\"></path></g></svg></div><div class=\"css-1dbjc4n r-xoduu5 r-1udh08x\"><span class=\"css-901oao css-16my406 r-1qd0xha r-n6v787 r-1sf4r6n r-1n0xq6e r-bcqeeo r-d3hbe1 r-1wgg2b2 r-axxi2z r-qvutc0\"><span class=\"css-901oao css-16my406 r-1qd0xha r-ad9z0x r-bcqeeo r-qvutc0\">5</span></span></div></div></div></div><div class=\"css-1dbjc4n r-1iusvr4 r-18u37iz r-16y2uox r-1h0z5md\"><div aria-label=\"25 Likes. Like\" class=\"css-18t94o4 css-1dbjc4n r-1777fci r-11cpok1 r-1ny4l3l r-bztko3 r-lrvibr\" data-focusable=\"true\" data-testid=\"like\" role=\"button\" tabindex=\"0\"><div class=\"css-901oao r-1awozwy r-1re7ezh r-6koalj r-1qd0xha r-a023e6 r-16dba41 r-1h0z5md r-ad9z0x r-bcqeeo r-o7ynqc r-clp7b1 r-3s2u2q r-qvutc0\" dir=\"ltr\"><div class=\"css-1dbjc4n r-xoduu5\"><div class=\"css-1dbjc4n r-1niwhzg r-sdzlij r-1p0dtai r-xoduu5 r-1d2f490 r-xf4iuw r-u8s1d r-zchlnj r-ipm5af r-o7ynqc r-6416eg\"></div><svg class=\"r-4qtqp9 r-yyyyoo r-1xvli5t r-dnmrzs r-bnwqim r-1plcrui r-lrvibr r-1hdv0qi\" viewbox=\"0 0 24 24\"><g><path d=\"M12 21.638h-.014C9.403 21.59 1.95 14.856 1.95 8.478c0-3.064 2.525-5.754 5.403-5.754 2.29 0 3.83 1.58 4.646 2.73.814-1.148 2.354-2.73 4.645-2.73 2.88 0 5.404 2.69 5.404 5.755 0 6.376-7.454 13.11-10.037 13.157H12zM7.354 4.225c-2.08 0-3.903 1.988-3.903 4.255 0 5.74 7.034 11.596 8.55 11.658 1.518-.062 8.55-5.917 8.55-11.658 0-2.267-1.823-4.255-3.903-4.255-2.528 0-3.94 2.936-3.952 2.965-.23.562-1.156.562-1.387 0-.014-.03-1.425-2.965-3.954-2.965z\"></path></g></svg></div><div class=\"css-1dbjc4n r-xoduu5 r-1udh08x\"><span class=\"css-901oao css-16my406 r-1qd0xha r-n6v787 r-1sf4r6n r-1n0xq6e r-bcqeeo r-d3hbe1 r-1wgg2b2 r-axxi2z r-qvutc0\"><span class=\"css-901oao css-16my406 r-1qd0xha r-ad9z0x r-bcqeeo r-qvutc0\">25</span></span></div></div></div></div><div class=\"css-1dbjc4n r-1mlwlqe r-18u37iz r-18kxxzh r-1h0z5md\"><div aria-haspopup=\"true\" aria-label=\"Share Tweet\" class=\"css-18t94o4 css-1dbjc4n r-1777fci r-11cpok1 r-1ny4l3l r-bztko3 r-lrvibr\" data-focusable=\"true\" role=\"button\" tabindex=\"0\"><div class=\"css-901oao r-1awozwy r-1re7ezh r-6koalj r-1qd0xha r-a023e6 r-16dba41 r-1h0z5md r-ad9z0x r-bcqeeo r-o7ynqc r-clp7b1 r-3s2u2q r-qvutc0\" dir=\"ltr\"><div class=\"css-1dbjc4n r-xoduu5\"><div class=\"css-1dbjc4n r-1niwhzg r-sdzlij r-1p0dtai r-xoduu5 r-1d2f490 r-xf4iuw r-u8s1d r-zchlnj r-ipm5af r-o7ynqc r-6416eg\"></div><svg class=\"r-4qtqp9 r-yyyyoo r-1xvli5t r-dnmrzs r-bnwqim r-1plcrui r-lrvibr r-1hdv0qi\" viewbox=\"0 0 24 24\"><g><path d=\"M17.53 7.47l-5-5c-.293-.293-.768-.293-1.06 0l-5 5c-.294.293-.294.768 0 1.06s.767.294 1.06 0l3.72-3.72V15c0 .414.336.75.75.75s.75-.336.75-.75V4.81l3.72 3.72c.146.147.338.22.53.22s.384-.072.53-.22c.293-.293.293-.767 0-1.06z\"></path><path d=\"M19.708 21.944H4.292C3.028 21.944 2 20.916 2 19.652V14c0-.414.336-.75.75-.75s.75.336.75.75v5.652c0 .437.355.792.792.792h15.416c.437 0 .792-.355.792-.792V14c0-.414.336-.75.75-.75s.75.336.75.75v5.652c0 1.264-1.028 2.292-2.292 2.292z\"></path></g></svg></div></div></div></div></div></div></div></div>,\n",
       " <div class=\"css-1dbjc4n r-18u37iz\" data-testid=\"tweet\"><div class=\"css-1dbjc4n r-1awozwy r-18kxxzh r-zso239\" style=\"flex-basis: 49px;\"><div class=\"css-1dbjc4n r-18kxxzh r-1wbh5a2 r-13qz1uu\"><div class=\"css-1dbjc4n r-1wbh5a2 r-dnmrzs\"><a class=\"css-4rbku5 css-18t94o4 css-1dbjc4n r-sdzlij r-1loqt21 r-1adg3ll r-ahm1il r-1ny4l3l r-1udh08x r-o7ynqc r-6416eg r-13qz1uu\" data-focusable=\"true\" href=\"/MarsWxReport\" role=\"link\"><div class=\"css-1dbjc4n r-1adg3ll r-1udh08x\" style=\"\"><div class=\"r-1adg3ll r-13qz1uu\" style=\"padding-bottom: 100%;\"></div><div class=\"r-1p0dtai r-1pi2tsx r-1d2f490 r-u8s1d r-ipm5af r-13qz1uu\"><div aria-label=\"\" class=\"css-1dbjc4n r-sdzlij r-1p0dtai r-1mlwlqe r-1d2f490 r-1udh08x r-u8s1d r-zchlnj r-ipm5af r-417010\"><div class=\"css-1dbjc4n r-1niwhzg r-vvn4in r-u6sd8q r-4gszlv r-1p0dtai r-1pi2tsx r-1d2f490 r-u8s1d r-zchlnj r-ipm5af r-13qz1uu r-1wyyakw\" style='background-image: url(\"https://pbs.twimg.com/profile_images/2552209293/220px-Mars_atmosphere_reasonably_small.jpg\");'></div><img alt=\"\" class=\"css-9pa8cd\" draggable=\"true\" src=\"https://pbs.twimg.com/profile_images/2552209293/220px-Mars_atmosphere_reasonably_small.jpg\"/></div></div></div><div class=\"css-1dbjc4n r-1twgtwe r-sdzlij r-rs99b7 r-1p0dtai r-1mi75qu r-1d2f490 r-1ny4l3l r-u8s1d r-zchlnj r-ipm5af r-o7ynqc r-6416eg\"></div></a></div></div></div><div class=\"css-1dbjc4n r-1iusvr4 r-16y2uox r-1777fci r-1mi0q7o\"><div class=\"css-1dbjc4n\"><div class=\"css-1dbjc4n r-zl2h9q\"><div class=\"css-1dbjc4n r-1awozwy r-18u37iz r-1wtj0ep\"><div class=\"css-1dbjc4n r-1d09ksm r-18u37iz r-1wbh5a2\"><div class=\"css-1dbjc4n r-1wbh5a2 r-dnmrzs\"><a class=\"css-4rbku5 css-18t94o4 css-1dbjc4n r-1loqt21 r-1wbh5a2 r-dnmrzs r-1ny4l3l\" data-focusable=\"true\" href=\"/MarsWxReport\" role=\"link\"><div class=\"css-1dbjc4n r-1awozwy r-18u37iz r-1wbh5a2 r-dnmrzs r-1ny4l3l\"><div class=\"css-1dbjc4n r-1awozwy r-18u37iz r-dnmrzs\"><div class=\"css-901oao css-bfa6kz r-hkyrab r-1qd0xha r-a023e6 r-vw2c0b r-ad9z0x r-bcqeeo r-3s2u2q r-qvutc0\" dir=\"auto\"><span class=\"css-901oao css-16my406 r-1qd0xha r-ad9z0x r-bcqeeo r-qvutc0\"><span class=\"css-901oao css-16my406 r-1qd0xha r-ad9z0x r-bcqeeo r-qvutc0\">Mars Weather</span></span></div><div class=\"css-901oao r-hkyrab r-18u37iz r-1q142lx r-1qd0xha r-a023e6 r-16dba41 r-ad9z0x r-bcqeeo r-qvutc0\" dir=\"auto\"></div></div><div class=\"css-1dbjc4n r-18u37iz r-1wbh5a2 r-1f6r7vd\"><div class=\"css-901oao css-bfa6kz r-1re7ezh r-18u37iz r-1qd0xha r-a023e6 r-16dba41 r-ad9z0x r-bcqeeo r-qvutc0\" dir=\"ltr\"><span class=\"css-901oao css-16my406 r-1qd0xha r-ad9z0x r-bcqeeo r-qvutc0\">@MarsWxReport</span></div></div></div></a></div><div aria-hidden=\"true\" class=\"css-901oao r-1re7ezh r-1q142lx r-1qd0xha r-a023e6 r-16dba41 r-ad9z0x r-bcqeeo r-ou255f r-qvutc0\" dir=\"auto\"><span class=\"css-901oao css-16my406 r-1qd0xha r-ad9z0x r-bcqeeo r-qvutc0\">·</span></div><a aria-label=\"Jun 17\" class=\"r-1re7ezh r-1loqt21 r-1q142lx r-1qd0xha r-a023e6 r-16dba41 r-ad9z0x r-bcqeeo r-3s2u2q r-qvutc0 css-4rbku5 css-18t94o4 css-901oao\" data-focusable=\"true\" dir=\"auto\" href=\"/MarsWxReport/status/1273297156674326528\" role=\"link\" title=\"12:51 PM · Jun 17, 2020\"><time datetime=\"2020-06-17T16:51:13.000Z\">Jun 17</time></a></div><div class=\"css-1dbjc4n r-18u37iz r-1h0z5md r-1joea0r\"><div aria-haspopup=\"true\" aria-label=\"More\" class=\"css-18t94o4 css-1dbjc4n r-1777fci r-11cpok1 r-1ny4l3l r-bztko3 r-lrvibr\" data-focusable=\"true\" data-testid=\"caret\" role=\"button\" tabindex=\"0\"><div class=\"css-901oao r-1awozwy r-1re7ezh r-6koalj r-1qd0xha r-a023e6 r-16dba41 r-1h0z5md r-ad9z0x r-bcqeeo r-o7ynqc r-clp7b1 r-3s2u2q r-qvutc0\" dir=\"ltr\"><div class=\"css-1dbjc4n r-xoduu5\"><div class=\"css-1dbjc4n r-1niwhzg r-sdzlij r-1p0dtai r-xoduu5 r-1d2f490 r-podbf7 r-u8s1d r-zchlnj r-ipm5af r-o7ynqc r-6416eg\"></div><svg class=\"r-4qtqp9 r-yyyyoo r-ip8ujx r-dnmrzs r-bnwqim r-1plcrui r-lrvibr r-27tl0q\" viewbox=\"0 0 24 24\"><g><path d=\"M20.207 8.147c-.39-.39-1.023-.39-1.414 0L12 14.94 5.207 8.147c-.39-.39-1.023-.39-1.414 0-.39.39-.39 1.023 0 1.414l7.5 7.5c.195.196.45.294.707.294s.512-.098.707-.293l7.5-7.5c.39-.39.39-1.022 0-1.413z\"></path></g></svg></div></div></div></div></div></div></div><div class=\"css-1dbjc4n\"><div class=\"css-1dbjc4n\"><div class=\"css-901oao r-hkyrab r-1qd0xha r-a023e6 r-16dba41 r-ad9z0x r-bcqeeo r-bnwqim r-qvutc0\" dir=\"auto\" lang=\"en\"><span class=\"css-901oao css-16my406 r-1qd0xha r-ad9z0x r-bcqeeo r-qvutc0\">InSight sol 553 (2020-06-16) low -90.8ºC (-131.4ºF) high 0.0ºC (32.1ºF)\n",
       " winds from the SW at 5.0 m/s (11.1 mph) gusting to 17.1 m/s (38.3 mph)\n",
       " pressure at 7.50 hPa</span></div></div><div class=\"css-1dbjc4n\"><div class=\"css-1dbjc4n\"><div class=\"css-1dbjc4n r-1udh08x\"><div class=\"css-1dbjc4n r-9x6qib r-t23y2h r-1phboty r-rs99b7 r-156q2ks r-1udh08x\"><div class=\"css-1dbjc4n\"><a class=\"css-4rbku5 css-18t94o4 css-1dbjc4n r-1loqt21 r-1ny4l3l\" data-focusable=\"true\" href=\"/MarsWxReport/status/1273297156674326528/photo/1\" role=\"link\"><div class=\"css-1dbjc4n r-1adg3ll r-1udh08x\" style=\"\"><div class=\"r-1adg3ll r-13qz1uu\" style=\"padding-bottom: 56.25%;\"></div><div class=\"r-1p0dtai r-1pi2tsx r-1d2f490 r-u8s1d r-ipm5af r-13qz1uu\"><div aria-label=\"Image\" class=\"css-1dbjc4n r-1p0dtai r-1mlwlqe r-1d2f490 r-11wrixw r-1udh08x r-u8s1d r-zchlnj r-ipm5af r-417010\" style=\"margin-bottom: 0px; margin-right: 0px; margin-top: 0px;\"><div class=\"css-1dbjc4n r-1niwhzg r-vvn4in r-u6sd8q r-4gszlv r-1p0dtai r-1pi2tsx r-1d2f490 r-u8s1d r-zchlnj r-ipm5af r-13qz1uu r-1wyyakw\" style='background-image: url(\"https://pbs.twimg.com/media/EaupA5uWAAY-xWF?format=jpg&amp;name=medium\");'></div><img alt=\"Image\" class=\"css-9pa8cd\" draggable=\"true\" src=\"https://pbs.twimg.com/media/EaupA5uWAAY-xWF?format=jpg&amp;name=medium\"/></div></div></div></a></div></div></div></div></div><div aria-label=\"8 Retweets, 21 likes\" class=\"css-1dbjc4n r-18u37iz r-1wtj0ep r-156q2ks r-1mdbhws\" role=\"group\"><div class=\"css-1dbjc4n r-1iusvr4 r-18u37iz r-16y2uox r-1h0z5md\"><div aria-label=\"Reply\" class=\"css-18t94o4 css-1dbjc4n r-1777fci r-11cpok1 r-1ny4l3l r-bztko3 r-lrvibr\" data-focusable=\"true\" data-testid=\"reply\" role=\"button\" tabindex=\"0\"><div class=\"css-901oao r-1awozwy r-1re7ezh r-6koalj r-1qd0xha r-a023e6 r-16dba41 r-1h0z5md r-ad9z0x r-bcqeeo r-o7ynqc r-clp7b1 r-3s2u2q r-qvutc0\" dir=\"ltr\"><div class=\"css-1dbjc4n r-xoduu5\"><div class=\"css-1dbjc4n r-1niwhzg r-sdzlij r-1p0dtai r-xoduu5 r-1d2f490 r-xf4iuw r-u8s1d r-zchlnj r-ipm5af r-o7ynqc r-6416eg\"></div><svg class=\"r-4qtqp9 r-yyyyoo r-1xvli5t r-dnmrzs r-bnwqim r-1plcrui r-lrvibr r-1hdv0qi\" viewbox=\"0 0 24 24\"><g><path d=\"M14.046 2.242l-4.148-.01h-.002c-4.374 0-7.8 3.427-7.8 7.802 0 4.098 3.186 7.206 7.465 7.37v3.828c0 .108.044.286.12.403.142.225.384.347.632.347.138 0 .277-.038.402-.118.264-.168 6.473-4.14 8.088-5.506 1.902-1.61 3.04-3.97 3.043-6.312v-.017c-.006-4.367-3.43-7.787-7.8-7.788zm3.787 12.972c-1.134.96-4.862 3.405-6.772 4.643V16.67c0-.414-.335-.75-.75-.75h-.396c-3.66 0-6.318-2.476-6.318-5.886 0-3.534 2.768-6.302 6.3-6.302l4.147.01h.002c3.532 0 6.3 2.766 6.302 6.296-.003 1.91-.942 3.844-2.514 5.176z\"></path></g></svg></div></div></div></div><div class=\"css-1dbjc4n r-1iusvr4 r-18u37iz r-16y2uox r-1h0z5md\"><div aria-haspopup=\"true\" aria-label=\"8 Retweets. Retweet\" class=\"css-18t94o4 css-1dbjc4n r-1777fci r-11cpok1 r-1ny4l3l r-bztko3 r-lrvibr\" data-focusable=\"true\" data-testid=\"retweet\" role=\"button\" tabindex=\"0\"><div class=\"css-901oao r-1awozwy r-1re7ezh r-6koalj r-1qd0xha r-a023e6 r-16dba41 r-1h0z5md r-ad9z0x r-bcqeeo r-o7ynqc r-clp7b1 r-3s2u2q r-qvutc0\" dir=\"ltr\"><div class=\"css-1dbjc4n r-xoduu5\"><div class=\"css-1dbjc4n r-1niwhzg r-sdzlij r-1p0dtai r-xoduu5 r-1d2f490 r-xf4iuw r-u8s1d r-zchlnj r-ipm5af r-o7ynqc r-6416eg\"></div><svg class=\"r-4qtqp9 r-yyyyoo r-1xvli5t r-dnmrzs r-bnwqim r-1plcrui r-lrvibr r-1hdv0qi\" viewbox=\"0 0 24 24\"><g><path d=\"M23.77 15.67c-.292-.293-.767-.293-1.06 0l-2.22 2.22V7.65c0-2.068-1.683-3.75-3.75-3.75h-5.85c-.414 0-.75.336-.75.75s.336.75.75.75h5.85c1.24 0 2.25 1.01 2.25 2.25v10.24l-2.22-2.22c-.293-.293-.768-.293-1.06 0s-.294.768 0 1.06l3.5 3.5c.145.147.337.22.53.22s.383-.072.53-.22l3.5-3.5c.294-.292.294-.767 0-1.06zm-10.66 3.28H7.26c-1.24 0-2.25-1.01-2.25-2.25V6.46l2.22 2.22c.148.147.34.22.532.22s.384-.073.53-.22c.293-.293.293-.768 0-1.06l-3.5-3.5c-.293-.294-.768-.294-1.06 0l-3.5 3.5c-.294.292-.294.767 0 1.06s.767.293 1.06 0l2.22-2.22V16.7c0 2.068 1.683 3.75 3.75 3.75h5.85c.414 0 .75-.336.75-.75s-.337-.75-.75-.75z\"></path></g></svg></div><div class=\"css-1dbjc4n r-xoduu5 r-1udh08x\"><span class=\"css-901oao css-16my406 r-1qd0xha r-n6v787 r-1sf4r6n r-1n0xq6e r-bcqeeo r-d3hbe1 r-1wgg2b2 r-axxi2z r-qvutc0\"><span class=\"css-901oao css-16my406 r-1qd0xha r-ad9z0x r-bcqeeo r-qvutc0\">8</span></span></div></div></div></div><div class=\"css-1dbjc4n r-1iusvr4 r-18u37iz r-16y2uox r-1h0z5md\"><div aria-label=\"21 Likes. Like\" class=\"css-18t94o4 css-1dbjc4n r-1777fci r-11cpok1 r-1ny4l3l r-bztko3 r-lrvibr\" data-focusable=\"true\" data-testid=\"like\" role=\"button\" tabindex=\"0\"><div class=\"css-901oao r-1awozwy r-1re7ezh r-6koalj r-1qd0xha r-a023e6 r-16dba41 r-1h0z5md r-ad9z0x r-bcqeeo r-o7ynqc r-clp7b1 r-3s2u2q r-qvutc0\" dir=\"ltr\"><div class=\"css-1dbjc4n r-xoduu5\"><div class=\"css-1dbjc4n r-1niwhzg r-sdzlij r-1p0dtai r-xoduu5 r-1d2f490 r-xf4iuw r-u8s1d r-zchlnj r-ipm5af r-o7ynqc r-6416eg\"></div><svg class=\"r-4qtqp9 r-yyyyoo r-1xvli5t r-dnmrzs r-bnwqim r-1plcrui r-lrvibr r-1hdv0qi\" viewbox=\"0 0 24 24\"><g><path d=\"M12 21.638h-.014C9.403 21.59 1.95 14.856 1.95 8.478c0-3.064 2.525-5.754 5.403-5.754 2.29 0 3.83 1.58 4.646 2.73.814-1.148 2.354-2.73 4.645-2.73 2.88 0 5.404 2.69 5.404 5.755 0 6.376-7.454 13.11-10.037 13.157H12zM7.354 4.225c-2.08 0-3.903 1.988-3.903 4.255 0 5.74 7.034 11.596 8.55 11.658 1.518-.062 8.55-5.917 8.55-11.658 0-2.267-1.823-4.255-3.903-4.255-2.528 0-3.94 2.936-3.952 2.965-.23.562-1.156.562-1.387 0-.014-.03-1.425-2.965-3.954-2.965z\"></path></g></svg></div><div class=\"css-1dbjc4n r-xoduu5 r-1udh08x\"><span class=\"css-901oao css-16my406 r-1qd0xha r-n6v787 r-1sf4r6n r-1n0xq6e r-bcqeeo r-d3hbe1 r-1wgg2b2 r-axxi2z r-qvutc0\"><span class=\"css-901oao css-16my406 r-1qd0xha r-ad9z0x r-bcqeeo r-qvutc0\">21</span></span></div></div></div></div><div class=\"css-1dbjc4n r-1mlwlqe r-18u37iz r-18kxxzh r-1h0z5md\"><div aria-haspopup=\"true\" aria-label=\"Share Tweet\" class=\"css-18t94o4 css-1dbjc4n r-1777fci r-11cpok1 r-1ny4l3l r-bztko3 r-lrvibr\" data-focusable=\"true\" role=\"button\" tabindex=\"0\"><div class=\"css-901oao r-1awozwy r-1re7ezh r-6koalj r-1qd0xha r-a023e6 r-16dba41 r-1h0z5md r-ad9z0x r-bcqeeo r-o7ynqc r-clp7b1 r-3s2u2q r-qvutc0\" dir=\"ltr\"><div class=\"css-1dbjc4n r-xoduu5\"><div class=\"css-1dbjc4n r-1niwhzg r-sdzlij r-1p0dtai r-xoduu5 r-1d2f490 r-xf4iuw r-u8s1d r-zchlnj r-ipm5af r-o7ynqc r-6416eg\"></div><svg class=\"r-4qtqp9 r-yyyyoo r-1xvli5t r-dnmrzs r-bnwqim r-1plcrui r-lrvibr r-1hdv0qi\" viewbox=\"0 0 24 24\"><g><path d=\"M17.53 7.47l-5-5c-.293-.293-.768-.293-1.06 0l-5 5c-.294.293-.294.768 0 1.06s.767.294 1.06 0l3.72-3.72V15c0 .414.336.75.75.75s.75-.336.75-.75V4.81l3.72 3.72c.146.147.338.22.53.22s.384-.072.53-.22c.293-.293.293-.767 0-1.06z\"></path><path d=\"M19.708 21.944H4.292C3.028 21.944 2 20.916 2 19.652V14c0-.414.336-.75.75-.75s.75.336.75.75v5.652c0 .437.355.792.792.792h15.416c.437 0 .792-.355.792-.792V14c0-.414.336-.75.75-.75s.75.336.75.75v5.652c0 1.264-1.028 2.292-2.292 2.292z\"></path></g></svg></div></div></div></div></div></div></div></div>,\n",
       " <div class=\"css-1dbjc4n r-18u37iz\" data-testid=\"tweet\"><div class=\"css-1dbjc4n r-1awozwy r-18kxxzh r-zso239\" style=\"flex-basis: 49px;\"><div class=\"css-1dbjc4n r-18kxxzh r-1wbh5a2 r-13qz1uu\"><div class=\"css-1dbjc4n r-1wbh5a2 r-dnmrzs\"><a class=\"css-4rbku5 css-18t94o4 css-1dbjc4n r-sdzlij r-1loqt21 r-1adg3ll r-ahm1il r-1ny4l3l r-1udh08x r-o7ynqc r-6416eg r-13qz1uu\" data-focusable=\"true\" href=\"/MarsWxReport\" role=\"link\"><div class=\"css-1dbjc4n r-1adg3ll r-1udh08x\" style=\"\"><div class=\"r-1adg3ll r-13qz1uu\" style=\"padding-bottom: 100%;\"></div><div class=\"r-1p0dtai r-1pi2tsx r-1d2f490 r-u8s1d r-ipm5af r-13qz1uu\"><div aria-label=\"\" class=\"css-1dbjc4n r-sdzlij r-1p0dtai r-1mlwlqe r-1d2f490 r-1udh08x r-u8s1d r-zchlnj r-ipm5af r-417010\"><div class=\"css-1dbjc4n r-1niwhzg r-vvn4in r-u6sd8q r-4gszlv r-1p0dtai r-1pi2tsx r-1d2f490 r-u8s1d r-zchlnj r-ipm5af r-13qz1uu r-1wyyakw\" style='background-image: url(\"https://pbs.twimg.com/profile_images/2552209293/220px-Mars_atmosphere_reasonably_small.jpg\");'></div><img alt=\"\" class=\"css-9pa8cd\" draggable=\"true\" src=\"https://pbs.twimg.com/profile_images/2552209293/220px-Mars_atmosphere_reasonably_small.jpg\"/></div></div></div><div class=\"css-1dbjc4n r-1twgtwe r-sdzlij r-rs99b7 r-1p0dtai r-1mi75qu r-1d2f490 r-1ny4l3l r-u8s1d r-zchlnj r-ipm5af r-o7ynqc r-6416eg\"></div></a></div></div></div><div class=\"css-1dbjc4n r-1iusvr4 r-16y2uox r-1777fci r-1mi0q7o\"><div class=\"css-1dbjc4n\"><div class=\"css-1dbjc4n r-zl2h9q\"><div class=\"css-1dbjc4n r-1awozwy r-18u37iz r-1wtj0ep\"><div class=\"css-1dbjc4n r-1d09ksm r-18u37iz r-1wbh5a2\"><div class=\"css-1dbjc4n r-1wbh5a2 r-dnmrzs\"><a class=\"css-4rbku5 css-18t94o4 css-1dbjc4n r-1loqt21 r-1wbh5a2 r-dnmrzs r-1ny4l3l\" data-focusable=\"true\" href=\"/MarsWxReport\" role=\"link\"><div class=\"css-1dbjc4n r-1awozwy r-18u37iz r-1wbh5a2 r-dnmrzs r-1ny4l3l\"><div class=\"css-1dbjc4n r-1awozwy r-18u37iz r-dnmrzs\"><div class=\"css-901oao css-bfa6kz r-hkyrab r-1qd0xha r-a023e6 r-vw2c0b r-ad9z0x r-bcqeeo r-3s2u2q r-qvutc0\" dir=\"auto\"><span class=\"css-901oao css-16my406 r-1qd0xha r-ad9z0x r-bcqeeo r-qvutc0\"><span class=\"css-901oao css-16my406 r-1qd0xha r-ad9z0x r-bcqeeo r-qvutc0\">Mars Weather</span></span></div><div class=\"css-901oao r-hkyrab r-18u37iz r-1q142lx r-1qd0xha r-a023e6 r-16dba41 r-ad9z0x r-bcqeeo r-qvutc0\" dir=\"auto\"></div></div><div class=\"css-1dbjc4n r-18u37iz r-1wbh5a2 r-1f6r7vd\"><div class=\"css-901oao css-bfa6kz r-1re7ezh r-18u37iz r-1qd0xha r-a023e6 r-16dba41 r-ad9z0x r-bcqeeo r-qvutc0\" dir=\"ltr\"><span class=\"css-901oao css-16my406 r-1qd0xha r-ad9z0x r-bcqeeo r-qvutc0\">@MarsWxReport</span></div></div></div></a></div><div aria-hidden=\"true\" class=\"css-901oao r-1re7ezh r-1q142lx r-1qd0xha r-a023e6 r-16dba41 r-ad9z0x r-bcqeeo r-ou255f r-qvutc0\" dir=\"auto\"><span class=\"css-901oao css-16my406 r-1qd0xha r-ad9z0x r-bcqeeo r-qvutc0\">·</span></div><a aria-label=\"Jun 16\" class=\"r-1re7ezh r-1loqt21 r-1q142lx r-1qd0xha r-a023e6 r-16dba41 r-ad9z0x r-bcqeeo r-3s2u2q r-qvutc0 css-4rbku5 css-18t94o4 css-901oao\" data-focusable=\"true\" dir=\"auto\" href=\"/MarsWxReport/status/1273055556727693313\" role=\"link\" title=\"8:51 PM · Jun 16, 2020\"><time datetime=\"2020-06-17T00:51:11.000Z\">Jun 16</time></a></div><div class=\"css-1dbjc4n r-18u37iz r-1h0z5md r-1joea0r\"><div aria-haspopup=\"true\" aria-label=\"More\" class=\"css-18t94o4 css-1dbjc4n r-1777fci r-11cpok1 r-1ny4l3l r-bztko3 r-lrvibr\" data-focusable=\"true\" data-testid=\"caret\" role=\"button\" tabindex=\"0\"><div class=\"css-901oao r-1awozwy r-1re7ezh r-6koalj r-1qd0xha r-a023e6 r-16dba41 r-1h0z5md r-ad9z0x r-bcqeeo r-o7ynqc r-clp7b1 r-3s2u2q r-qvutc0\" dir=\"ltr\"><div class=\"css-1dbjc4n r-xoduu5\"><div class=\"css-1dbjc4n r-1niwhzg r-sdzlij r-1p0dtai r-xoduu5 r-1d2f490 r-podbf7 r-u8s1d r-zchlnj r-ipm5af r-o7ynqc r-6416eg\"></div><svg class=\"r-4qtqp9 r-yyyyoo r-ip8ujx r-dnmrzs r-bnwqim r-1plcrui r-lrvibr r-27tl0q\" viewbox=\"0 0 24 24\"><g><path d=\"M20.207 8.147c-.39-.39-1.023-.39-1.414 0L12 14.94 5.207 8.147c-.39-.39-1.023-.39-1.414 0-.39.39-.39 1.023 0 1.414l7.5 7.5c.195.196.45.294.707.294s.512-.098.707-.293l7.5-7.5c.39-.39.39-1.022 0-1.413z\"></path></g></svg></div></div></div></div></div></div></div><div class=\"css-1dbjc4n\"><div class=\"css-1dbjc4n\"><div class=\"css-901oao r-hkyrab r-1qd0xha r-a023e6 r-16dba41 r-ad9z0x r-bcqeeo r-bnwqim r-qvutc0\" dir=\"auto\" lang=\"en\"><span class=\"css-901oao css-16my406 r-1qd0xha r-ad9z0x r-bcqeeo r-qvutc0\">InSight sol 552 (2020-06-15) low -91.1ºC (-132.0ºF) high -1.9ºC (28.6ºF)\n",
       " winds from the WNW at 4.4 m/s (9.8 mph) gusting to 15.9 m/s (35.6 mph)\n",
       " pressure at 7.50 hPa</span></div></div><div class=\"css-1dbjc4n\"><div class=\"css-1dbjc4n\"><div class=\"css-1dbjc4n r-1udh08x\"><div class=\"css-1dbjc4n r-9x6qib r-t23y2h r-1phboty r-rs99b7 r-156q2ks r-1udh08x\"><div class=\"css-1dbjc4n\"><a class=\"css-4rbku5 css-18t94o4 css-1dbjc4n r-1loqt21 r-1ny4l3l\" data-focusable=\"true\" href=\"/MarsWxReport/status/1273055556727693313/photo/1\" role=\"link\"><div class=\"css-1dbjc4n r-1adg3ll r-1udh08x\" style=\"\"><div class=\"r-1adg3ll r-13qz1uu\" style=\"padding-bottom: 56.25%;\"></div><div class=\"r-1p0dtai r-1pi2tsx r-1d2f490 r-u8s1d r-ipm5af r-13qz1uu\"><div aria-label=\"Image\" class=\"css-1dbjc4n r-1p0dtai r-1mlwlqe r-1d2f490 r-11wrixw r-1udh08x r-u8s1d r-zchlnj r-ipm5af r-417010\" style=\"margin-bottom: 0px; margin-right: 0px; margin-top: 0px;\"><div class=\"css-1dbjc4n r-1niwhzg r-vvn4in r-u6sd8q r-4gszlv r-1p0dtai r-1pi2tsx r-1d2f490 r-u8s1d r-zchlnj r-ipm5af r-13qz1uu r-1wyyakw\" style='background-image: url(\"https://pbs.twimg.com/media/EarNR5VXgAADY8S?format=jpg&amp;name=medium\");'></div><img alt=\"Image\" class=\"css-9pa8cd\" draggable=\"true\" src=\"https://pbs.twimg.com/media/EarNR5VXgAADY8S?format=jpg&amp;name=medium\"/></div></div></div></a></div></div></div></div></div><div aria-label=\"1 reply, 7 Retweets, 29 likes\" class=\"css-1dbjc4n r-18u37iz r-1wtj0ep r-156q2ks r-1mdbhws\" role=\"group\"><div class=\"css-1dbjc4n r-1iusvr4 r-18u37iz r-16y2uox r-1h0z5md\"><div aria-label=\"1 Reply. Reply\" class=\"css-18t94o4 css-1dbjc4n r-1777fci r-11cpok1 r-1ny4l3l r-bztko3 r-lrvibr\" data-focusable=\"true\" data-testid=\"reply\" role=\"button\" tabindex=\"0\"><div class=\"css-901oao r-1awozwy r-1re7ezh r-6koalj r-1qd0xha r-a023e6 r-16dba41 r-1h0z5md r-ad9z0x r-bcqeeo r-o7ynqc r-clp7b1 r-3s2u2q r-qvutc0\" dir=\"ltr\"><div class=\"css-1dbjc4n r-xoduu5\"><div class=\"css-1dbjc4n r-1niwhzg r-sdzlij r-1p0dtai r-xoduu5 r-1d2f490 r-xf4iuw r-u8s1d r-zchlnj r-ipm5af r-o7ynqc r-6416eg\"></div><svg class=\"r-4qtqp9 r-yyyyoo r-1xvli5t r-dnmrzs r-bnwqim r-1plcrui r-lrvibr r-1hdv0qi\" viewbox=\"0 0 24 24\"><g><path d=\"M14.046 2.242l-4.148-.01h-.002c-4.374 0-7.8 3.427-7.8 7.802 0 4.098 3.186 7.206 7.465 7.37v3.828c0 .108.044.286.12.403.142.225.384.347.632.347.138 0 .277-.038.402-.118.264-.168 6.473-4.14 8.088-5.506 1.902-1.61 3.04-3.97 3.043-6.312v-.017c-.006-4.367-3.43-7.787-7.8-7.788zm3.787 12.972c-1.134.96-4.862 3.405-6.772 4.643V16.67c0-.414-.335-.75-.75-.75h-.396c-3.66 0-6.318-2.476-6.318-5.886 0-3.534 2.768-6.302 6.3-6.302l4.147.01h.002c3.532 0 6.3 2.766 6.302 6.296-.003 1.91-.942 3.844-2.514 5.176z\"></path></g></svg></div><div class=\"css-1dbjc4n r-xoduu5 r-1udh08x\"><span class=\"css-901oao css-16my406 r-1qd0xha r-n6v787 r-1sf4r6n r-1n0xq6e r-bcqeeo r-d3hbe1 r-1wgg2b2 r-axxi2z r-qvutc0\"><span class=\"css-901oao css-16my406 r-1qd0xha r-ad9z0x r-bcqeeo r-qvutc0\">1</span></span></div></div></div></div><div class=\"css-1dbjc4n r-1iusvr4 r-18u37iz r-16y2uox r-1h0z5md\"><div aria-haspopup=\"true\" aria-label=\"7 Retweets. Retweet\" class=\"css-18t94o4 css-1dbjc4n r-1777fci r-11cpok1 r-1ny4l3l r-bztko3 r-lrvibr\" data-focusable=\"true\" data-testid=\"retweet\" role=\"button\" tabindex=\"0\"><div class=\"css-901oao r-1awozwy r-1re7ezh r-6koalj r-1qd0xha r-a023e6 r-16dba41 r-1h0z5md r-ad9z0x r-bcqeeo r-o7ynqc r-clp7b1 r-3s2u2q r-qvutc0\" dir=\"ltr\"><div class=\"css-1dbjc4n r-xoduu5\"><div class=\"css-1dbjc4n r-1niwhzg r-sdzlij r-1p0dtai r-xoduu5 r-1d2f490 r-xf4iuw r-u8s1d r-zchlnj r-ipm5af r-o7ynqc r-6416eg\"></div><svg class=\"r-4qtqp9 r-yyyyoo r-1xvli5t r-dnmrzs r-bnwqim r-1plcrui r-lrvibr r-1hdv0qi\" viewbox=\"0 0 24 24\"><g><path d=\"M23.77 15.67c-.292-.293-.767-.293-1.06 0l-2.22 2.22V7.65c0-2.068-1.683-3.75-3.75-3.75h-5.85c-.414 0-.75.336-.75.75s.336.75.75.75h5.85c1.24 0 2.25 1.01 2.25 2.25v10.24l-2.22-2.22c-.293-.293-.768-.293-1.06 0s-.294.768 0 1.06l3.5 3.5c.145.147.337.22.53.22s.383-.072.53-.22l3.5-3.5c.294-.292.294-.767 0-1.06zm-10.66 3.28H7.26c-1.24 0-2.25-1.01-2.25-2.25V6.46l2.22 2.22c.148.147.34.22.532.22s.384-.073.53-.22c.293-.293.293-.768 0-1.06l-3.5-3.5c-.293-.294-.768-.294-1.06 0l-3.5 3.5c-.294.292-.294.767 0 1.06s.767.293 1.06 0l2.22-2.22V16.7c0 2.068 1.683 3.75 3.75 3.75h5.85c.414 0 .75-.336.75-.75s-.337-.75-.75-.75z\"></path></g></svg></div><div class=\"css-1dbjc4n r-xoduu5 r-1udh08x\"><span class=\"css-901oao css-16my406 r-1qd0xha r-n6v787 r-1sf4r6n r-1n0xq6e r-bcqeeo r-d3hbe1 r-1wgg2b2 r-axxi2z r-qvutc0\"><span class=\"css-901oao css-16my406 r-1qd0xha r-ad9z0x r-bcqeeo r-qvutc0\">7</span></span></div></div></div></div><div class=\"css-1dbjc4n r-1iusvr4 r-18u37iz r-16y2uox r-1h0z5md\"><div aria-label=\"29 Likes. Like\" class=\"css-18t94o4 css-1dbjc4n r-1777fci r-11cpok1 r-1ny4l3l r-bztko3 r-lrvibr\" data-focusable=\"true\" data-testid=\"like\" role=\"button\" tabindex=\"0\"><div class=\"css-901oao r-1awozwy r-1re7ezh r-6koalj r-1qd0xha r-a023e6 r-16dba41 r-1h0z5md r-ad9z0x r-bcqeeo r-o7ynqc r-clp7b1 r-3s2u2q r-qvutc0\" dir=\"ltr\"><div class=\"css-1dbjc4n r-xoduu5\"><div class=\"css-1dbjc4n r-1niwhzg r-sdzlij r-1p0dtai r-xoduu5 r-1d2f490 r-xf4iuw r-u8s1d r-zchlnj r-ipm5af r-o7ynqc r-6416eg\"></div><svg class=\"r-4qtqp9 r-yyyyoo r-1xvli5t r-dnmrzs r-bnwqim r-1plcrui r-lrvibr r-1hdv0qi\" viewbox=\"0 0 24 24\"><g><path d=\"M12 21.638h-.014C9.403 21.59 1.95 14.856 1.95 8.478c0-3.064 2.525-5.754 5.403-5.754 2.29 0 3.83 1.58 4.646 2.73.814-1.148 2.354-2.73 4.645-2.73 2.88 0 5.404 2.69 5.404 5.755 0 6.376-7.454 13.11-10.037 13.157H12zM7.354 4.225c-2.08 0-3.903 1.988-3.903 4.255 0 5.74 7.034 11.596 8.55 11.658 1.518-.062 8.55-5.917 8.55-11.658 0-2.267-1.823-4.255-3.903-4.255-2.528 0-3.94 2.936-3.952 2.965-.23.562-1.156.562-1.387 0-.014-.03-1.425-2.965-3.954-2.965z\"></path></g></svg></div><div class=\"css-1dbjc4n r-xoduu5 r-1udh08x\"><span class=\"css-901oao css-16my406 r-1qd0xha r-n6v787 r-1sf4r6n r-1n0xq6e r-bcqeeo r-d3hbe1 r-1wgg2b2 r-axxi2z r-qvutc0\"><span class=\"css-901oao css-16my406 r-1qd0xha r-ad9z0x r-bcqeeo r-qvutc0\">29</span></span></div></div></div></div><div class=\"css-1dbjc4n r-1mlwlqe r-18u37iz r-18kxxzh r-1h0z5md\"><div aria-haspopup=\"true\" aria-label=\"Share Tweet\" class=\"css-18t94o4 css-1dbjc4n r-1777fci r-11cpok1 r-1ny4l3l r-bztko3 r-lrvibr\" data-focusable=\"true\" role=\"button\" tabindex=\"0\"><div class=\"css-901oao r-1awozwy r-1re7ezh r-6koalj r-1qd0xha r-a023e6 r-16dba41 r-1h0z5md r-ad9z0x r-bcqeeo r-o7ynqc r-clp7b1 r-3s2u2q r-qvutc0\" dir=\"ltr\"><div class=\"css-1dbjc4n r-xoduu5\"><div class=\"css-1dbjc4n r-1niwhzg r-sdzlij r-1p0dtai r-xoduu5 r-1d2f490 r-xf4iuw r-u8s1d r-zchlnj r-ipm5af r-o7ynqc r-6416eg\"></div><svg class=\"r-4qtqp9 r-yyyyoo r-1xvli5t r-dnmrzs r-bnwqim r-1plcrui r-lrvibr r-1hdv0qi\" viewbox=\"0 0 24 24\"><g><path d=\"M17.53 7.47l-5-5c-.293-.293-.768-.293-1.06 0l-5 5c-.294.293-.294.768 0 1.06s.767.294 1.06 0l3.72-3.72V15c0 .414.336.75.75.75s.75-.336.75-.75V4.81l3.72 3.72c.146.147.338.22.53.22s.384-.072.53-.22c.293-.293.293-.767 0-1.06z\"></path><path d=\"M19.708 21.944H4.292C3.028 21.944 2 20.916 2 19.652V14c0-.414.336-.75.75-.75s.75.336.75.75v5.652c0 .437.355.792.792.792h15.416c.437 0 .792-.355.792-.792V14c0-.414.336-.75.75-.75s.75.336.75.75v5.652c0 1.264-1.028 2.292-2.292 2.292z\"></path></g></svg></div></div></div></div></div></div></div></div>,\n",
       " <div class=\"css-1dbjc4n r-18u37iz\" data-testid=\"tweet\"><div class=\"css-1dbjc4n r-1awozwy r-18kxxzh r-zso239\" style=\"flex-basis: 49px;\"><div class=\"css-1dbjc4n r-18kxxzh r-1wbh5a2 r-13qz1uu\"><div class=\"css-1dbjc4n r-1wbh5a2 r-dnmrzs\"><a class=\"css-4rbku5 css-18t94o4 css-1dbjc4n r-sdzlij r-1loqt21 r-1adg3ll r-ahm1il r-1ny4l3l r-1udh08x r-o7ynqc r-6416eg r-13qz1uu\" data-focusable=\"true\" href=\"/MarsWxReport\" role=\"link\"><div class=\"css-1dbjc4n r-1adg3ll r-1udh08x\" style=\"\"><div class=\"r-1adg3ll r-13qz1uu\" style=\"padding-bottom: 100%;\"></div><div class=\"r-1p0dtai r-1pi2tsx r-1d2f490 r-u8s1d r-ipm5af r-13qz1uu\"><div aria-label=\"\" class=\"css-1dbjc4n r-sdzlij r-1p0dtai r-1mlwlqe r-1d2f490 r-1udh08x r-u8s1d r-zchlnj r-ipm5af r-417010\"><div class=\"css-1dbjc4n r-1niwhzg r-vvn4in r-u6sd8q r-4gszlv r-1p0dtai r-1pi2tsx r-1d2f490 r-u8s1d r-zchlnj r-ipm5af r-13qz1uu r-1wyyakw\" style='background-image: url(\"https://pbs.twimg.com/profile_images/2552209293/220px-Mars_atmosphere_reasonably_small.jpg\");'></div><img alt=\"\" class=\"css-9pa8cd\" draggable=\"true\" src=\"https://pbs.twimg.com/profile_images/2552209293/220px-Mars_atmosphere_reasonably_small.jpg\"/></div></div></div><div class=\"css-1dbjc4n r-1twgtwe r-sdzlij r-rs99b7 r-1p0dtai r-1mi75qu r-1d2f490 r-1ny4l3l r-u8s1d r-zchlnj r-ipm5af r-o7ynqc r-6416eg\"></div></a></div></div></div><div class=\"css-1dbjc4n r-1iusvr4 r-16y2uox r-1777fci r-1mi0q7o\"><div class=\"css-1dbjc4n\"><div class=\"css-1dbjc4n r-zl2h9q\"><div class=\"css-1dbjc4n r-1awozwy r-18u37iz r-1wtj0ep\"><div class=\"css-1dbjc4n r-1d09ksm r-18u37iz r-1wbh5a2\"><div class=\"css-1dbjc4n r-1wbh5a2 r-dnmrzs\"><a class=\"css-4rbku5 css-18t94o4 css-1dbjc4n r-1loqt21 r-1wbh5a2 r-dnmrzs r-1ny4l3l\" data-focusable=\"true\" href=\"/MarsWxReport\" role=\"link\"><div class=\"css-1dbjc4n r-1awozwy r-18u37iz r-1wbh5a2 r-dnmrzs r-1ny4l3l\"><div class=\"css-1dbjc4n r-1awozwy r-18u37iz r-dnmrzs\"><div class=\"css-901oao css-bfa6kz r-hkyrab r-1qd0xha r-a023e6 r-vw2c0b r-ad9z0x r-bcqeeo r-3s2u2q r-qvutc0\" dir=\"auto\"><span class=\"css-901oao css-16my406 r-1qd0xha r-ad9z0x r-bcqeeo r-qvutc0\"><span class=\"css-901oao css-16my406 r-1qd0xha r-ad9z0x r-bcqeeo r-qvutc0\">Mars Weather</span></span></div><div class=\"css-901oao r-hkyrab r-18u37iz r-1q142lx r-1qd0xha r-a023e6 r-16dba41 r-ad9z0x r-bcqeeo r-qvutc0\" dir=\"auto\"></div></div><div class=\"css-1dbjc4n r-18u37iz r-1wbh5a2 r-1f6r7vd\"><div class=\"css-901oao css-bfa6kz r-1re7ezh r-18u37iz r-1qd0xha r-a023e6 r-16dba41 r-ad9z0x r-bcqeeo r-qvutc0\" dir=\"ltr\"><span class=\"css-901oao css-16my406 r-1qd0xha r-ad9z0x r-bcqeeo r-qvutc0\">@MarsWxReport</span></div></div></div></a></div><div aria-hidden=\"true\" class=\"css-901oao r-1re7ezh r-1q142lx r-1qd0xha r-a023e6 r-16dba41 r-ad9z0x r-bcqeeo r-ou255f r-qvutc0\" dir=\"auto\"><span class=\"css-901oao css-16my406 r-1qd0xha r-ad9z0x r-bcqeeo r-qvutc0\">·</span></div><a aria-label=\"Jun 15\" class=\"r-1re7ezh r-1loqt21 r-1q142lx r-1qd0xha r-a023e6 r-16dba41 r-ad9z0x r-bcqeeo r-3s2u2q r-qvutc0 css-4rbku5 css-18t94o4 css-901oao\" data-focusable=\"true\" dir=\"auto\" href=\"/MarsWxReport/status/1272693170460033026\" role=\"link\" title=\"8:51 PM · Jun 15, 2020\"><time datetime=\"2020-06-16T00:51:11.000Z\">Jun 15</time></a></div><div class=\"css-1dbjc4n r-18u37iz r-1h0z5md r-1joea0r\"><div aria-haspopup=\"true\" aria-label=\"More\" class=\"css-18t94o4 css-1dbjc4n r-1777fci r-11cpok1 r-1ny4l3l r-bztko3 r-lrvibr\" data-focusable=\"true\" data-testid=\"caret\" role=\"button\" tabindex=\"0\"><div class=\"css-901oao r-1awozwy r-1re7ezh r-6koalj r-1qd0xha r-a023e6 r-16dba41 r-1h0z5md r-ad9z0x r-bcqeeo r-o7ynqc r-clp7b1 r-3s2u2q r-qvutc0\" dir=\"ltr\"><div class=\"css-1dbjc4n r-xoduu5\"><div class=\"css-1dbjc4n r-1niwhzg r-sdzlij r-1p0dtai r-xoduu5 r-1d2f490 r-podbf7 r-u8s1d r-zchlnj r-ipm5af r-o7ynqc r-6416eg\"></div><svg class=\"r-4qtqp9 r-yyyyoo r-ip8ujx r-dnmrzs r-bnwqim r-1plcrui r-lrvibr r-27tl0q\" viewbox=\"0 0 24 24\"><g><path d=\"M20.207 8.147c-.39-.39-1.023-.39-1.414 0L12 14.94 5.207 8.147c-.39-.39-1.023-.39-1.414 0-.39.39-.39 1.023 0 1.414l7.5 7.5c.195.196.45.294.707.294s.512-.098.707-.293l7.5-7.5c.39-.39.39-1.022 0-1.413z\"></path></g></svg></div></div></div></div></div></div></div><div class=\"css-1dbjc4n\"><div class=\"css-1dbjc4n\"><div class=\"css-901oao r-hkyrab r-1qd0xha r-a023e6 r-16dba41 r-ad9z0x r-bcqeeo r-bnwqim r-qvutc0\" dir=\"auto\" lang=\"en\"><span class=\"css-901oao css-16my406 r-1qd0xha r-ad9z0x r-bcqeeo r-qvutc0\">InSight sol 551 (2020-06-14) low -92.3ºC (-134.1ºF) high -1.3ºC (29.7ºF)\n",
       " winds from the WNW at 4.2 m/s (9.4 mph) gusting to 16.3 m/s (36.4 mph)\n",
       " pressure at 7.40 hPa</span></div></div><div class=\"css-1dbjc4n\"><div class=\"css-1dbjc4n\"><div class=\"css-1dbjc4n r-1udh08x\"><div class=\"css-1dbjc4n r-9x6qib r-t23y2h r-1phboty r-rs99b7 r-156q2ks r-1udh08x\"><div class=\"css-1dbjc4n\"><a class=\"css-4rbku5 css-18t94o4 css-1dbjc4n r-1loqt21 r-1ny4l3l\" data-focusable=\"true\" href=\"/MarsWxReport/status/1272693170460033026/photo/1\" role=\"link\"><div class=\"css-1dbjc4n r-1adg3ll r-1udh08x\" style=\"\"><div class=\"r-1adg3ll r-13qz1uu\" style=\"padding-bottom: 56.25%;\"></div><div class=\"r-1p0dtai r-1pi2tsx r-1d2f490 r-u8s1d r-ipm5af r-13qz1uu\"><div aria-label=\"Image\" class=\"css-1dbjc4n r-1p0dtai r-1mlwlqe r-1d2f490 r-11wrixw r-1udh08x r-u8s1d r-zchlnj r-ipm5af r-417010\" style=\"margin-bottom: 0px; margin-right: 0px; margin-top: 0px;\"><div class=\"css-1dbjc4n r-1niwhzg r-vvn4in r-u6sd8q r-4gszlv r-1p0dtai r-1pi2tsx r-1d2f490 r-u8s1d r-zchlnj r-ipm5af r-13qz1uu r-1wyyakw\" style='background-image: url(\"https://pbs.twimg.com/media/EamDsRNWkAARRjl?format=jpg&amp;name=medium\");'></div><img alt=\"Image\" class=\"css-9pa8cd\" draggable=\"true\" src=\"https://pbs.twimg.com/media/EamDsRNWkAARRjl?format=jpg&amp;name=medium\"/></div></div></div></a></div></div></div></div></div><div aria-label=\"10 Retweets, 27 likes\" class=\"css-1dbjc4n r-18u37iz r-1wtj0ep r-156q2ks r-1mdbhws\" role=\"group\"><div class=\"css-1dbjc4n r-1iusvr4 r-18u37iz r-16y2uox r-1h0z5md\"><div aria-label=\"Reply\" class=\"css-18t94o4 css-1dbjc4n r-1777fci r-11cpok1 r-1ny4l3l r-bztko3 r-lrvibr\" data-focusable=\"true\" data-testid=\"reply\" role=\"button\" tabindex=\"0\"><div class=\"css-901oao r-1awozwy r-1re7ezh r-6koalj r-1qd0xha r-a023e6 r-16dba41 r-1h0z5md r-ad9z0x r-bcqeeo r-o7ynqc r-clp7b1 r-3s2u2q r-qvutc0\" dir=\"ltr\"><div class=\"css-1dbjc4n r-xoduu5\"><div class=\"css-1dbjc4n r-1niwhzg r-sdzlij r-1p0dtai r-xoduu5 r-1d2f490 r-xf4iuw r-u8s1d r-zchlnj r-ipm5af r-o7ynqc r-6416eg\"></div><svg class=\"r-4qtqp9 r-yyyyoo r-1xvli5t r-dnmrzs r-bnwqim r-1plcrui r-lrvibr r-1hdv0qi\" viewbox=\"0 0 24 24\"><g><path d=\"M14.046 2.242l-4.148-.01h-.002c-4.374 0-7.8 3.427-7.8 7.802 0 4.098 3.186 7.206 7.465 7.37v3.828c0 .108.044.286.12.403.142.225.384.347.632.347.138 0 .277-.038.402-.118.264-.168 6.473-4.14 8.088-5.506 1.902-1.61 3.04-3.97 3.043-6.312v-.017c-.006-4.367-3.43-7.787-7.8-7.788zm3.787 12.972c-1.134.96-4.862 3.405-6.772 4.643V16.67c0-.414-.335-.75-.75-.75h-.396c-3.66 0-6.318-2.476-6.318-5.886 0-3.534 2.768-6.302 6.3-6.302l4.147.01h.002c3.532 0 6.3 2.766 6.302 6.296-.003 1.91-.942 3.844-2.514 5.176z\"></path></g></svg></div></div></div></div><div class=\"css-1dbjc4n r-1iusvr4 r-18u37iz r-16y2uox r-1h0z5md\"><div aria-haspopup=\"true\" aria-label=\"10 Retweets. Retweet\" class=\"css-18t94o4 css-1dbjc4n r-1777fci r-11cpok1 r-1ny4l3l r-bztko3 r-lrvibr\" data-focusable=\"true\" data-testid=\"retweet\" role=\"button\" tabindex=\"0\"><div class=\"css-901oao r-1awozwy r-1re7ezh r-6koalj r-1qd0xha r-a023e6 r-16dba41 r-1h0z5md r-ad9z0x r-bcqeeo r-o7ynqc r-clp7b1 r-3s2u2q r-qvutc0\" dir=\"ltr\"><div class=\"css-1dbjc4n r-xoduu5\"><div class=\"css-1dbjc4n r-1niwhzg r-sdzlij r-1p0dtai r-xoduu5 r-1d2f490 r-xf4iuw r-u8s1d r-zchlnj r-ipm5af r-o7ynqc r-6416eg\"></div><svg class=\"r-4qtqp9 r-yyyyoo r-1xvli5t r-dnmrzs r-bnwqim r-1plcrui r-lrvibr r-1hdv0qi\" viewbox=\"0 0 24 24\"><g><path d=\"M23.77 15.67c-.292-.293-.767-.293-1.06 0l-2.22 2.22V7.65c0-2.068-1.683-3.75-3.75-3.75h-5.85c-.414 0-.75.336-.75.75s.336.75.75.75h5.85c1.24 0 2.25 1.01 2.25 2.25v10.24l-2.22-2.22c-.293-.293-.768-.293-1.06 0s-.294.768 0 1.06l3.5 3.5c.145.147.337.22.53.22s.383-.072.53-.22l3.5-3.5c.294-.292.294-.767 0-1.06zm-10.66 3.28H7.26c-1.24 0-2.25-1.01-2.25-2.25V6.46l2.22 2.22c.148.147.34.22.532.22s.384-.073.53-.22c.293-.293.293-.768 0-1.06l-3.5-3.5c-.293-.294-.768-.294-1.06 0l-3.5 3.5c-.294.292-.294.767 0 1.06s.767.293 1.06 0l2.22-2.22V16.7c0 2.068 1.683 3.75 3.75 3.75h5.85c.414 0 .75-.336.75-.75s-.337-.75-.75-.75z\"></path></g></svg></div><div class=\"css-1dbjc4n r-xoduu5 r-1udh08x\"><span class=\"css-901oao css-16my406 r-1qd0xha r-n6v787 r-1sf4r6n r-1n0xq6e r-bcqeeo r-d3hbe1 r-1wgg2b2 r-axxi2z r-qvutc0\"><span class=\"css-901oao css-16my406 r-1qd0xha r-ad9z0x r-bcqeeo r-qvutc0\">10</span></span></div></div></div></div><div class=\"css-1dbjc4n r-1iusvr4 r-18u37iz r-16y2uox r-1h0z5md\"><div aria-label=\"27 Likes. Like\" class=\"css-18t94o4 css-1dbjc4n r-1777fci r-11cpok1 r-1ny4l3l r-bztko3 r-lrvibr\" data-focusable=\"true\" data-testid=\"like\" role=\"button\" tabindex=\"0\"><div class=\"css-901oao r-1awozwy r-1re7ezh r-6koalj r-1qd0xha r-a023e6 r-16dba41 r-1h0z5md r-ad9z0x r-bcqeeo r-o7ynqc r-clp7b1 r-3s2u2q r-qvutc0\" dir=\"ltr\"><div class=\"css-1dbjc4n r-xoduu5\"><div class=\"css-1dbjc4n r-1niwhzg r-sdzlij r-1p0dtai r-xoduu5 r-1d2f490 r-xf4iuw r-u8s1d r-zchlnj r-ipm5af r-o7ynqc r-6416eg\"></div><svg class=\"r-4qtqp9 r-yyyyoo r-1xvli5t r-dnmrzs r-bnwqim r-1plcrui r-lrvibr r-1hdv0qi\" viewbox=\"0 0 24 24\"><g><path d=\"M12 21.638h-.014C9.403 21.59 1.95 14.856 1.95 8.478c0-3.064 2.525-5.754 5.403-5.754 2.29 0 3.83 1.58 4.646 2.73.814-1.148 2.354-2.73 4.645-2.73 2.88 0 5.404 2.69 5.404 5.755 0 6.376-7.454 13.11-10.037 13.157H12zM7.354 4.225c-2.08 0-3.903 1.988-3.903 4.255 0 5.74 7.034 11.596 8.55 11.658 1.518-.062 8.55-5.917 8.55-11.658 0-2.267-1.823-4.255-3.903-4.255-2.528 0-3.94 2.936-3.952 2.965-.23.562-1.156.562-1.387 0-.014-.03-1.425-2.965-3.954-2.965z\"></path></g></svg></div><div class=\"css-1dbjc4n r-xoduu5 r-1udh08x\"><span class=\"css-901oao css-16my406 r-1qd0xha r-n6v787 r-1sf4r6n r-1n0xq6e r-bcqeeo r-d3hbe1 r-1wgg2b2 r-axxi2z r-qvutc0\"><span class=\"css-901oao css-16my406 r-1qd0xha r-ad9z0x r-bcqeeo r-qvutc0\">27</span></span></div></div></div></div><div class=\"css-1dbjc4n r-1mlwlqe r-18u37iz r-18kxxzh r-1h0z5md\"><div aria-haspopup=\"true\" aria-label=\"Share Tweet\" class=\"css-18t94o4 css-1dbjc4n r-1777fci r-11cpok1 r-1ny4l3l r-bztko3 r-lrvibr\" data-focusable=\"true\" role=\"button\" tabindex=\"0\"><div class=\"css-901oao r-1awozwy r-1re7ezh r-6koalj r-1qd0xha r-a023e6 r-16dba41 r-1h0z5md r-ad9z0x r-bcqeeo r-o7ynqc r-clp7b1 r-3s2u2q r-qvutc0\" dir=\"ltr\"><div class=\"css-1dbjc4n r-xoduu5\"><div class=\"css-1dbjc4n r-1niwhzg r-sdzlij r-1p0dtai r-xoduu5 r-1d2f490 r-xf4iuw r-u8s1d r-zchlnj r-ipm5af r-o7ynqc r-6416eg\"></div><svg class=\"r-4qtqp9 r-yyyyoo r-1xvli5t r-dnmrzs r-bnwqim r-1plcrui r-lrvibr r-1hdv0qi\" viewbox=\"0 0 24 24\"><g><path d=\"M17.53 7.47l-5-5c-.293-.293-.768-.293-1.06 0l-5 5c-.294.293-.294.768 0 1.06s.767.294 1.06 0l3.72-3.72V15c0 .414.336.75.75.75s.75-.336.75-.75V4.81l3.72 3.72c.146.147.338.22.53.22s.384-.072.53-.22c.293-.293.293-.767 0-1.06z\"></path><path d=\"M19.708 21.944H4.292C3.028 21.944 2 20.916 2 19.652V14c0-.414.336-.75.75-.75s.75.336.75.75v5.652c0 .437.355.792.792.792h15.416c.437 0 .792-.355.792-.792V14c0-.414.336-.75.75-.75s.75.336.75.75v5.652c0 1.264-1.028 2.292-2.292 2.292z\"></path></g></svg></div></div></div></div></div></div></div></div>,\n",
       " <div class=\"css-1dbjc4n r-18u37iz\" data-testid=\"tweet\"><div class=\"css-1dbjc4n r-1awozwy r-18kxxzh r-zso239\" style=\"flex-basis: 49px;\"><div class=\"css-1dbjc4n r-18kxxzh r-1wbh5a2 r-13qz1uu\"><div class=\"css-1dbjc4n r-1wbh5a2 r-dnmrzs\"><a class=\"css-4rbku5 css-18t94o4 css-1dbjc4n r-sdzlij r-1loqt21 r-1adg3ll r-ahm1il r-1ny4l3l r-1udh08x r-o7ynqc r-6416eg r-13qz1uu\" data-focusable=\"true\" href=\"/MarsWxReport\" role=\"link\"><div class=\"css-1dbjc4n r-1adg3ll r-1udh08x\" style=\"\"><div class=\"r-1adg3ll r-13qz1uu\" style=\"padding-bottom: 100%;\"></div><div class=\"r-1p0dtai r-1pi2tsx r-1d2f490 r-u8s1d r-ipm5af r-13qz1uu\"><div aria-label=\"\" class=\"css-1dbjc4n r-sdzlij r-1p0dtai r-1mlwlqe r-1d2f490 r-1udh08x r-u8s1d r-zchlnj r-ipm5af r-417010\"><div class=\"css-1dbjc4n r-1niwhzg r-vvn4in r-u6sd8q r-4gszlv r-1p0dtai r-1pi2tsx r-1d2f490 r-u8s1d r-zchlnj r-ipm5af r-13qz1uu r-1wyyakw\" style='background-image: url(\"https://pbs.twimg.com/profile_images/2552209293/220px-Mars_atmosphere_reasonably_small.jpg\");'></div><img alt=\"\" class=\"css-9pa8cd\" draggable=\"true\" src=\"https://pbs.twimg.com/profile_images/2552209293/220px-Mars_atmosphere_reasonably_small.jpg\"/></div></div></div><div class=\"css-1dbjc4n r-1twgtwe r-sdzlij r-rs99b7 r-1p0dtai r-1mi75qu r-1d2f490 r-1ny4l3l r-u8s1d r-zchlnj r-ipm5af r-o7ynqc r-6416eg\"></div></a></div></div></div><div class=\"css-1dbjc4n r-1iusvr4 r-16y2uox r-1777fci r-1mi0q7o\"><div class=\"css-1dbjc4n\"><div class=\"css-1dbjc4n r-zl2h9q\"><div class=\"css-1dbjc4n r-1awozwy r-18u37iz r-1wtj0ep\"><div class=\"css-1dbjc4n r-1d09ksm r-18u37iz r-1wbh5a2\"><div class=\"css-1dbjc4n r-1wbh5a2 r-dnmrzs\"><a class=\"css-4rbku5 css-18t94o4 css-1dbjc4n r-1loqt21 r-1wbh5a2 r-dnmrzs r-1ny4l3l\" data-focusable=\"true\" href=\"/MarsWxReport\" role=\"link\"><div class=\"css-1dbjc4n r-1awozwy r-18u37iz r-1wbh5a2 r-dnmrzs r-1ny4l3l\"><div class=\"css-1dbjc4n r-1awozwy r-18u37iz r-dnmrzs\"><div class=\"css-901oao css-bfa6kz r-hkyrab r-1qd0xha r-a023e6 r-vw2c0b r-ad9z0x r-bcqeeo r-3s2u2q r-qvutc0\" dir=\"auto\"><span class=\"css-901oao css-16my406 r-1qd0xha r-ad9z0x r-bcqeeo r-qvutc0\"><span class=\"css-901oao css-16my406 r-1qd0xha r-ad9z0x r-bcqeeo r-qvutc0\">Mars Weather</span></span></div><div class=\"css-901oao r-hkyrab r-18u37iz r-1q142lx r-1qd0xha r-a023e6 r-16dba41 r-ad9z0x r-bcqeeo r-qvutc0\" dir=\"auto\"></div></div><div class=\"css-1dbjc4n r-18u37iz r-1wbh5a2 r-1f6r7vd\"><div class=\"css-901oao css-bfa6kz r-1re7ezh r-18u37iz r-1qd0xha r-a023e6 r-16dba41 r-ad9z0x r-bcqeeo r-qvutc0\" dir=\"ltr\"><span class=\"css-901oao css-16my406 r-1qd0xha r-ad9z0x r-bcqeeo r-qvutc0\">@MarsWxReport</span></div></div></div></a></div><div aria-hidden=\"true\" class=\"css-901oao r-1re7ezh r-1q142lx r-1qd0xha r-a023e6 r-16dba41 r-ad9z0x r-bcqeeo r-ou255f r-qvutc0\" dir=\"auto\"><span class=\"css-901oao css-16my406 r-1qd0xha r-ad9z0x r-bcqeeo r-qvutc0\">·</span></div><a aria-label=\"Jun 15\" class=\"r-1re7ezh r-1loqt21 r-1q142lx r-1qd0xha r-a023e6 r-16dba41 r-ad9z0x r-bcqeeo r-3s2u2q r-qvutc0 css-4rbku5 css-18t94o4 css-901oao\" data-focusable=\"true\" dir=\"auto\" href=\"/MarsWxReport/status/1272693155071221760\" role=\"link\" title=\"8:51 PM · Jun 15, 2020\"><time datetime=\"2020-06-16T00:51:08.000Z\">Jun 15</time></a></div><div class=\"css-1dbjc4n r-18u37iz r-1h0z5md r-1joea0r\"><div aria-haspopup=\"true\" aria-label=\"More\" class=\"css-18t94o4 css-1dbjc4n r-1777fci r-11cpok1 r-1ny4l3l r-bztko3 r-lrvibr\" data-focusable=\"true\" data-testid=\"caret\" role=\"button\" tabindex=\"0\"><div class=\"css-901oao r-1awozwy r-1re7ezh r-6koalj r-1qd0xha r-a023e6 r-16dba41 r-1h0z5md r-ad9z0x r-bcqeeo r-o7ynqc r-clp7b1 r-3s2u2q r-qvutc0\" dir=\"ltr\"><div class=\"css-1dbjc4n r-xoduu5\"><div class=\"css-1dbjc4n r-1niwhzg r-sdzlij r-1p0dtai r-xoduu5 r-1d2f490 r-podbf7 r-u8s1d r-zchlnj r-ipm5af r-o7ynqc r-6416eg\"></div><svg class=\"r-4qtqp9 r-yyyyoo r-ip8ujx r-dnmrzs r-bnwqim r-1plcrui r-lrvibr r-27tl0q\" viewbox=\"0 0 24 24\"><g><path d=\"M20.207 8.147c-.39-.39-1.023-.39-1.414 0L12 14.94 5.207 8.147c-.39-.39-1.023-.39-1.414 0-.39.39-.39 1.023 0 1.414l7.5 7.5c.195.196.45.294.707.294s.512-.098.707-.293l7.5-7.5c.39-.39.39-1.022 0-1.413z\"></path></g></svg></div></div></div></div></div></div></div><div class=\"css-1dbjc4n\"><div class=\"css-1dbjc4n\"><div class=\"css-901oao r-hkyrab r-1qd0xha r-a023e6 r-16dba41 r-ad9z0x r-bcqeeo r-bnwqim r-qvutc0\" dir=\"auto\" lang=\"en\"><span class=\"css-901oao css-16my406 r-1qd0xha r-ad9z0x r-bcqeeo r-qvutc0\">InSight sol 550 (2020-06-13) low -92.1ºC (-133.7ºF) high 0.9ºC (33.7ºF)\n",
       " winds from the SW at 4.8 m/s (10.6 mph) gusting to 20.7 m/s (46.3 mph)\n",
       " pressure at 7.50 hPa</span></div></div><div class=\"css-1dbjc4n\"></div><div aria-label=\"1 reply, 11 Retweets, 28 likes\" class=\"css-1dbjc4n r-18u37iz r-1wtj0ep r-156q2ks r-1mdbhws\" role=\"group\"><div class=\"css-1dbjc4n r-1iusvr4 r-18u37iz r-16y2uox r-1h0z5md\"><div aria-label=\"1 Reply. Reply\" class=\"css-18t94o4 css-1dbjc4n r-1777fci r-11cpok1 r-1ny4l3l r-bztko3 r-lrvibr\" data-focusable=\"true\" data-testid=\"reply\" role=\"button\" tabindex=\"0\"><div class=\"css-901oao r-1awozwy r-1re7ezh r-6koalj r-1qd0xha r-a023e6 r-16dba41 r-1h0z5md r-ad9z0x r-bcqeeo r-o7ynqc r-clp7b1 r-3s2u2q r-qvutc0\" dir=\"ltr\"><div class=\"css-1dbjc4n r-xoduu5\"><div class=\"css-1dbjc4n r-1niwhzg r-sdzlij r-1p0dtai r-xoduu5 r-1d2f490 r-xf4iuw r-u8s1d r-zchlnj r-ipm5af r-o7ynqc r-6416eg\"></div><svg class=\"r-4qtqp9 r-yyyyoo r-1xvli5t r-dnmrzs r-bnwqim r-1plcrui r-lrvibr r-1hdv0qi\" viewbox=\"0 0 24 24\"><g><path d=\"M14.046 2.242l-4.148-.01h-.002c-4.374 0-7.8 3.427-7.8 7.802 0 4.098 3.186 7.206 7.465 7.37v3.828c0 .108.044.286.12.403.142.225.384.347.632.347.138 0 .277-.038.402-.118.264-.168 6.473-4.14 8.088-5.506 1.902-1.61 3.04-3.97 3.043-6.312v-.017c-.006-4.367-3.43-7.787-7.8-7.788zm3.787 12.972c-1.134.96-4.862 3.405-6.772 4.643V16.67c0-.414-.335-.75-.75-.75h-.396c-3.66 0-6.318-2.476-6.318-5.886 0-3.534 2.768-6.302 6.3-6.302l4.147.01h.002c3.532 0 6.3 2.766 6.302 6.296-.003 1.91-.942 3.844-2.514 5.176z\"></path></g></svg></div><div class=\"css-1dbjc4n r-xoduu5 r-1udh08x\"><span class=\"css-901oao css-16my406 r-1qd0xha r-n6v787 r-1sf4r6n r-1n0xq6e r-bcqeeo r-d3hbe1 r-1wgg2b2 r-axxi2z r-qvutc0\"><span class=\"css-901oao css-16my406 r-1qd0xha r-ad9z0x r-bcqeeo r-qvutc0\">1</span></span></div></div></div></div><div class=\"css-1dbjc4n r-1iusvr4 r-18u37iz r-16y2uox r-1h0z5md\"><div aria-haspopup=\"true\" aria-label=\"11 Retweets. Retweet\" class=\"css-18t94o4 css-1dbjc4n r-1777fci r-11cpok1 r-1ny4l3l r-bztko3 r-lrvibr\" data-focusable=\"true\" data-testid=\"retweet\" role=\"button\" tabindex=\"0\"><div class=\"css-901oao r-1awozwy r-1re7ezh r-6koalj r-1qd0xha r-a023e6 r-16dba41 r-1h0z5md r-ad9z0x r-bcqeeo r-o7ynqc r-clp7b1 r-3s2u2q r-qvutc0\" dir=\"ltr\"><div class=\"css-1dbjc4n r-xoduu5\"><div class=\"css-1dbjc4n r-1niwhzg r-sdzlij r-1p0dtai r-xoduu5 r-1d2f490 r-xf4iuw r-u8s1d r-zchlnj r-ipm5af r-o7ynqc r-6416eg\"></div><svg class=\"r-4qtqp9 r-yyyyoo r-1xvli5t r-dnmrzs r-bnwqim r-1plcrui r-lrvibr r-1hdv0qi\" viewbox=\"0 0 24 24\"><g><path d=\"M23.77 15.67c-.292-.293-.767-.293-1.06 0l-2.22 2.22V7.65c0-2.068-1.683-3.75-3.75-3.75h-5.85c-.414 0-.75.336-.75.75s.336.75.75.75h5.85c1.24 0 2.25 1.01 2.25 2.25v10.24l-2.22-2.22c-.293-.293-.768-.293-1.06 0s-.294.768 0 1.06l3.5 3.5c.145.147.337.22.53.22s.383-.072.53-.22l3.5-3.5c.294-.292.294-.767 0-1.06zm-10.66 3.28H7.26c-1.24 0-2.25-1.01-2.25-2.25V6.46l2.22 2.22c.148.147.34.22.532.22s.384-.073.53-.22c.293-.293.293-.768 0-1.06l-3.5-3.5c-.293-.294-.768-.294-1.06 0l-3.5 3.5c-.294.292-.294.767 0 1.06s.767.293 1.06 0l2.22-2.22V16.7c0 2.068 1.683 3.75 3.75 3.75h5.85c.414 0 .75-.336.75-.75s-.337-.75-.75-.75z\"></path></g></svg></div><div class=\"css-1dbjc4n r-xoduu5 r-1udh08x\"><span class=\"css-901oao css-16my406 r-1qd0xha r-n6v787 r-1sf4r6n r-1n0xq6e r-bcqeeo r-d3hbe1 r-1wgg2b2 r-axxi2z r-qvutc0\"><span class=\"css-901oao css-16my406 r-1qd0xha r-ad9z0x r-bcqeeo r-qvutc0\">11</span></span></div></div></div></div><div class=\"css-1dbjc4n r-1iusvr4 r-18u37iz r-16y2uox r-1h0z5md\"><div aria-label=\"28 Likes. Like\" class=\"css-18t94o4 css-1dbjc4n r-1777fci r-11cpok1 r-1ny4l3l r-bztko3 r-lrvibr\" data-focusable=\"true\" data-testid=\"like\" role=\"button\" tabindex=\"0\"><div class=\"css-901oao r-1awozwy r-1re7ezh r-6koalj r-1qd0xha r-a023e6 r-16dba41 r-1h0z5md r-ad9z0x r-bcqeeo r-o7ynqc r-clp7b1 r-3s2u2q r-qvutc0\" dir=\"ltr\"><div class=\"css-1dbjc4n r-xoduu5\"><div class=\"css-1dbjc4n r-1niwhzg r-sdzlij r-1p0dtai r-xoduu5 r-1d2f490 r-xf4iuw r-u8s1d r-zchlnj r-ipm5af r-o7ynqc r-6416eg\"></div><svg class=\"r-4qtqp9 r-yyyyoo r-1xvli5t r-dnmrzs r-bnwqim r-1plcrui r-lrvibr r-1hdv0qi\" viewbox=\"0 0 24 24\"><g><path d=\"M12 21.638h-.014C9.403 21.59 1.95 14.856 1.95 8.478c0-3.064 2.525-5.754 5.403-5.754 2.29 0 3.83 1.58 4.646 2.73.814-1.148 2.354-2.73 4.645-2.73 2.88 0 5.404 2.69 5.404 5.755 0 6.376-7.454 13.11-10.037 13.157H12zM7.354 4.225c-2.08 0-3.903 1.988-3.903 4.255 0 5.74 7.034 11.596 8.55 11.658 1.518-.062 8.55-5.917 8.55-11.658 0-2.267-1.823-4.255-3.903-4.255-2.528 0-3.94 2.936-3.952 2.965-.23.562-1.156.562-1.387 0-.014-.03-1.425-2.965-3.954-2.965z\"></path></g></svg></div><div class=\"css-1dbjc4n r-xoduu5 r-1udh08x\"><span class=\"css-901oao css-16my406 r-1qd0xha r-n6v787 r-1sf4r6n r-1n0xq6e r-bcqeeo r-d3hbe1 r-1wgg2b2 r-axxi2z r-qvutc0\"><span class=\"css-901oao css-16my406 r-1qd0xha r-ad9z0x r-bcqeeo r-qvutc0\">28</span></span></div></div></div></div><div class=\"css-1dbjc4n r-1mlwlqe r-18u37iz r-18kxxzh r-1h0z5md\"><div aria-haspopup=\"true\" aria-label=\"Share Tweet\" class=\"css-18t94o4 css-1dbjc4n r-1777fci r-11cpok1 r-1ny4l3l r-bztko3 r-lrvibr\" data-focusable=\"true\" role=\"button\" tabindex=\"0\"><div class=\"css-901oao r-1awozwy r-1re7ezh r-6koalj r-1qd0xha r-a023e6 r-16dba41 r-1h0z5md r-ad9z0x r-bcqeeo r-o7ynqc r-clp7b1 r-3s2u2q r-qvutc0\" dir=\"ltr\"><div class=\"css-1dbjc4n r-xoduu5\"><div class=\"css-1dbjc4n r-1niwhzg r-sdzlij r-1p0dtai r-xoduu5 r-1d2f490 r-xf4iuw r-u8s1d r-zchlnj r-ipm5af r-o7ynqc r-6416eg\"></div><svg class=\"r-4qtqp9 r-yyyyoo r-1xvli5t r-dnmrzs r-bnwqim r-1plcrui r-lrvibr r-1hdv0qi\" viewbox=\"0 0 24 24\"><g><path d=\"M17.53 7.47l-5-5c-.293-.293-.768-.293-1.06 0l-5 5c-.294.293-.294.768 0 1.06s.767.294 1.06 0l3.72-3.72V15c0 .414.336.75.75.75s.75-.336.75-.75V4.81l3.72 3.72c.146.147.338.22.53.22s.384-.072.53-.22c.293-.293.293-.767 0-1.06z\"></path><path d=\"M19.708 21.944H4.292C3.028 21.944 2 20.916 2 19.652V14c0-.414.336-.75.75-.75s.75.336.75.75v5.652c0 .437.355.792.792.792h15.416c.437 0 .792-.355.792-.792V14c0-.414.336-.75.75-.75s.75.336.75.75v5.652c0 1.264-1.028 2.292-2.292 2.292z\"></path></g></svg></div></div></div></div></div></div></div></div>,\n",
       " <div class=\"css-1dbjc4n r-18u37iz\" data-testid=\"tweet\"><div class=\"css-1dbjc4n r-1awozwy r-18kxxzh r-zso239\" style=\"flex-basis: 49px;\"><div class=\"css-1dbjc4n r-18kxxzh r-1wbh5a2 r-13qz1uu\"><div class=\"css-1dbjc4n r-1wbh5a2 r-dnmrzs\"><a class=\"css-4rbku5 css-18t94o4 css-1dbjc4n r-sdzlij r-1loqt21 r-1adg3ll r-ahm1il r-1ny4l3l r-1udh08x r-o7ynqc r-6416eg r-13qz1uu\" data-focusable=\"true\" href=\"/MarsWxReport\" role=\"link\"><div class=\"css-1dbjc4n r-1adg3ll r-1udh08x\" style=\"\"><div class=\"r-1adg3ll r-13qz1uu\" style=\"padding-bottom: 100%;\"></div><div class=\"r-1p0dtai r-1pi2tsx r-1d2f490 r-u8s1d r-ipm5af r-13qz1uu\"><div aria-label=\"\" class=\"css-1dbjc4n r-sdzlij r-1p0dtai r-1mlwlqe r-1d2f490 r-1udh08x r-u8s1d r-zchlnj r-ipm5af r-417010\"><div class=\"css-1dbjc4n r-1niwhzg r-vvn4in r-u6sd8q r-4gszlv r-1p0dtai r-1pi2tsx r-1d2f490 r-u8s1d r-zchlnj r-ipm5af r-13qz1uu r-1wyyakw\" style='background-image: url(\"https://pbs.twimg.com/profile_images/2552209293/220px-Mars_atmosphere_reasonably_small.jpg\");'></div><img alt=\"\" class=\"css-9pa8cd\" draggable=\"true\" src=\"https://pbs.twimg.com/profile_images/2552209293/220px-Mars_atmosphere_reasonably_small.jpg\"/></div></div></div><div class=\"css-1dbjc4n r-1twgtwe r-sdzlij r-rs99b7 r-1p0dtai r-1mi75qu r-1d2f490 r-1ny4l3l r-u8s1d r-zchlnj r-ipm5af r-o7ynqc r-6416eg\"></div></a></div></div></div><div class=\"css-1dbjc4n r-1iusvr4 r-16y2uox r-1777fci r-1mi0q7o\"><div class=\"css-1dbjc4n\"><div class=\"css-1dbjc4n r-zl2h9q\"><div class=\"css-1dbjc4n r-1awozwy r-18u37iz r-1wtj0ep\"><div class=\"css-1dbjc4n r-1d09ksm r-18u37iz r-1wbh5a2\"><div class=\"css-1dbjc4n r-1wbh5a2 r-dnmrzs\"><a class=\"css-4rbku5 css-18t94o4 css-1dbjc4n r-1loqt21 r-1wbh5a2 r-dnmrzs r-1ny4l3l\" data-focusable=\"true\" href=\"/MarsWxReport\" role=\"link\"><div class=\"css-1dbjc4n r-1awozwy r-18u37iz r-1wbh5a2 r-dnmrzs r-1ny4l3l\"><div class=\"css-1dbjc4n r-1awozwy r-18u37iz r-dnmrzs\"><div class=\"css-901oao css-bfa6kz r-hkyrab r-1qd0xha r-a023e6 r-vw2c0b r-ad9z0x r-bcqeeo r-3s2u2q r-qvutc0\" dir=\"auto\"><span class=\"css-901oao css-16my406 r-1qd0xha r-ad9z0x r-bcqeeo r-qvutc0\"><span class=\"css-901oao css-16my406 r-1qd0xha r-ad9z0x r-bcqeeo r-qvutc0\">Mars Weather</span></span></div><div class=\"css-901oao r-hkyrab r-18u37iz r-1q142lx r-1qd0xha r-a023e6 r-16dba41 r-ad9z0x r-bcqeeo r-qvutc0\" dir=\"auto\"></div></div><div class=\"css-1dbjc4n r-18u37iz r-1wbh5a2 r-1f6r7vd\"><div class=\"css-901oao css-bfa6kz r-1re7ezh r-18u37iz r-1qd0xha r-a023e6 r-16dba41 r-ad9z0x r-bcqeeo r-qvutc0\" dir=\"ltr\"><span class=\"css-901oao css-16my406 r-1qd0xha r-ad9z0x r-bcqeeo r-qvutc0\">@MarsWxReport</span></div></div></div></a></div><div aria-hidden=\"true\" class=\"css-901oao r-1re7ezh r-1q142lx r-1qd0xha r-a023e6 r-16dba41 r-ad9z0x r-bcqeeo r-ou255f r-qvutc0\" dir=\"auto\"><span class=\"css-901oao css-16my406 r-1qd0xha r-ad9z0x r-bcqeeo r-qvutc0\">·</span></div><a aria-label=\"Jun 13\" class=\"r-1re7ezh r-1loqt21 r-1q142lx r-1qd0xha r-a023e6 r-16dba41 r-ad9z0x r-bcqeeo r-3s2u2q r-qvutc0 css-4rbku5 css-18t94o4 css-901oao\" data-focusable=\"true\" dir=\"auto\" href=\"/MarsWxReport/status/1271967520849879040\" role=\"link\" title=\"8:47 PM · Jun 13, 2020\"><time datetime=\"2020-06-14T00:47:43.000Z\">Jun 13</time></a></div><div class=\"css-1dbjc4n r-18u37iz r-1h0z5md r-1joea0r\"><div aria-haspopup=\"true\" aria-label=\"More\" class=\"css-18t94o4 css-1dbjc4n r-1777fci r-11cpok1 r-1ny4l3l r-bztko3 r-lrvibr\" data-focusable=\"true\" data-testid=\"caret\" role=\"button\" tabindex=\"0\"><div class=\"css-901oao r-1awozwy r-1re7ezh r-6koalj r-1qd0xha r-a023e6 r-16dba41 r-1h0z5md r-ad9z0x r-bcqeeo r-o7ynqc r-clp7b1 r-3s2u2q r-qvutc0\" dir=\"ltr\"><div class=\"css-1dbjc4n r-xoduu5\"><div class=\"css-1dbjc4n r-1niwhzg r-sdzlij r-1p0dtai r-xoduu5 r-1d2f490 r-podbf7 r-u8s1d r-zchlnj r-ipm5af r-o7ynqc r-6416eg\"></div><svg class=\"r-4qtqp9 r-yyyyoo r-ip8ujx r-dnmrzs r-bnwqim r-1plcrui r-lrvibr r-27tl0q\" viewbox=\"0 0 24 24\"><g><path d=\"M20.207 8.147c-.39-.39-1.023-.39-1.414 0L12 14.94 5.207 8.147c-.39-.39-1.023-.39-1.414 0-.39.39-.39 1.023 0 1.414l7.5 7.5c.195.196.45.294.707.294s.512-.098.707-.293l7.5-7.5c.39-.39.39-1.022 0-1.413z\"></path></g></svg></div></div></div></div></div></div></div><div class=\"css-1dbjc4n\"><div class=\"css-1dbjc4n\"><div class=\"css-901oao r-hkyrab r-1qd0xha r-a023e6 r-16dba41 r-ad9z0x r-bcqeeo r-bnwqim r-qvutc0\" dir=\"auto\" lang=\"en\"><span class=\"css-901oao css-16my406 r-1qd0xha r-ad9z0x r-bcqeeo r-qvutc0\">How about a little pick-me-up courtesy of these talented young people.</span></div></div><div class=\"css-1dbjc4n\"><div class=\"css-1dbjc4n\"><div class=\"css-1dbjc4n r-156q2ks\"><div class=\"css-1dbjc4n\"><div class=\"css-901oao r-4iw3lz r-1xk2f4g r-hkyrab r-1qd0xha r-a023e6 r-16dba41 r-109y4c4 r-ad9z0x r-bcqeeo r-1udh08x r-wwvuq4 r-u8s1d r-92ng3h r-qvutc0\" dir=\"auto\"><span class=\"css-901oao css-16my406 r-1qd0xha r-ad9z0x r-bcqeeo r-qvutc0\">Quote Tweet</span></div><div class=\"css-1dbjc4n r-9x6qib r-t23y2h r-rs99b7 r-1loqt21 r-dap0kf r-1ny4l3l r-1udh08x r-o7ynqc r-6416eg\" data-focusable=\"true\" role=\"blockquote\" tabindex=\"0\"><div class=\"css-1dbjc4n\"><div class=\"css-1dbjc4n r-1habvwh r-6koalj r-18u37iz r-1wbh5a2 r-vlx1xi r-156q2ks\"><div class=\"css-1dbjc4n r-1wbh5a2 r-1udh08x\"><div class=\"css-1dbjc4n r-1habvwh r-dnmrzs\"><div class=\"css-1dbjc4n r-1wbh5a2 r-dnmrzs\"><div class=\"css-1dbjc4n r-1wbh5a2 r-dnmrzs r-1ny4l3l\"><div class=\"css-1dbjc4n r-1awozwy r-18u37iz r-1wbh5a2 r-dnmrzs r-1ny4l3l\"><div class=\"css-1dbjc4n r-1awozwy r-18u37iz r-dnmrzs\"><div class=\"css-1dbjc4n r-sdzlij r-1q142lx r-z80fyv r-7o8qx1 r-1ny4l3l r-1udh08x r-19wmn03\" role=\"presentation\"><div class=\"css-1dbjc4n r-1mlwlqe r-z80fyv r-1udh08x r-19wmn03 r-417010\" style=\"background-color: rgb(170, 184, 194);\"><div class=\"css-1dbjc4n r-1niwhzg r-vvn4in r-u6sd8q r-4gszlv r-1p0dtai r-1pi2tsx r-1d2f490 r-u8s1d r-zchlnj r-ipm5af r-13qz1uu r-1wyyakw\" style='background-image: url(\"https://pbs.twimg.com/profile_images/1170578668898439168/EBQ68-U8_normal.jpg\");'></div><img alt=\"\" class=\"css-9pa8cd\" draggable=\"false\" src=\"https://pbs.twimg.com/profile_images/1170578668898439168/EBQ68-U8_normal.jpg\"/></div><div class=\"css-1dbjc4n r-19z6qd4 r-sdzlij r-rs99b7 r-1p0dtai r-1mi75qu r-z80fyv r-1d2f490 r-u8s1d r-zchlnj r-ipm5af r-19wmn03\"></div><div class=\"css-1dbjc4n r-19z6qd4 r-sdzlij r-rs99b7 r-1p0dtai r-1mi75qu r-1d2f490 r-1ny4l3l r-u8s1d r-zchlnj r-ipm5af\"></div></div><div class=\"css-901oao css-bfa6kz r-hkyrab r-1qd0xha r-a023e6 r-vw2c0b r-ad9z0x r-bcqeeo r-3s2u2q r-qvutc0\" dir=\"auto\"><span class=\"css-901oao css-16my406 r-1qd0xha r-ad9z0x r-bcqeeo r-qvutc0\"><span class=\"css-901oao css-16my406 r-1qd0xha r-ad9z0x r-bcqeeo r-qvutc0\">Apex High School Chorus</span></span></div><div class=\"css-901oao r-hkyrab r-18u37iz r-1q142lx r-1qd0xha r-a023e6 r-16dba41 r-ad9z0x r-bcqeeo r-qvutc0\" dir=\"auto\"></div></div><div class=\"css-1dbjc4n r-18u37iz r-1wbh5a2 r-1f6r7vd\"><div class=\"css-901oao css-bfa6kz r-1re7ezh r-18u37iz r-1qd0xha r-a023e6 r-16dba41 r-ad9z0x r-bcqeeo r-qvutc0\" dir=\"ltr\"><span class=\"css-901oao css-16my406 r-1qd0xha r-ad9z0x r-bcqeeo r-qvutc0\">@AhsChorus</span></div></div></div></div></div></div></div><div class=\"css-901oao r-1re7ezh r-1q142lx r-1qd0xha r-a023e6 r-16dba41 r-ad9z0x r-bcqeeo r-yrgyi6 r-qvutc0\" dir=\"ltr\"> · <span aria-label=\"Jun 13\" class=\"r-1re7ezh r-1q142lx r-1qd0xha r-ad9z0x r-bcqeeo r-3s2u2q r-qvutc0 css-901oao css-16my406\" title=\"2:40 PM · Jun 13, 2020\"><time datetime=\"2020-06-13T18:40:28.000Z\">Jun 13</time></span></div></div><div class=\"css-1dbjc4n r-15d164r r-vlx1xi\"><div class=\"css-901oao r-hkyrab r-1qd0xha r-a023e6 r-16dba41 r-ad9z0x r-1g94qm0 r-bcqeeo r-bnwqim r-qvutc0\" dir=\"auto\" lang=\"en\"><span class=\"css-901oao css-16my406 r-1qd0xha r-ad9z0x r-bcqeeo r-qvutc0\">Check out this amazing video that was put together! This ‘virtual choir’ includes students from Apex, Apex Friendship, Garner Magnet, and Green Level High Schools! The message of this song is especially relevant today, as well! </span><span class=\"r-1qd0xha r-ad9z0x r-bcqeeo r-qvutc0 css-901oao css-16my406\" dir=\"ltr\" title=\"https://youtu.be/Sh11NNB2ywQ\"><span aria-hidden=\"true\" class=\"css-901oao css-16my406 r-1qd0xha r-hiw28u r-ad9z0x r-bcqeeo r-qvutc0\">https://</span>youtu.be/Sh11NNB2ywQ</span></div></div></div></div></div></div></div></div><div aria-label=\"3 Retweets, 14 likes\" class=\"css-1dbjc4n r-18u37iz r-1wtj0ep r-156q2ks r-1mdbhws\" role=\"group\"><div class=\"css-1dbjc4n r-1iusvr4 r-18u37iz r-16y2uox r-1h0z5md\"><div aria-label=\"Reply\" class=\"css-18t94o4 css-1dbjc4n r-1777fci r-11cpok1 r-1ny4l3l r-bztko3 r-lrvibr\" data-focusable=\"true\" data-testid=\"reply\" role=\"button\" tabindex=\"0\"><div class=\"css-901oao r-1awozwy r-1re7ezh r-6koalj r-1qd0xha r-a023e6 r-16dba41 r-1h0z5md r-ad9z0x r-bcqeeo r-o7ynqc r-clp7b1 r-3s2u2q r-qvutc0\" dir=\"ltr\"><div class=\"css-1dbjc4n r-xoduu5\"><div class=\"css-1dbjc4n r-1niwhzg r-sdzlij r-1p0dtai r-xoduu5 r-1d2f490 r-xf4iuw r-u8s1d r-zchlnj r-ipm5af r-o7ynqc r-6416eg\"></div><svg class=\"r-4qtqp9 r-yyyyoo r-1xvli5t r-dnmrzs r-bnwqim r-1plcrui r-lrvibr r-1hdv0qi\" viewbox=\"0 0 24 24\"><g><path d=\"M14.046 2.242l-4.148-.01h-.002c-4.374 0-7.8 3.427-7.8 7.802 0 4.098 3.186 7.206 7.465 7.37v3.828c0 .108.044.286.12.403.142.225.384.347.632.347.138 0 .277-.038.402-.118.264-.168 6.473-4.14 8.088-5.506 1.902-1.61 3.04-3.97 3.043-6.312v-.017c-.006-4.367-3.43-7.787-7.8-7.788zm3.787 12.972c-1.134.96-4.862 3.405-6.772 4.643V16.67c0-.414-.335-.75-.75-.75h-.396c-3.66 0-6.318-2.476-6.318-5.886 0-3.534 2.768-6.302 6.3-6.302l4.147.01h.002c3.532 0 6.3 2.766 6.302 6.296-.003 1.91-.942 3.844-2.514 5.176z\"></path></g></svg></div></div></div></div><div class=\"css-1dbjc4n r-1iusvr4 r-18u37iz r-16y2uox r-1h0z5md\"><div aria-haspopup=\"true\" aria-label=\"3 Retweets. Retweet\" class=\"css-18t94o4 css-1dbjc4n r-1777fci r-11cpok1 r-1ny4l3l r-bztko3 r-lrvibr\" data-focusable=\"true\" data-testid=\"retweet\" role=\"button\" tabindex=\"0\"><div class=\"css-901oao r-1awozwy r-1re7ezh r-6koalj r-1qd0xha r-a023e6 r-16dba41 r-1h0z5md r-ad9z0x r-bcqeeo r-o7ynqc r-clp7b1 r-3s2u2q r-qvutc0\" dir=\"ltr\"><div class=\"css-1dbjc4n r-xoduu5\"><div class=\"css-1dbjc4n r-1niwhzg r-sdzlij r-1p0dtai r-xoduu5 r-1d2f490 r-xf4iuw r-u8s1d r-zchlnj r-ipm5af r-o7ynqc r-6416eg\"></div><svg class=\"r-4qtqp9 r-yyyyoo r-1xvli5t r-dnmrzs r-bnwqim r-1plcrui r-lrvibr r-1hdv0qi\" viewbox=\"0 0 24 24\"><g><path d=\"M23.77 15.67c-.292-.293-.767-.293-1.06 0l-2.22 2.22V7.65c0-2.068-1.683-3.75-3.75-3.75h-5.85c-.414 0-.75.336-.75.75s.336.75.75.75h5.85c1.24 0 2.25 1.01 2.25 2.25v10.24l-2.22-2.22c-.293-.293-.768-.293-1.06 0s-.294.768 0 1.06l3.5 3.5c.145.147.337.22.53.22s.383-.072.53-.22l3.5-3.5c.294-.292.294-.767 0-1.06zm-10.66 3.28H7.26c-1.24 0-2.25-1.01-2.25-2.25V6.46l2.22 2.22c.148.147.34.22.532.22s.384-.073.53-.22c.293-.293.293-.768 0-1.06l-3.5-3.5c-.293-.294-.768-.294-1.06 0l-3.5 3.5c-.294.292-.294.767 0 1.06s.767.293 1.06 0l2.22-2.22V16.7c0 2.068 1.683 3.75 3.75 3.75h5.85c.414 0 .75-.336.75-.75s-.337-.75-.75-.75z\"></path></g></svg></div><div class=\"css-1dbjc4n r-xoduu5 r-1udh08x\"><span class=\"css-901oao css-16my406 r-1qd0xha r-n6v787 r-1sf4r6n r-1n0xq6e r-bcqeeo r-d3hbe1 r-1wgg2b2 r-axxi2z r-qvutc0\"><span class=\"css-901oao css-16my406 r-1qd0xha r-ad9z0x r-bcqeeo r-qvutc0\">3</span></span></div></div></div></div><div class=\"css-1dbjc4n r-1iusvr4 r-18u37iz r-16y2uox r-1h0z5md\"><div aria-label=\"14 Likes. Like\" class=\"css-18t94o4 css-1dbjc4n r-1777fci r-11cpok1 r-1ny4l3l r-bztko3 r-lrvibr\" data-focusable=\"true\" data-testid=\"like\" role=\"button\" tabindex=\"0\"><div class=\"css-901oao r-1awozwy r-1re7ezh r-6koalj r-1qd0xha r-a023e6 r-16dba41 r-1h0z5md r-ad9z0x r-bcqeeo r-o7ynqc r-clp7b1 r-3s2u2q r-qvutc0\" dir=\"ltr\"><div class=\"css-1dbjc4n r-xoduu5\"><div class=\"css-1dbjc4n r-1niwhzg r-sdzlij r-1p0dtai r-xoduu5 r-1d2f490 r-xf4iuw r-u8s1d r-zchlnj r-ipm5af r-o7ynqc r-6416eg\"></div><svg class=\"r-4qtqp9 r-yyyyoo r-1xvli5t r-dnmrzs r-bnwqim r-1plcrui r-lrvibr r-1hdv0qi\" viewbox=\"0 0 24 24\"><g><path d=\"M12 21.638h-.014C9.403 21.59 1.95 14.856 1.95 8.478c0-3.064 2.525-5.754 5.403-5.754 2.29 0 3.83 1.58 4.646 2.73.814-1.148 2.354-2.73 4.645-2.73 2.88 0 5.404 2.69 5.404 5.755 0 6.376-7.454 13.11-10.037 13.157H12zM7.354 4.225c-2.08 0-3.903 1.988-3.903 4.255 0 5.74 7.034 11.596 8.55 11.658 1.518-.062 8.55-5.917 8.55-11.658 0-2.267-1.823-4.255-3.903-4.255-2.528 0-3.94 2.936-3.952 2.965-.23.562-1.156.562-1.387 0-.014-.03-1.425-2.965-3.954-2.965z\"></path></g></svg></div><div class=\"css-1dbjc4n r-xoduu5 r-1udh08x\"><span class=\"css-901oao css-16my406 r-1qd0xha r-n6v787 r-1sf4r6n r-1n0xq6e r-bcqeeo r-d3hbe1 r-1wgg2b2 r-axxi2z r-qvutc0\"><span class=\"css-901oao css-16my406 r-1qd0xha r-ad9z0x r-bcqeeo r-qvutc0\">14</span></span></div></div></div></div><div class=\"css-1dbjc4n r-1mlwlqe r-18u37iz r-18kxxzh r-1h0z5md\"><div aria-haspopup=\"true\" aria-label=\"Share Tweet\" class=\"css-18t94o4 css-1dbjc4n r-1777fci r-11cpok1 r-1ny4l3l r-bztko3 r-lrvibr\" data-focusable=\"true\" role=\"button\" tabindex=\"0\"><div class=\"css-901oao r-1awozwy r-1re7ezh r-6koalj r-1qd0xha r-a023e6 r-16dba41 r-1h0z5md r-ad9z0x r-bcqeeo r-o7ynqc r-clp7b1 r-3s2u2q r-qvutc0\" dir=\"ltr\"><div class=\"css-1dbjc4n r-xoduu5\"><div class=\"css-1dbjc4n r-1niwhzg r-sdzlij r-1p0dtai r-xoduu5 r-1d2f490 r-xf4iuw r-u8s1d r-zchlnj r-ipm5af r-o7ynqc r-6416eg\"></div><svg class=\"r-4qtqp9 r-yyyyoo r-1xvli5t r-dnmrzs r-bnwqim r-1plcrui r-lrvibr r-1hdv0qi\" viewbox=\"0 0 24 24\"><g><path d=\"M17.53 7.47l-5-5c-.293-.293-.768-.293-1.06 0l-5 5c-.294.293-.294.768 0 1.06s.767.294 1.06 0l3.72-3.72V15c0 .414.336.75.75.75s.75-.336.75-.75V4.81l3.72 3.72c.146.147.338.22.53.22s.384-.072.53-.22c.293-.293.293-.767 0-1.06z\"></path><path d=\"M19.708 21.944H4.292C3.028 21.944 2 20.916 2 19.652V14c0-.414.336-.75.75-.75s.75.336.75.75v5.652c0 .437.355.792.792.792h15.416c.437 0 .792-.355.792-.792V14c0-.414.336-.75.75-.75s.75.336.75.75v5.652c0 1.264-1.028 2.292-2.292 2.292z\"></path></g></svg></div></div></div></div></div></div></div></div>,\n",
       " <div class=\"css-1dbjc4n r-18u37iz\" data-testid=\"tweet\"><div class=\"css-1dbjc4n r-1awozwy r-18kxxzh r-zso239\" style=\"flex-basis: 49px;\"><div class=\"css-1dbjc4n r-18kxxzh r-1wbh5a2 r-13qz1uu\"><div class=\"css-1dbjc4n r-1wbh5a2 r-dnmrzs\"><a class=\"css-4rbku5 css-18t94o4 css-1dbjc4n r-sdzlij r-1loqt21 r-1adg3ll r-ahm1il r-1ny4l3l r-1udh08x r-o7ynqc r-6416eg r-13qz1uu\" data-focusable=\"true\" href=\"/MarsWxReport\" role=\"link\"><div class=\"css-1dbjc4n r-1adg3ll r-1udh08x\" style=\"\"><div class=\"r-1adg3ll r-13qz1uu\" style=\"padding-bottom: 100%;\"></div><div class=\"r-1p0dtai r-1pi2tsx r-1d2f490 r-u8s1d r-ipm5af r-13qz1uu\"><div aria-label=\"\" class=\"css-1dbjc4n r-sdzlij r-1p0dtai r-1mlwlqe r-1d2f490 r-1udh08x r-u8s1d r-zchlnj r-ipm5af r-417010\"><div class=\"css-1dbjc4n r-1niwhzg r-vvn4in r-u6sd8q r-4gszlv r-1p0dtai r-1pi2tsx r-1d2f490 r-u8s1d r-zchlnj r-ipm5af r-13qz1uu r-1wyyakw\" style='background-image: url(\"https://pbs.twimg.com/profile_images/2552209293/220px-Mars_atmosphere_reasonably_small.jpg\");'></div><img alt=\"\" class=\"css-9pa8cd\" draggable=\"true\" src=\"https://pbs.twimg.com/profile_images/2552209293/220px-Mars_atmosphere_reasonably_small.jpg\"/></div></div></div><div class=\"css-1dbjc4n r-1twgtwe r-sdzlij r-rs99b7 r-1p0dtai r-1mi75qu r-1d2f490 r-1ny4l3l r-u8s1d r-zchlnj r-ipm5af r-o7ynqc r-6416eg\"></div></a></div></div></div><div class=\"css-1dbjc4n r-1iusvr4 r-16y2uox r-1777fci r-1mi0q7o\"><div class=\"css-1dbjc4n\"><div class=\"css-1dbjc4n r-zl2h9q\"><div class=\"css-1dbjc4n r-1awozwy r-18u37iz r-1wtj0ep\"><div class=\"css-1dbjc4n r-1d09ksm r-18u37iz r-1wbh5a2\"><div class=\"css-1dbjc4n r-1wbh5a2 r-dnmrzs\"><a class=\"css-4rbku5 css-18t94o4 css-1dbjc4n r-1loqt21 r-1wbh5a2 r-dnmrzs r-1ny4l3l\" data-focusable=\"true\" href=\"/MarsWxReport\" role=\"link\"><div class=\"css-1dbjc4n r-1awozwy r-18u37iz r-1wbh5a2 r-dnmrzs r-1ny4l3l\"><div class=\"css-1dbjc4n r-1awozwy r-18u37iz r-dnmrzs\"><div class=\"css-901oao css-bfa6kz r-hkyrab r-1qd0xha r-a023e6 r-vw2c0b r-ad9z0x r-bcqeeo r-3s2u2q r-qvutc0\" dir=\"auto\"><span class=\"css-901oao css-16my406 r-1qd0xha r-ad9z0x r-bcqeeo r-qvutc0\"><span class=\"css-901oao css-16my406 r-1qd0xha r-ad9z0x r-bcqeeo r-qvutc0\">Mars Weather</span></span></div><div class=\"css-901oao r-hkyrab r-18u37iz r-1q142lx r-1qd0xha r-a023e6 r-16dba41 r-ad9z0x r-bcqeeo r-qvutc0\" dir=\"auto\"></div></div><div class=\"css-1dbjc4n r-18u37iz r-1wbh5a2 r-1f6r7vd\"><div class=\"css-901oao css-bfa6kz r-1re7ezh r-18u37iz r-1qd0xha r-a023e6 r-16dba41 r-ad9z0x r-bcqeeo r-qvutc0\" dir=\"ltr\"><span class=\"css-901oao css-16my406 r-1qd0xha r-ad9z0x r-bcqeeo r-qvutc0\">@MarsWxReport</span></div></div></div></a></div><div aria-hidden=\"true\" class=\"css-901oao r-1re7ezh r-1q142lx r-1qd0xha r-a023e6 r-16dba41 r-ad9z0x r-bcqeeo r-ou255f r-qvutc0\" dir=\"auto\"><span class=\"css-901oao css-16my406 r-1qd0xha r-ad9z0x r-bcqeeo r-qvutc0\">·</span></div><a aria-label=\"Jun 13\" class=\"r-1re7ezh r-1loqt21 r-1q142lx r-1qd0xha r-a023e6 r-16dba41 r-ad9z0x r-bcqeeo r-3s2u2q r-qvutc0 css-4rbku5 css-18t94o4 css-901oao\" data-focusable=\"true\" dir=\"auto\" href=\"/MarsWxReport/status/1271726796002770945\" role=\"link\" title=\"4:51 AM · Jun 13, 2020\"><time datetime=\"2020-06-13T08:51:10.000Z\">Jun 13</time></a></div><div class=\"css-1dbjc4n r-18u37iz r-1h0z5md r-1joea0r\"><div aria-haspopup=\"true\" aria-label=\"More\" class=\"css-18t94o4 css-1dbjc4n r-1777fci r-11cpok1 r-1ny4l3l r-bztko3 r-lrvibr\" data-focusable=\"true\" data-testid=\"caret\" role=\"button\" tabindex=\"0\"><div class=\"css-901oao r-1awozwy r-1re7ezh r-6koalj r-1qd0xha r-a023e6 r-16dba41 r-1h0z5md r-ad9z0x r-bcqeeo r-o7ynqc r-clp7b1 r-3s2u2q r-qvutc0\" dir=\"ltr\"><div class=\"css-1dbjc4n r-xoduu5\"><div class=\"css-1dbjc4n r-1niwhzg r-sdzlij r-1p0dtai r-xoduu5 r-1d2f490 r-podbf7 r-u8s1d r-zchlnj r-ipm5af r-o7ynqc r-6416eg\"></div><svg class=\"r-4qtqp9 r-yyyyoo r-ip8ujx r-dnmrzs r-bnwqim r-1plcrui r-lrvibr r-27tl0q\" viewbox=\"0 0 24 24\"><g><path d=\"M20.207 8.147c-.39-.39-1.023-.39-1.414 0L12 14.94 5.207 8.147c-.39-.39-1.023-.39-1.414 0-.39.39-.39 1.023 0 1.414l7.5 7.5c.195.196.45.294.707.294s.512-.098.707-.293l7.5-7.5c.39-.39.39-1.022 0-1.413z\"></path></g></svg></div></div></div></div></div></div></div><div class=\"css-1dbjc4n\"><div class=\"css-1dbjc4n\"><div class=\"css-901oao r-hkyrab r-1qd0xha r-a023e6 r-16dba41 r-ad9z0x r-bcqeeo r-bnwqim r-qvutc0\" dir=\"auto\" lang=\"en\"><span class=\"css-901oao css-16my406 r-1qd0xha r-ad9z0x r-bcqeeo r-qvutc0\">InSight sol 549 (2020-06-12) low -91.8ºC (-133.3ºF) high -1.5ºC (29.3ºF)\n",
       " winds from the SW at 4.5 m/s (10.1 mph) gusting to 18.2 m/s (40.6 mph)\n",
       " pressure at 7.40 hPa</span></div></div><div class=\"css-1dbjc4n\"><div class=\"css-1dbjc4n\"><div class=\"css-1dbjc4n r-1udh08x\"><div class=\"css-1dbjc4n r-9x6qib r-t23y2h r-1phboty r-rs99b7 r-156q2ks r-1udh08x\"><div class=\"css-1dbjc4n\"><a class=\"css-4rbku5 css-18t94o4 css-1dbjc4n r-1loqt21 r-1ny4l3l\" data-focusable=\"true\" href=\"/MarsWxReport/status/1271726796002770945/photo/1\" role=\"link\"><div class=\"css-1dbjc4n r-1adg3ll r-1udh08x\" style=\"\"><div class=\"r-1adg3ll r-13qz1uu\" style=\"padding-bottom: 56.25%;\"></div><div class=\"r-1p0dtai r-1pi2tsx r-1d2f490 r-u8s1d r-ipm5af r-13qz1uu\"><div aria-label=\"Image\" class=\"css-1dbjc4n r-1p0dtai r-1mlwlqe r-1d2f490 r-11wrixw r-1udh08x r-u8s1d r-zchlnj r-ipm5af r-417010\" style=\"margin-bottom: 0px; margin-right: 0px; margin-top: 0px;\"><div class=\"css-1dbjc4n r-1niwhzg r-vvn4in r-u6sd8q r-4gszlv r-1p0dtai r-1pi2tsx r-1d2f490 r-u8s1d r-zchlnj r-ipm5af r-13qz1uu r-1wyyakw\" style='background-image: url(\"https://pbs.twimg.com/media/EaYUx4-X0AIgaRW?format=jpg&amp;name=medium\");'></div><img alt=\"Image\" class=\"css-9pa8cd\" draggable=\"true\" src=\"https://pbs.twimg.com/media/EaYUx4-X0AIgaRW?format=jpg&amp;name=medium\"/></div></div></div></a></div></div></div></div></div><div aria-label=\"4 Retweets, 23 likes\" class=\"css-1dbjc4n r-18u37iz r-1wtj0ep r-156q2ks r-1mdbhws\" role=\"group\"><div class=\"css-1dbjc4n r-1iusvr4 r-18u37iz r-16y2uox r-1h0z5md\"><div aria-label=\"Reply\" class=\"css-18t94o4 css-1dbjc4n r-1777fci r-11cpok1 r-1ny4l3l r-bztko3 r-lrvibr\" data-focusable=\"true\" data-testid=\"reply\" role=\"button\" tabindex=\"0\"><div class=\"css-901oao r-1awozwy r-1re7ezh r-6koalj r-1qd0xha r-a023e6 r-16dba41 r-1h0z5md r-ad9z0x r-bcqeeo r-o7ynqc r-clp7b1 r-3s2u2q r-qvutc0\" dir=\"ltr\"><div class=\"css-1dbjc4n r-xoduu5\"><div class=\"css-1dbjc4n r-1niwhzg r-sdzlij r-1p0dtai r-xoduu5 r-1d2f490 r-xf4iuw r-u8s1d r-zchlnj r-ipm5af r-o7ynqc r-6416eg\"></div><svg class=\"r-4qtqp9 r-yyyyoo r-1xvli5t r-dnmrzs r-bnwqim r-1plcrui r-lrvibr r-1hdv0qi\" viewbox=\"0 0 24 24\"><g><path d=\"M14.046 2.242l-4.148-.01h-.002c-4.374 0-7.8 3.427-7.8 7.802 0 4.098 3.186 7.206 7.465 7.37v3.828c0 .108.044.286.12.403.142.225.384.347.632.347.138 0 .277-.038.402-.118.264-.168 6.473-4.14 8.088-5.506 1.902-1.61 3.04-3.97 3.043-6.312v-.017c-.006-4.367-3.43-7.787-7.8-7.788zm3.787 12.972c-1.134.96-4.862 3.405-6.772 4.643V16.67c0-.414-.335-.75-.75-.75h-.396c-3.66 0-6.318-2.476-6.318-5.886 0-3.534 2.768-6.302 6.3-6.302l4.147.01h.002c3.532 0 6.3 2.766 6.302 6.296-.003 1.91-.942 3.844-2.514 5.176z\"></path></g></svg></div></div></div></div><div class=\"css-1dbjc4n r-1iusvr4 r-18u37iz r-16y2uox r-1h0z5md\"><div aria-haspopup=\"true\" aria-label=\"4 Retweets. Retweet\" class=\"css-18t94o4 css-1dbjc4n r-1777fci r-11cpok1 r-1ny4l3l r-bztko3 r-lrvibr\" data-focusable=\"true\" data-testid=\"retweet\" role=\"button\" tabindex=\"0\"><div class=\"css-901oao r-1awozwy r-1re7ezh r-6koalj r-1qd0xha r-a023e6 r-16dba41 r-1h0z5md r-ad9z0x r-bcqeeo r-o7ynqc r-clp7b1 r-3s2u2q r-qvutc0\" dir=\"ltr\"><div class=\"css-1dbjc4n r-xoduu5\"><div class=\"css-1dbjc4n r-1niwhzg r-sdzlij r-1p0dtai r-xoduu5 r-1d2f490 r-xf4iuw r-u8s1d r-zchlnj r-ipm5af r-o7ynqc r-6416eg\"></div><svg class=\"r-4qtqp9 r-yyyyoo r-1xvli5t r-dnmrzs r-bnwqim r-1plcrui r-lrvibr r-1hdv0qi\" viewbox=\"0 0 24 24\"><g><path d=\"M23.77 15.67c-.292-.293-.767-.293-1.06 0l-2.22 2.22V7.65c0-2.068-1.683-3.75-3.75-3.75h-5.85c-.414 0-.75.336-.75.75s.336.75.75.75h5.85c1.24 0 2.25 1.01 2.25 2.25v10.24l-2.22-2.22c-.293-.293-.768-.293-1.06 0s-.294.768 0 1.06l3.5 3.5c.145.147.337.22.53.22s.383-.072.53-.22l3.5-3.5c.294-.292.294-.767 0-1.06zm-10.66 3.28H7.26c-1.24 0-2.25-1.01-2.25-2.25V6.46l2.22 2.22c.148.147.34.22.532.22s.384-.073.53-.22c.293-.293.293-.768 0-1.06l-3.5-3.5c-.293-.294-.768-.294-1.06 0l-3.5 3.5c-.294.292-.294.767 0 1.06s.767.293 1.06 0l2.22-2.22V16.7c0 2.068 1.683 3.75 3.75 3.75h5.85c.414 0 .75-.336.75-.75s-.337-.75-.75-.75z\"></path></g></svg></div><div class=\"css-1dbjc4n r-xoduu5 r-1udh08x\"><span class=\"css-901oao css-16my406 r-1qd0xha r-n6v787 r-1sf4r6n r-1n0xq6e r-bcqeeo r-d3hbe1 r-1wgg2b2 r-axxi2z r-qvutc0\"><span class=\"css-901oao css-16my406 r-1qd0xha r-ad9z0x r-bcqeeo r-qvutc0\">4</span></span></div></div></div></div><div class=\"css-1dbjc4n r-1iusvr4 r-18u37iz r-16y2uox r-1h0z5md\"><div aria-label=\"23 Likes. Like\" class=\"css-18t94o4 css-1dbjc4n r-1777fci r-11cpok1 r-1ny4l3l r-bztko3 r-lrvibr\" data-focusable=\"true\" data-testid=\"like\" role=\"button\" tabindex=\"0\"><div class=\"css-901oao r-1awozwy r-1re7ezh r-6koalj r-1qd0xha r-a023e6 r-16dba41 r-1h0z5md r-ad9z0x r-bcqeeo r-o7ynqc r-clp7b1 r-3s2u2q r-qvutc0\" dir=\"ltr\"><div class=\"css-1dbjc4n r-xoduu5\"><div class=\"css-1dbjc4n r-1niwhzg r-sdzlij r-1p0dtai r-xoduu5 r-1d2f490 r-xf4iuw r-u8s1d r-zchlnj r-ipm5af r-o7ynqc r-6416eg\"></div><svg class=\"r-4qtqp9 r-yyyyoo r-1xvli5t r-dnmrzs r-bnwqim r-1plcrui r-lrvibr r-1hdv0qi\" viewbox=\"0 0 24 24\"><g><path d=\"M12 21.638h-.014C9.403 21.59 1.95 14.856 1.95 8.478c0-3.064 2.525-5.754 5.403-5.754 2.29 0 3.83 1.58 4.646 2.73.814-1.148 2.354-2.73 4.645-2.73 2.88 0 5.404 2.69 5.404 5.755 0 6.376-7.454 13.11-10.037 13.157H12zM7.354 4.225c-2.08 0-3.903 1.988-3.903 4.255 0 5.74 7.034 11.596 8.55 11.658 1.518-.062 8.55-5.917 8.55-11.658 0-2.267-1.823-4.255-3.903-4.255-2.528 0-3.94 2.936-3.952 2.965-.23.562-1.156.562-1.387 0-.014-.03-1.425-2.965-3.954-2.965z\"></path></g></svg></div><div class=\"css-1dbjc4n r-xoduu5 r-1udh08x\"><span class=\"css-901oao css-16my406 r-1qd0xha r-n6v787 r-1sf4r6n r-1n0xq6e r-bcqeeo r-d3hbe1 r-1wgg2b2 r-axxi2z r-qvutc0\"><span class=\"css-901oao css-16my406 r-1qd0xha r-ad9z0x r-bcqeeo r-qvutc0\">23</span></span></div></div></div></div><div class=\"css-1dbjc4n r-1mlwlqe r-18u37iz r-18kxxzh r-1h0z5md\"><div aria-haspopup=\"true\" aria-label=\"Share Tweet\" class=\"css-18t94o4 css-1dbjc4n r-1777fci r-11cpok1 r-1ny4l3l r-bztko3 r-lrvibr\" data-focusable=\"true\" role=\"button\" tabindex=\"0\"><div class=\"css-901oao r-1awozwy r-1re7ezh r-6koalj r-1qd0xha r-a023e6 r-16dba41 r-1h0z5md r-ad9z0x r-bcqeeo r-o7ynqc r-clp7b1 r-3s2u2q r-qvutc0\" dir=\"ltr\"><div class=\"css-1dbjc4n r-xoduu5\"><div class=\"css-1dbjc4n r-1niwhzg r-sdzlij r-1p0dtai r-xoduu5 r-1d2f490 r-xf4iuw r-u8s1d r-zchlnj r-ipm5af r-o7ynqc r-6416eg\"></div><svg class=\"r-4qtqp9 r-yyyyoo r-1xvli5t r-dnmrzs r-bnwqim r-1plcrui r-lrvibr r-1hdv0qi\" viewbox=\"0 0 24 24\"><g><path d=\"M17.53 7.47l-5-5c-.293-.293-.768-.293-1.06 0l-5 5c-.294.293-.294.768 0 1.06s.767.294 1.06 0l3.72-3.72V15c0 .414.336.75.75.75s.75-.336.75-.75V4.81l3.72 3.72c.146.147.338.22.53.22s.384-.072.53-.22c.293-.293.293-.767 0-1.06z\"></path><path d=\"M19.708 21.944H4.292C3.028 21.944 2 20.916 2 19.652V14c0-.414.336-.75.75-.75s.75.336.75.75v5.652c0 .437.355.792.792.792h15.416c.437 0 .792-.355.792-.792V14c0-.414.336-.75.75-.75s.75.336.75.75v5.652c0 1.264-1.028 2.292-2.292 2.292z\"></path></g></svg></div></div></div></div></div></div></div></div>,\n",
       " <div class=\"css-1dbjc4n r-18u37iz\" data-testid=\"tweet\"><div class=\"css-1dbjc4n r-1awozwy r-18kxxzh r-zso239\" style=\"flex-basis: 49px;\"><div class=\"css-1dbjc4n r-18kxxzh r-1wbh5a2 r-13qz1uu\"><div class=\"css-1dbjc4n r-1wbh5a2 r-dnmrzs\"><a class=\"css-4rbku5 css-18t94o4 css-1dbjc4n r-sdzlij r-1loqt21 r-1adg3ll r-ahm1il r-1ny4l3l r-1udh08x r-o7ynqc r-6416eg r-13qz1uu\" data-focusable=\"true\" href=\"/MarsWxReport\" role=\"link\"><div class=\"css-1dbjc4n r-1adg3ll r-1udh08x\" style=\"\"><div class=\"r-1adg3ll r-13qz1uu\" style=\"padding-bottom: 100%;\"></div><div class=\"r-1p0dtai r-1pi2tsx r-1d2f490 r-u8s1d r-ipm5af r-13qz1uu\"><div aria-label=\"\" class=\"css-1dbjc4n r-sdzlij r-1p0dtai r-1mlwlqe r-1d2f490 r-1udh08x r-u8s1d r-zchlnj r-ipm5af r-417010\"><div class=\"css-1dbjc4n r-1niwhzg r-vvn4in r-u6sd8q r-4gszlv r-1p0dtai r-1pi2tsx r-1d2f490 r-u8s1d r-zchlnj r-ipm5af r-13qz1uu r-1wyyakw\" style='background-image: url(\"https://pbs.twimg.com/profile_images/2552209293/220px-Mars_atmosphere_reasonably_small.jpg\");'></div><img alt=\"\" class=\"css-9pa8cd\" draggable=\"true\" src=\"https://pbs.twimg.com/profile_images/2552209293/220px-Mars_atmosphere_reasonably_small.jpg\"/></div></div></div><div class=\"css-1dbjc4n r-1twgtwe r-sdzlij r-rs99b7 r-1p0dtai r-1mi75qu r-1d2f490 r-1ny4l3l r-u8s1d r-zchlnj r-ipm5af r-o7ynqc r-6416eg\"></div></a></div></div></div><div class=\"css-1dbjc4n r-1iusvr4 r-16y2uox r-1777fci r-1mi0q7o\"><div class=\"css-1dbjc4n\"><div class=\"css-1dbjc4n r-zl2h9q\"><div class=\"css-1dbjc4n r-1awozwy r-18u37iz r-1wtj0ep\"><div class=\"css-1dbjc4n r-1d09ksm r-18u37iz r-1wbh5a2\"><div class=\"css-1dbjc4n r-1wbh5a2 r-dnmrzs\"><a class=\"css-4rbku5 css-18t94o4 css-1dbjc4n r-1loqt21 r-1wbh5a2 r-dnmrzs r-1ny4l3l\" data-focusable=\"true\" href=\"/MarsWxReport\" role=\"link\"><div class=\"css-1dbjc4n r-1awozwy r-18u37iz r-1wbh5a2 r-dnmrzs r-1ny4l3l\"><div class=\"css-1dbjc4n r-1awozwy r-18u37iz r-dnmrzs\"><div class=\"css-901oao css-bfa6kz r-hkyrab r-1qd0xha r-a023e6 r-vw2c0b r-ad9z0x r-bcqeeo r-3s2u2q r-qvutc0\" dir=\"auto\"><span class=\"css-901oao css-16my406 r-1qd0xha r-ad9z0x r-bcqeeo r-qvutc0\"><span class=\"css-901oao css-16my406 r-1qd0xha r-ad9z0x r-bcqeeo r-qvutc0\">Mars Weather</span></span></div><div class=\"css-901oao r-hkyrab r-18u37iz r-1q142lx r-1qd0xha r-a023e6 r-16dba41 r-ad9z0x r-bcqeeo r-qvutc0\" dir=\"auto\"></div></div><div class=\"css-1dbjc4n r-18u37iz r-1wbh5a2 r-1f6r7vd\"><div class=\"css-901oao css-bfa6kz r-1re7ezh r-18u37iz r-1qd0xha r-a023e6 r-16dba41 r-ad9z0x r-bcqeeo r-qvutc0\" dir=\"ltr\"><span class=\"css-901oao css-16my406 r-1qd0xha r-ad9z0x r-bcqeeo r-qvutc0\">@MarsWxReport</span></div></div></div></a></div><div aria-hidden=\"true\" class=\"css-901oao r-1re7ezh r-1q142lx r-1qd0xha r-a023e6 r-16dba41 r-ad9z0x r-bcqeeo r-ou255f r-qvutc0\" dir=\"auto\"><span class=\"css-901oao css-16my406 r-1qd0xha r-ad9z0x r-bcqeeo r-qvutc0\">·</span></div><a aria-label=\"Jun 12\" class=\"r-1re7ezh r-1loqt21 r-1q142lx r-1qd0xha r-a023e6 r-16dba41 r-ad9z0x r-bcqeeo r-3s2u2q r-qvutc0 css-4rbku5 css-18t94o4 css-901oao\" data-focusable=\"true\" dir=\"auto\" href=\"/MarsWxReport/status/1271545615126802434\" role=\"link\" title=\"4:51 PM · Jun 12, 2020\"><time datetime=\"2020-06-12T20:51:13.000Z\">Jun 12</time></a></div><div class=\"css-1dbjc4n r-18u37iz r-1h0z5md r-1joea0r\"><div aria-haspopup=\"true\" aria-label=\"More\" class=\"css-18t94o4 css-1dbjc4n r-1777fci r-11cpok1 r-1ny4l3l r-bztko3 r-lrvibr\" data-focusable=\"true\" data-testid=\"caret\" role=\"button\" tabindex=\"0\"><div class=\"css-901oao r-1awozwy r-1re7ezh r-6koalj r-1qd0xha r-a023e6 r-16dba41 r-1h0z5md r-ad9z0x r-bcqeeo r-o7ynqc r-clp7b1 r-3s2u2q r-qvutc0\" dir=\"ltr\"><div class=\"css-1dbjc4n r-xoduu5\"><div class=\"css-1dbjc4n r-1niwhzg r-sdzlij r-1p0dtai r-xoduu5 r-1d2f490 r-podbf7 r-u8s1d r-zchlnj r-ipm5af r-o7ynqc r-6416eg\"></div><svg class=\"r-4qtqp9 r-yyyyoo r-ip8ujx r-dnmrzs r-bnwqim r-1plcrui r-lrvibr r-27tl0q\" viewbox=\"0 0 24 24\"><g><path d=\"M20.207 8.147c-.39-.39-1.023-.39-1.414 0L12 14.94 5.207 8.147c-.39-.39-1.023-.39-1.414 0-.39.39-.39 1.023 0 1.414l7.5 7.5c.195.196.45.294.707.294s.512-.098.707-.293l7.5-7.5c.39-.39.39-1.022 0-1.413z\"></path></g></svg></div></div></div></div></div></div></div><div class=\"css-1dbjc4n\"><div class=\"css-1dbjc4n\"><div class=\"css-901oao r-hkyrab r-1qd0xha r-a023e6 r-16dba41 r-ad9z0x r-bcqeeo r-bnwqim r-qvutc0\" dir=\"auto\" lang=\"en\"><span class=\"css-901oao css-16my406 r-1qd0xha r-ad9z0x r-bcqeeo r-qvutc0\">InSight sol 548 (2020-06-11) low -91.2ºC (-132.1ºF) high -2.8ºC (26.9ºF)\n",
       " winds from the SW at 4.8 m/s (10.8 mph) gusting to 20.1 m/s (45.0 mph)\n",
       " pressure at 7.40 hPa</span></div></div><div class=\"css-1dbjc4n\"><div class=\"css-1dbjc4n\"><div class=\"css-1dbjc4n r-1udh08x\"><div class=\"css-1dbjc4n r-9x6qib r-t23y2h r-1phboty r-rs99b7 r-156q2ks r-1udh08x\"><div class=\"css-1dbjc4n\"><a class=\"css-4rbku5 css-18t94o4 css-1dbjc4n r-1loqt21 r-1ny4l3l\" data-focusable=\"true\" href=\"/MarsWxReport/status/1271545615126802434/photo/1\" role=\"link\"><div class=\"css-1dbjc4n r-1adg3ll r-1udh08x\" style=\"\"><div class=\"r-1adg3ll r-13qz1uu\" style=\"padding-bottom: 56.25%;\"></div><div class=\"r-1p0dtai r-1pi2tsx r-1d2f490 r-u8s1d r-ipm5af r-13qz1uu\"><div aria-label=\"Image\" class=\"css-1dbjc4n r-1p0dtai r-1mlwlqe r-1d2f490 r-11wrixw r-1udh08x r-u8s1d r-zchlnj r-ipm5af r-417010\" style=\"margin-bottom: 0px; margin-right: 0px; margin-top: 0px;\"><div class=\"css-1dbjc4n r-1niwhzg r-vvn4in r-u6sd8q r-4gszlv r-1p0dtai r-1pi2tsx r-1d2f490 r-u8s1d r-zchlnj r-ipm5af r-13qz1uu r-1wyyakw\" style='background-image: url(\"https://pbs.twimg.com/media/EaVv_wPXsAgVDnL?format=jpg&amp;name=medium\");'></div><img alt=\"Image\" class=\"css-9pa8cd\" draggable=\"true\" src=\"https://pbs.twimg.com/media/EaVv_wPXsAgVDnL?format=jpg&amp;name=medium\"/></div></div></div></a></div></div></div></div></div><div aria-label=\"7 Retweets, 20 likes\" class=\"css-1dbjc4n r-18u37iz r-1wtj0ep r-156q2ks r-1mdbhws\" role=\"group\"><div class=\"css-1dbjc4n r-1iusvr4 r-18u37iz r-16y2uox r-1h0z5md\"><div aria-label=\"Reply\" class=\"css-18t94o4 css-1dbjc4n r-1777fci r-11cpok1 r-1ny4l3l r-bztko3 r-lrvibr\" data-focusable=\"true\" data-testid=\"reply\" role=\"button\" tabindex=\"0\"><div class=\"css-901oao r-1awozwy r-1re7ezh r-6koalj r-1qd0xha r-a023e6 r-16dba41 r-1h0z5md r-ad9z0x r-bcqeeo r-o7ynqc r-clp7b1 r-3s2u2q r-qvutc0\" dir=\"ltr\"><div class=\"css-1dbjc4n r-xoduu5\"><div class=\"css-1dbjc4n r-1niwhzg r-sdzlij r-1p0dtai r-xoduu5 r-1d2f490 r-xf4iuw r-u8s1d r-zchlnj r-ipm5af r-o7ynqc r-6416eg\"></div><svg class=\"r-4qtqp9 r-yyyyoo r-1xvli5t r-dnmrzs r-bnwqim r-1plcrui r-lrvibr r-1hdv0qi\" viewbox=\"0 0 24 24\"><g><path d=\"M14.046 2.242l-4.148-.01h-.002c-4.374 0-7.8 3.427-7.8 7.802 0 4.098 3.186 7.206 7.465 7.37v3.828c0 .108.044.286.12.403.142.225.384.347.632.347.138 0 .277-.038.402-.118.264-.168 6.473-4.14 8.088-5.506 1.902-1.61 3.04-3.97 3.043-6.312v-.017c-.006-4.367-3.43-7.787-7.8-7.788zm3.787 12.972c-1.134.96-4.862 3.405-6.772 4.643V16.67c0-.414-.335-.75-.75-.75h-.396c-3.66 0-6.318-2.476-6.318-5.886 0-3.534 2.768-6.302 6.3-6.302l4.147.01h.002c3.532 0 6.3 2.766 6.302 6.296-.003 1.91-.942 3.844-2.514 5.176z\"></path></g></svg></div></div></div></div><div class=\"css-1dbjc4n r-1iusvr4 r-18u37iz r-16y2uox r-1h0z5md\"><div aria-haspopup=\"true\" aria-label=\"7 Retweets. Retweet\" class=\"css-18t94o4 css-1dbjc4n r-1777fci r-11cpok1 r-1ny4l3l r-bztko3 r-lrvibr\" data-focusable=\"true\" data-testid=\"retweet\" role=\"button\" tabindex=\"0\"><div class=\"css-901oao r-1awozwy r-1re7ezh r-6koalj r-1qd0xha r-a023e6 r-16dba41 r-1h0z5md r-ad9z0x r-bcqeeo r-o7ynqc r-clp7b1 r-3s2u2q r-qvutc0\" dir=\"ltr\"><div class=\"css-1dbjc4n r-xoduu5\"><div class=\"css-1dbjc4n r-1niwhzg r-sdzlij r-1p0dtai r-xoduu5 r-1d2f490 r-xf4iuw r-u8s1d r-zchlnj r-ipm5af r-o7ynqc r-6416eg\"></div><svg class=\"r-4qtqp9 r-yyyyoo r-1xvli5t r-dnmrzs r-bnwqim r-1plcrui r-lrvibr r-1hdv0qi\" viewbox=\"0 0 24 24\"><g><path d=\"M23.77 15.67c-.292-.293-.767-.293-1.06 0l-2.22 2.22V7.65c0-2.068-1.683-3.75-3.75-3.75h-5.85c-.414 0-.75.336-.75.75s.336.75.75.75h5.85c1.24 0 2.25 1.01 2.25 2.25v10.24l-2.22-2.22c-.293-.293-.768-.293-1.06 0s-.294.768 0 1.06l3.5 3.5c.145.147.337.22.53.22s.383-.072.53-.22l3.5-3.5c.294-.292.294-.767 0-1.06zm-10.66 3.28H7.26c-1.24 0-2.25-1.01-2.25-2.25V6.46l2.22 2.22c.148.147.34.22.532.22s.384-.073.53-.22c.293-.293.293-.768 0-1.06l-3.5-3.5c-.293-.294-.768-.294-1.06 0l-3.5 3.5c-.294.292-.294.767 0 1.06s.767.293 1.06 0l2.22-2.22V16.7c0 2.068 1.683 3.75 3.75 3.75h5.85c.414 0 .75-.336.75-.75s-.337-.75-.75-.75z\"></path></g></svg></div><div class=\"css-1dbjc4n r-xoduu5 r-1udh08x\"><span class=\"css-901oao css-16my406 r-1qd0xha r-n6v787 r-1sf4r6n r-1n0xq6e r-bcqeeo r-d3hbe1 r-1wgg2b2 r-axxi2z r-qvutc0\"><span class=\"css-901oao css-16my406 r-1qd0xha r-ad9z0x r-bcqeeo r-qvutc0\">7</span></span></div></div></div></div><div class=\"css-1dbjc4n r-1iusvr4 r-18u37iz r-16y2uox r-1h0z5md\"><div aria-label=\"20 Likes. Like\" class=\"css-18t94o4 css-1dbjc4n r-1777fci r-11cpok1 r-1ny4l3l r-bztko3 r-lrvibr\" data-focusable=\"true\" data-testid=\"like\" role=\"button\" tabindex=\"0\"><div class=\"css-901oao r-1awozwy r-1re7ezh r-6koalj r-1qd0xha r-a023e6 r-16dba41 r-1h0z5md r-ad9z0x r-bcqeeo r-o7ynqc r-clp7b1 r-3s2u2q r-qvutc0\" dir=\"ltr\"><div class=\"css-1dbjc4n r-xoduu5\"><div class=\"css-1dbjc4n r-1niwhzg r-sdzlij r-1p0dtai r-xoduu5 r-1d2f490 r-xf4iuw r-u8s1d r-zchlnj r-ipm5af r-o7ynqc r-6416eg\"></div><svg class=\"r-4qtqp9 r-yyyyoo r-1xvli5t r-dnmrzs r-bnwqim r-1plcrui r-lrvibr r-1hdv0qi\" viewbox=\"0 0 24 24\"><g><path d=\"M12 21.638h-.014C9.403 21.59 1.95 14.856 1.95 8.478c0-3.064 2.525-5.754 5.403-5.754 2.29 0 3.83 1.58 4.646 2.73.814-1.148 2.354-2.73 4.645-2.73 2.88 0 5.404 2.69 5.404 5.755 0 6.376-7.454 13.11-10.037 13.157H12zM7.354 4.225c-2.08 0-3.903 1.988-3.903 4.255 0 5.74 7.034 11.596 8.55 11.658 1.518-.062 8.55-5.917 8.55-11.658 0-2.267-1.823-4.255-3.903-4.255-2.528 0-3.94 2.936-3.952 2.965-.23.562-1.156.562-1.387 0-.014-.03-1.425-2.965-3.954-2.965z\"></path></g></svg></div><div class=\"css-1dbjc4n r-xoduu5 r-1udh08x\"><span class=\"css-901oao css-16my406 r-1qd0xha r-n6v787 r-1sf4r6n r-1n0xq6e r-bcqeeo r-d3hbe1 r-1wgg2b2 r-axxi2z r-qvutc0\"><span class=\"css-901oao css-16my406 r-1qd0xha r-ad9z0x r-bcqeeo r-qvutc0\">20</span></span></div></div></div></div><div class=\"css-1dbjc4n r-1mlwlqe r-18u37iz r-18kxxzh r-1h0z5md\"><div aria-haspopup=\"true\" aria-label=\"Share Tweet\" class=\"css-18t94o4 css-1dbjc4n r-1777fci r-11cpok1 r-1ny4l3l r-bztko3 r-lrvibr\" data-focusable=\"true\" role=\"button\" tabindex=\"0\"><div class=\"css-901oao r-1awozwy r-1re7ezh r-6koalj r-1qd0xha r-a023e6 r-16dba41 r-1h0z5md r-ad9z0x r-bcqeeo r-o7ynqc r-clp7b1 r-3s2u2q r-qvutc0\" dir=\"ltr\"><div class=\"css-1dbjc4n r-xoduu5\"><div class=\"css-1dbjc4n r-1niwhzg r-sdzlij r-1p0dtai r-xoduu5 r-1d2f490 r-xf4iuw r-u8s1d r-zchlnj r-ipm5af r-o7ynqc r-6416eg\"></div><svg class=\"r-4qtqp9 r-yyyyoo r-1xvli5t r-dnmrzs r-bnwqim r-1plcrui r-lrvibr r-1hdv0qi\" viewbox=\"0 0 24 24\"><g><path d=\"M17.53 7.47l-5-5c-.293-.293-.768-.293-1.06 0l-5 5c-.294.293-.294.768 0 1.06s.767.294 1.06 0l3.72-3.72V15c0 .414.336.75.75.75s.75-.336.75-.75V4.81l3.72 3.72c.146.147.338.22.53.22s.384-.072.53-.22c.293-.293.293-.767 0-1.06z\"></path><path d=\"M19.708 21.944H4.292C3.028 21.944 2 20.916 2 19.652V14c0-.414.336-.75.75-.75s.75.336.75.75v5.652c0 .437.355.792.792.792h15.416c.437 0 .792-.355.792-.792V14c0-.414.336-.75.75-.75s.75.336.75.75v5.652c0 1.264-1.028 2.292-2.292 2.292z\"></path></g></svg></div></div></div></div></div></div></div></div>]"
      ]
     },
     "execution_count": 52,
     "metadata": {},
     "output_type": "execute_result"
    }
   ],
   "source": [
    "soup.find_all(attrs={'data-testid': 'tweet'})"
   ]
  },
  {
   "cell_type": "code",
   "execution_count": 28,
   "metadata": {},
   "outputs": [],
   "source": [
    "#Visit the Mars Facts webpage\n",
    "url = 'https://space-facts.com/mars/'\n",
    "browser.visit(url)"
   ]
  },
  {
   "cell_type": "code",
   "execution_count": 29,
   "metadata": {},
   "outputs": [
    {
     "data": {
      "text/plain": [
       "'<table border=\"1\" class=\"dataframe\">\\n  <thead>\\n    <tr style=\"text-align: right;\">\\n      <th></th>\\n      <th>0</th>\\n      <th>1</th>\\n    </tr>\\n  </thead>\\n  <tbody>\\n    <tr>\\n      <th>0</th>\\n      <td>Equatorial Diameter:</td>\\n      <td>6,792 km</td>\\n    </tr>\\n    <tr>\\n      <th>1</th>\\n      <td>Polar Diameter:</td>\\n      <td>6,752 km</td>\\n    </tr>\\n    <tr>\\n      <th>2</th>\\n      <td>Mass:</td>\\n      <td>6.39 × 10^23 kg (0.11 Earths)</td>\\n    </tr>\\n    <tr>\\n      <th>3</th>\\n      <td>Moons:</td>\\n      <td>2 (Phobos &amp; Deimos)</td>\\n    </tr>\\n    <tr>\\n      <th>4</th>\\n      <td>Orbit Distance:</td>\\n      <td>227,943,824 km (1.38 AU)</td>\\n    </tr>\\n    <tr>\\n      <th>5</th>\\n      <td>Orbit Period:</td>\\n      <td>687 days (1.9 years)</td>\\n    </tr>\\n    <tr>\\n      <th>6</th>\\n      <td>Surface Temperature:</td>\\n      <td>-87 to -5 °C</td>\\n    </tr>\\n    <tr>\\n      <th>7</th>\\n      <td>First Record:</td>\\n      <td>2nd millennium BC</td>\\n    </tr>\\n    <tr>\\n      <th>8</th>\\n      <td>Recorded By:</td>\\n      <td>Egyptian astronomers</td>\\n    </tr>\\n  </tbody>\\n</table>'"
      ]
     },
     "execution_count": 29,
     "metadata": {},
     "output_type": "execute_result"
    }
   ],
   "source": [
    "#Extract table from website\n",
    "import pandas as pd\n",
    "tables = pd.read_html(url)\n",
    "tables[0]\n",
    "html_table = tables[0].to_html()\n",
    "html_table"
   ]
  },
  {
   "cell_type": "code",
   "execution_count": null,
   "metadata": {},
   "outputs": [],
   "source": []
  },
  {
   "cell_type": "code",
   "execution_count": 30,
   "metadata": {},
   "outputs": [],
   "source": [
    "#Visit the site for the first picture\n",
    "url='https://astrogeology.usgs.gov/search/map/Mars/Viking/cerberus_enhanced'\n",
    "browser.visit(url)"
   ]
  },
  {
   "cell_type": "code",
   "execution_count": 31,
   "metadata": {},
   "outputs": [],
   "source": [
    "#Scrape the site for the first picture\n",
    "html = browser.html\n",
    "soup = BeautifulSoup(html, 'html.parser')"
   ]
  },
  {
   "cell_type": "code",
   "execution_count": 32,
   "metadata": {},
   "outputs": [],
   "source": [
    "#Create empty list allow construction of dictionary to store titles and picture url\n",
    "hemisphere_image_urls=[]"
   ]
  },
  {
   "cell_type": "code",
   "execution_count": 33,
   "metadata": {},
   "outputs": [
    {
     "name": "stdout",
     "output_type": "stream",
     "text": [
      "[{'title': 'Cerberus Hemisphere Enhanced', 'img_url': 'https://astrogeology.usgs.gov/cache/images/f5e372a36edfa389625da6d0cc25d905_cerberus_enhanced.tif_full.jpg'}]\n"
     ]
    }
   ],
   "source": [
    "#Extract first image url and its title\n",
    "Mars1 = soup.find_all('img', class_='wide-image')\n",
    "Mars_img_url1=Mars1[0]['src']\n",
    "Mars_img_url1='https://astrogeology.usgs.gov'+Mars_img_url1\n",
    "Mars_title_1=soup.find_all('h2', class_='title')\n",
    "Mars_title1=Mars_title_1[0].getText()\n",
    "\n",
    "#Load extracted title and picture url\n",
    "hemisphere_image_urls.append({})\n",
    "hemisphere_image_urls[0]['title']=Mars_title1\n",
    "hemisphere_image_urls[0]['img_url']=Mars_img_url1\n",
    "print(hemisphere_image_urls)"
   ]
  },
  {
   "cell_type": "code",
   "execution_count": 34,
   "metadata": {},
   "outputs": [],
   "source": [
    "#Visit the site for the second picture\n",
    "url='https://astrogeology.usgs.gov/search/map/Mars/Viking/schiaparelli_enhanced'\n",
    "browser.visit(url)"
   ]
  },
  {
   "cell_type": "code",
   "execution_count": 35,
   "metadata": {},
   "outputs": [],
   "source": [
    "#Scrape the site for the second picture\n",
    "html = browser.html\n",
    "soup = BeautifulSoup(html, 'html.parser')"
   ]
  },
  {
   "cell_type": "code",
   "execution_count": 36,
   "metadata": {},
   "outputs": [
    {
     "name": "stdout",
     "output_type": "stream",
     "text": [
      "Cerberus Hemisphere Enhanced\n"
     ]
    }
   ],
   "source": [
    "#Extract second image and its title\n",
    "Mars2 = soup.find_all('img', class_='wide-image')\n",
    "Mars_img_url2=Mars2[0]['src']\n",
    "Mars_img_url2='https://astrogeology.usgs.gov'+Mars_img_url2\n",
    "Mars_title_2=soup.find_all('h2', class_='title')\n",
    "Mars_title2=Mars_title_2[0].getText()\n",
    "\n",
    "#Load extracted title and picture url\n",
    "hemisphere_image_urls.append({})\n",
    "hemisphere_image_urls[1]['title']=Mars_title2\n",
    "hemisphere_image_urls[1]['img_url']=Mars_img_url2\n",
    "print(hemisphere_image_urls[0]['title'])"
   ]
  },
  {
   "cell_type": "code",
   "execution_count": 37,
   "metadata": {},
   "outputs": [],
   "source": [
    "#Visit the site for the third picture\n",
    "url='https://astrogeology.usgs.gov/search/map/Mars/Viking/syrtis_major_enhanced'\n",
    "browser.visit(url)"
   ]
  },
  {
   "cell_type": "code",
   "execution_count": 38,
   "metadata": {},
   "outputs": [],
   "source": [
    "#Scrape the site for the third picture\n",
    "html = browser.html\n",
    "soup = BeautifulSoup(html, 'html.parser')"
   ]
  },
  {
   "cell_type": "code",
   "execution_count": 39,
   "metadata": {},
   "outputs": [
    {
     "name": "stdout",
     "output_type": "stream",
     "text": [
      "[{'title': 'Cerberus Hemisphere Enhanced', 'img_url': 'https://astrogeology.usgs.gov/cache/images/f5e372a36edfa389625da6d0cc25d905_cerberus_enhanced.tif_full.jpg'}, {'title': 'Schiaparelli Hemisphere Enhanced', 'img_url': 'https://astrogeology.usgs.gov/cache/images/3778f7b43bbbc89d6e3cfabb3613ba93_schiaparelli_enhanced.tif_full.jpg'}, {'title': 'Syrtis Major Hemisphere Enhanced', 'img_url': 'https://astrogeology.usgs.gov/cache/images/555e6403a6ddd7ba16ddb0e471cadcf7_syrtis_major_enhanced.tif_full.jpg'}]\n"
     ]
    }
   ],
   "source": [
    "#Extract third image and its title\n",
    "Mars3 = soup.find_all('img', class_='wide-image')\n",
    "Mars_img_url3=Mars3[0]['src']\n",
    "Mars_img_url3='https://astrogeology.usgs.gov'+Mars_img_url3\n",
    "Mars_title_3=soup.find_all('h2', class_='title')\n",
    "Mars_title3=Mars_title_3[0].getText()\n",
    "\n",
    "#Load extracted title and picture url\n",
    "hemisphere_image_urls.append({})\n",
    "hemisphere_image_urls[2]['title']=Mars_title3\n",
    "hemisphere_image_urls[2]['img_url']=Mars_img_url3\n",
    "print(hemisphere_image_urls)"
   ]
  },
  {
   "cell_type": "code",
   "execution_count": 40,
   "metadata": {},
   "outputs": [],
   "source": [
    "#Visit the site for the last picture\n",
    "url='https://astrogeology.usgs.gov/search/map/Mars/Viking/valles_marineris_enhanced'\n",
    "browser.visit(url)"
   ]
  },
  {
   "cell_type": "code",
   "execution_count": 41,
   "metadata": {},
   "outputs": [],
   "source": [
    "#Scrape the site for the last picture\n",
    "html = browser.html\n",
    "soup = BeautifulSoup(html, 'html.parser')"
   ]
  },
  {
   "cell_type": "code",
   "execution_count": 42,
   "metadata": {},
   "outputs": [
    {
     "name": "stdout",
     "output_type": "stream",
     "text": [
      "[{'title': 'Cerberus Hemisphere Enhanced', 'img_url': 'https://astrogeology.usgs.gov/cache/images/f5e372a36edfa389625da6d0cc25d905_cerberus_enhanced.tif_full.jpg'}, {'title': 'Schiaparelli Hemisphere Enhanced', 'img_url': 'https://astrogeology.usgs.gov/cache/images/3778f7b43bbbc89d6e3cfabb3613ba93_schiaparelli_enhanced.tif_full.jpg'}, {'title': 'Syrtis Major Hemisphere Enhanced', 'img_url': 'https://astrogeology.usgs.gov/cache/images/555e6403a6ddd7ba16ddb0e471cadcf7_syrtis_major_enhanced.tif_full.jpg'}, {'title': 'Valles Marineris Hemisphere Enhanced', 'img_url': 'https://astrogeology.usgs.gov/cache/images/b3c7c6c9138f57b4756be9b9c43e3a48_valles_marineris_enhanced.tif_full.jpg'}]\n"
     ]
    }
   ],
   "source": [
    "#Extract last image and its title\n",
    "Mars4 = soup.find_all('img', class_='wide-image')\n",
    "Mars_img_url4=Mars4[0]['src']\n",
    "Mars_img_url4='https://astrogeology.usgs.gov'+Mars_img_url4\n",
    "Mars_title_4=soup.find_all('h2', class_='title')\n",
    "Mars_title4=Mars_title_4[0].getText()\n",
    "\n",
    "#Load extracted title and picture url\n",
    "hemisphere_image_urls.append({})\n",
    "hemisphere_image_urls[3]['title']=Mars_title4\n",
    "hemisphere_image_urls[3]['img_url']=Mars_img_url4\n",
    "print(hemisphere_image_urls)"
   ]
  },
  {
   "cell_type": "code",
   "execution_count": null,
   "metadata": {},
   "outputs": [],
   "source": []
  },
  {
   "cell_type": "code",
   "execution_count": 43,
   "metadata": {},
   "outputs": [
    {
     "name": "stdout",
     "output_type": "stream",
     "text": [
      "{'a': '1'}\n",
      "{'b': '2'}\n"
     ]
    }
   ],
   "source": [
    "c={\"a\":\"1\"}\n",
    "b={\"b\":\"2\"}\n",
    "print(c)\n",
    "print(b)"
   ]
  },
  {
   "cell_type": "code",
   "execution_count": 44,
   "metadata": {},
   "outputs": [
    {
     "ename": "AttributeError",
     "evalue": "'dict' object has no attribute 'append'",
     "output_type": "error",
     "traceback": [
      "\u001b[0;31m---------------------------------------------------------------------------\u001b[0m",
      "\u001b[0;31mAttributeError\u001b[0m                            Traceback (most recent call last)",
      "\u001b[0;32m<ipython-input-44-67199fdeac60>\u001b[0m in \u001b[0;36m<module>\u001b[0;34m\u001b[0m\n\u001b[0;32m----> 1\u001b[0;31m \u001b[0mc\u001b[0m\u001b[0;34m.\u001b[0m\u001b[0mappend\u001b[0m\u001b[0;34m(\u001b[0m\u001b[0mb\u001b[0m\u001b[0;34m)\u001b[0m\u001b[0;34m\u001b[0m\u001b[0;34m\u001b[0m\u001b[0m\n\u001b[0m",
      "\u001b[0;31mAttributeError\u001b[0m: 'dict' object has no attribute 'append'"
     ]
    }
   ],
   "source": [
    "c.append(b)"
   ]
  },
  {
   "cell_type": "code",
   "execution_count": 45,
   "metadata": {},
   "outputs": [
    {
     "data": {
      "text/plain": [
       "'1'"
      ]
     },
     "execution_count": 45,
     "metadata": {},
     "output_type": "execute_result"
    }
   ],
   "source": [
    "c['a']"
   ]
  },
  {
   "cell_type": "code",
   "execution_count": 30,
   "metadata": {},
   "outputs": [],
   "source": [
    "c['f']=1"
   ]
  },
  {
   "cell_type": "code",
   "execution_count": 31,
   "metadata": {},
   "outputs": [
    {
     "data": {
      "text/plain": [
       "{'a': '1', 'f': 1}"
      ]
     },
     "execution_count": 31,
     "metadata": {},
     "output_type": "execute_result"
    }
   ],
   "source": [
    "c"
   ]
  },
  {
   "cell_type": "code",
   "execution_count": 32,
   "metadata": {},
   "outputs": [],
   "source": [
    "c=[c]"
   ]
  },
  {
   "cell_type": "code",
   "execution_count": 64,
   "metadata": {},
   "outputs": [
    {
     "data": {
      "text/plain": [
       "52"
      ]
     },
     "execution_count": 64,
     "metadata": {},
     "output_type": "execute_result"
    }
   ],
   "source": [
    "\n",
    "c[1]['yu'].find('tr')"
   ]
  },
  {
   "cell_type": "code",
   "execution_count": 33,
   "metadata": {},
   "outputs": [],
   "source": [
    "c.append({'yu':html_table})"
   ]
  },
  {
   "cell_type": "code",
   "execution_count": 66,
   "metadata": {},
   "outputs": [
    {
     "data": {
      "text/plain": [
       "'<table border=\"1\" class=\"dataframe\">\\n  <thead>\\n    <tr style=\"text-align: right;\">\\n      <th></th>\\n      <th>0</th>\\n      <th>1</th>\\n    </tr>\\n  </thead>\\n  <tbody>\\n    <tr>\\n      <th>0</th>\\n      <td>Equatorial Diameter:</td>\\n      <td>6,792 km</td>\\n    </tr>\\n    <tr>\\n      <th>1</th>\\n      <td>Polar Diameter:</td>\\n      <td>6,752 km</td>\\n    </tr>\\n    <tr>\\n      <th>2</th>\\n      <td>Mass:</td>\\n      <td>6.39 × 10^23 kg (0.11 Earths)</td>\\n    </tr>\\n    <tr>\\n      <th>3</th>\\n      <td>Moons:</td>\\n      <td>2 (Phobos &amp; Deimos)</td>\\n    </tr>\\n    <tr>\\n      <th>4</th>\\n      <td>Orbit Distance:</td>\\n      <td>227,943,824 km (1.38 AU)</td>\\n    </tr>\\n    <tr>\\n      <th>5</th>\\n      <td>Orbit Period:</td>\\n      <td>687 days (1.9 years)</td>\\n    </tr>\\n    <tr>\\n      <th>6</th>\\n      <td>Surface Temperature:</td>\\n      <td>-87 to -5 °C</td>\\n    </tr>\\n    <tr>\\n      <th>7</th>\\n      <td>First Record:</td>\\n      <td>2nd millennium BC</td>\\n    </tr>\\n    <tr>\\n      <th>8</th>\\n      <td>Recorded By:</td>\\n      <td>Egyptian astronomers</td>\\n    </tr>\\n  </tbody>\\n</table>'"
      ]
     },
     "execution_count": 66,
     "metadata": {},
     "output_type": "execute_result"
    }
   ],
   "source": [
    "\n",
    "table_htm=c[1]['yu']\n",
    "table_htm"
   ]
  },
  {
   "cell_type": "code",
   "execution_count": 68,
   "metadata": {},
   "outputs": [
    {
     "data": {
      "text/plain": [
       "52"
      ]
     },
     "execution_count": 68,
     "metadata": {},
     "output_type": "execute_result"
    }
   ],
   "source": [
    "table_htm.find('tr')"
   ]
  },
  {
   "cell_type": "code",
   "execution_count": 84,
   "metadata": {},
   "outputs": [
    {
     "ename": "SyntaxError",
     "evalue": "invalid syntax (<ipython-input-84-86b2b2110e29>, line 2)",
     "output_type": "error",
     "traceback": [
      "\u001b[0;36m  File \u001b[0;32m\"<ipython-input-84-86b2b2110e29>\"\u001b[0;36m, line \u001b[0;32m2\u001b[0m\n\u001b[0;31m    var parser = new DOMParser()\u001b[0m\n\u001b[0m             ^\u001b[0m\n\u001b[0;31mSyntaxError\u001b[0m\u001b[0;31m:\u001b[0m invalid syntax\n"
     ]
    }
   ],
   "source": [
    "def function (str):\n",
    "    var parser=new DOMParser()\n",
    "    var doc=parser.parseFromString(str, 'text/html')\n",
    "    return doc.body"
   ]
  },
  {
   "cell_type": "code",
   "execution_count": 83,
   "metadata": {},
   "outputs": [],
   "source": [
    "def apple(j):\n",
    "    print(j)"
   ]
  },
  {
   "cell_type": "code",
   "execution_count": 85,
   "metadata": {},
   "outputs": [
    {
     "name": "stdout",
     "output_type": "stream",
     "text": [
      "bc12321cb\n"
     ]
    }
   ],
   "source": [
    "s = 'abc12321cba'\n",
    "\n",
    "print(s.replace('a', ''))"
   ]
  },
  {
   "cell_type": "code",
   "execution_count": 87,
   "metadata": {},
   "outputs": [
    {
     "data": {
      "text/plain": [
       "'<table border=\"1\" class=\"dataframe\">\\n  <thead>\\n    <tr style=\"text-align: right;\">\\n      <th></th>\\n      <th>0</th>\\n      <th>1</th>\\n    </tr>\\n  </thead>\\n  <tbody>\\n    <tr>\\n      <th>0</th>\\n      <td>Equatorial Diameter:</td>\\n      <td>6792 km</td>\\n    </tr>\\n    <tr>\\n      <th>1</th>\\n      <td>Polar Diameter:</td>\\n      <td>6752 km</td>\\n    </tr>\\n    <tr>\\n      <th>2</th>\\n      <td>Mass:</td>\\n      <td>6.39 × 10^23 kg (0.11 Earths)</td>\\n    </tr>\\n    <tr>\\n      <th>3</th>\\n      <td>Moons:</td>\\n      <td>2 (Phobos &amp; Deimos)</td>\\n    </tr>\\n    <tr>\\n      <th>4</th>\\n      <td>Orbit Distance:</td>\\n      <td>227943824 km (1.38 AU)</td>\\n    </tr>\\n    <tr>\\n      <th>5</th>\\n      <td>Orbit Period:</td>\\n      <td>687 days (1.9 years)</td>\\n    </tr>\\n    <tr>\\n      <th>6</th>\\n      <td>Surface Temperature:</td>\\n      <td>-87 to -5 °C</td>\\n    </tr>\\n    <tr>\\n      <th>7</th>\\n      <td>First Record:</td>\\n      <td>2nd millennium BC</td>\\n    </tr>\\n    <tr>\\n      <th>8</th>\\n      <td>Recorded By:</td>\\n      <td>Egyptian astronomers</td>\\n    </tr>\\n  </tbody>\\n</table>'"
      ]
     },
     "execution_count": 87,
     "metadata": {},
     "output_type": "execute_result"
    }
   ],
   "source": [
    "table_htm.split('\\n')"
   ]
  },
  {
   "cell_type": "code",
   "execution_count": 100,
   "metadata": {},
   "outputs": [
    {
     "data": {
      "text/plain": [
       "'<table border=\"1\" class=\"dataframe\">  <thead>    <tr style=\"text-align: right;\">      <th></th>      <th>0</th>      <th>1</th>    </tr>  </thead>  <tbody>    <tr>      <th>0</th>      <td>Equatorial Diameter:</td>      <td>6,792 km</td>    </tr>    <tr>      <th>1</th>      <td>Polar Diameter:</td>      <td>6,752 km</td>    </tr>    <tr>      <th>2</th>      <td>Mass:</td>      <td>6.39 × 10^23 kg (0.11 Earths)</td>    </tr>    <tr>      <th>3</th>      <td>Moons:</td>      <td>2 (Phobos &amp; Deimos)</td>    </tr>    <tr>      <th>4</th>      <td>Orbit Distance:</td>      <td>227,943,824 km (1.38 AU)</td>    </tr>    <tr>      <th>5</th>      <td>Orbit Period:</td>      <td>687 days (1.9 years)</td>    </tr>    <tr>      <th>6</th>      <td>Surface Temperature:</td>      <td>-87 to -5 °C</td>    </tr>    <tr>      <th>7</th>      <td>First Record:</td>      <td>2nd millennium BC</td>    </tr>    <tr>      <th>8</th>      <td>Recorded By:</td>      <td>Egyptian astronomers</td>    </tr>  </tbody></table>'"
      ]
     },
     "execution_count": 100,
     "metadata": {},
     "output_type": "execute_result"
    }
   ],
   "source": [
    "table_list=table_htm.split('\\n')\n",
    "table_re=''.join(table_list)\n",
    "table_re"
   ]
  },
  {
   "cell_type": "code",
   "execution_count": null,
   "metadata": {},
   "outputs": [],
   "source": []
  }
 ],
 "metadata": {
  "kernelspec": {
   "display_name": "Python 3",
   "language": "python",
   "name": "python3"
  },
  "language_info": {
   "codemirror_mode": {
    "name": "ipython",
    "version": 3
   },
   "file_extension": ".py",
   "mimetype": "text/x-python",
   "name": "python",
   "nbconvert_exporter": "python",
   "pygments_lexer": "ipython3",
   "version": "3.6.10"
  }
 },
 "nbformat": 4,
 "nbformat_minor": 4
}
